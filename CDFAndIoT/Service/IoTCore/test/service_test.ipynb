{
 "cells": [
  {
   "cell_type": "code",
   "execution_count": 1,
   "metadata": {},
   "outputs": [],
   "source": [
    "import os\n",
    "from gtt.service.iot_core import IoTCoreService\n",
    "from gtt.data_model.rt_radio_message import GPSData\n",
    "\n",
    "os.environ[\"REDIS_URL\"] = \"localhost\"\n",
    "os.environ[\"REDIS_PORT\"] = \"6379\""
   ]
  },
  {
   "cell_type": "code",
   "execution_count": 10,
   "metadata": {},
   "outputs": [],
   "source": [
    "iot_service = IoTCoreService()\n",
    "\n",
    "iot_service.update(\n",
    "    \"tsptest-gtfs-realtime-1\", \n",
    "    operational=True\n",
    ")"
   ]
  }
 ],
 "metadata": {
  "kernelspec": {
   "display_name": "Python 3.9.6 ('env': venv)",
   "language": "python",
   "name": "python3"
  },
  "language_info": {
   "codemirror_mode": {
    "name": "ipython",
    "version": 3
   },
   "file_extension": ".py",
   "mimetype": "text/x-python",
   "name": "python",
   "nbconvert_exporter": "python",
   "pygments_lexer": "ipython3",
   "version": "3.9.6"
  },
  "orig_nbformat": 4,
  "vscode": {
   "interpreter": {
    "hash": "637967d50de2251f1fe1aa0dfdfd3d62aadc8a8712dd35ad17a0c678d8fbc815"
   }
  }
 },
 "nbformat": 4,
 "nbformat_minor": 2
}
