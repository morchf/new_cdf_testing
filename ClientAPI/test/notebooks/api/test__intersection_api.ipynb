{
    "cells": [
        {
            "cell_type": "code",
            "execution_count": 1,
            "metadata": {},
            "outputs": [],
            "source": [
                "import os\n",
                "import sys\n",
                "import logging\n",
                "\n",
                "root_path = os.path.abspath(f\"{os.path.abspath('')}/../../../..\")\n",
                "\n",
                "# Libraries\n",
                "sys.path.insert(0, f\"{root_path}/CDFAndIot/API\")\n",
                "sys.path.insert(0, f\"{root_path}/CDFAndIot/DataModel/Intersection\")\n",
                "sys.path.insert(0, f\"{root_path}/CDFAndIot/Service/PhaseSelector\")"
            ]
        },
        {
            "cell_type": "code",
            "execution_count": 2,
            "metadata": {},
            "outputs": [
                {
                    "name": "stdout",
                    "output_type": "stream",
                    "text": [
                        "Note: you may need to restart the kernel to use updated packages.\n",
                        "Note: you may need to restart the kernel to use updated packages.\n",
                        "Note: you may need to restart the kernel to use updated packages.\n",
                        "      Name                    Value             Type    Location\n",
                        "      ----                    -----             ----    --------\n",
                        "   profile                <not set>             None    None\n",
                        "access_key     ****************FIKN shared-credentials-file    \n",
                        "secret_key     ****************ncMi shared-credentials-file    \n",
                        "    region                us-east-1      config-file    ~/.aws/config\n"
                    ]
                }
            ],
            "source": [
                "# Package installs\n",
                "%pip install awscli &> /dev/null\n",
                "%pip install boto3 &> /dev/null\n",
                "%pip install geographiclib &> /dev/null\n",
                "%load_ext autoreload\n",
                "%autoreload 2\n",
                "\n",
                "!aws configure list"
            ]
        },
        {
            "cell_type": "code",
            "execution_count": 3,
            "metadata": {},
            "outputs": [],
            "source": [
                "# Environment\n",
                "os.environ[\"INTERSECTIONS_TABLE_NAME\"] = \"intersection-info\"\n",
                "os.environ[\"INSTANCE_IDS\"] = \"i-03df9aa039ef30ebc\"\n",
                "os.environ[\"AWS_DEFAULT_REGION\"] = \"us-east-1\""
            ]
        },
        {
            "cell_type": "code",
            "execution_count": 4,
            "metadata": {},
            "outputs": [
                {
                    "name": "stdout",
                    "output_type": "stream",
                    "text": [
                        "90 3\n",
                        "186 3\n"
                    ]
                },
                {
                    "data": {
                        "text/plain": [
                            "Intersection(serial_number='V764JN0014', location_type=None, latitude=30.789, longitude=56.122997, make='GTT', model='V764', last_communicated=datetime.datetime(2022, 10, 14, 13, 15, 50, 177511), timezone='PST', operation_mode='Online/Normal', status='Normal', firmware_version='10.05.003', device_type=None, address=None, address_type=None, mac_address='cc69b011001e', device_name='UIAve', time_localization_details=TimeLocalizationDetails(timezone='Pacific Standard Time                                                                                                   ', utc_offset='-480', forward=Date(month='3', date='13', year='2022', hours='2', minutes='0', rule='0'), reverse=Date(month='11', date='6', year='2022', hours='2', minutes='0', rule='0')), last_configured=datetime.datetime(1900, 1, 1, 0, 0), approach_offset=0, approach_map=[ApproachMapEntry(approach_name='Southbound                              ', number_of_coordinates=3, coordinates=[Coordinate(latitude=30.78900000000001, x=0, longitude=56.122997, y=0, width=30), Coordinate(latitude=30.78900000000001, x=0, longitude=56.122997, y=0, width=30), Coordinate(latitude=30.78900000000001, x=0, longitude=56.122997, y=0, width=30)]), ApproachMapEntry(approach_name='Northbound                              ', number_of_coordinates=3, coordinates=[Coordinate(latitude=30.78900000000001, x=0, longitude=56.122997, y=0, width=30), Coordinate(latitude=30.78900000000001, x=0, longitude=56.122997, y=0, width=30), Coordinate(latitude=30.78900000000001, x=0, longitude=56.122997, y=0, width=30)])], configuration_profile=ConfigurationProfile(format_version=164, profile_type=0, profile_index=1, profile_name='Default Profile                         ', number_of_high_codes=0, number_of_low_codes=0, high_priority_relative_priorities_enabled=0, high_priority_relative_priorities=[15, 15, 15, 15, 15, 15, 15, 15, 15, 15, 15, 15, 15, 15, 15, 15], low_priority_relative_priorities_enabled=0, low_priority_relative_priorities=[15, 15, 15, 15, 15, 15, 15, 15, 15, 15, 15, 15, 15, 15, 15, 15], relative_priority_lockout_eta=12, conditional_priority_enabled=0, number_of_channels=4, low_codes=None, high_codes='', channels=[ThresholdChannel(format_version=None, priority=None, channel_name='0', channel='0', call_bridging_enabled=0, call_bridging_time=6, proximity_threshold=3048, high_priority=HighPriorityChannel(call_hold_time=6, eta_thresholds=[0, 30, 30, 30, 30, 30, 30, 30, 30, 30, 30, 30, 30, 30, 30, 30], distance_thresholds=[0, 3048, 3048, 3048, 3048, 3048, 3048, 3048, 3048, 3048, 3048, 3048, 3048, 3048, 3048, 3048], max_call_time=360, preempt_enabled=1, directional_priority=3, call_delay_time=0, off_approach_hold_time=6, primary_intensity_thresholds=[300, 300, 300, 300, 300, 300, 300, 300, 300, 300, 300, 300, 300, 300, 300, 300], auxiliary_intensity_thresholds=[300, 300, 300, 300, 300, 300, 300, 300, 300, 300, 300, 300, 300, 300, 300, 300]), low_priority=LowPriorityChannel(call_hold_time=6, eta_thresholds=[0, 30, 30, 30, 30, 30, 30, 30, 30, 30, 30, 30, 30, 30, 30, 30], distance_thresholds=[0, 3048, 3048, 3048, 3048, 3048, 3048, 3048, 3048, 3048, 3048, 3048, 3048, 3048, 3048, 3048], max_call_time=360, preempt_enabled=0, directional_priority=3, call_delay_time=0, off_approach_hold_time=6, primary_intensity_thresholds=[1200, 1200, 1200, 1200, 1200, 1200, 1200, 1200, 1200, 1200, 1200, 1200, 1200, 1200, 1200, 1200], auxiliary_intensity_thresholds=[1200, 1200, 1200, 1200, 1200, 1200, 1200, 1200, 1200, 1200, 1200, 1200, 1200, 1200, 1200, 1200], reservice_enabled=0, reservice_time=1)), ThresholdChannel(format_version=None, priority=None, channel_name='1', channel='1', call_bridging_enabled=0, call_bridging_time=6, proximity_threshold=3048, high_priority=HighPriorityChannel(call_hold_time=6, eta_thresholds=[0, 30, 30, 30, 30, 30, 30, 30, 30, 30, 30, 30, 30, 30, 30, 30], distance_thresholds=[0, 3048, 3048, 3048, 3048, 3048, 3048, 3048, 3048, 3048, 3048, 3048, 3048, 3048, 3048, 3048], max_call_time=360, preempt_enabled=1, directional_priority=3, call_delay_time=0, off_approach_hold_time=6, primary_intensity_thresholds=[300, 300, 300, 300, 300, 300, 300, 300, 300, 300, 300, 300, 300, 300, 300, 300], auxiliary_intensity_thresholds=[300, 300, 300, 300, 300, 300, 300, 300, 300, 300, 300, 300, 300, 300, 300, 300]), low_priority=LowPriorityChannel(call_hold_time=6, eta_thresholds=[0, 30, 30, 30, 30, 30, 30, 30, 30, 30, 30, 30, 30, 30, 30, 30], distance_thresholds=[0, 3048, 3048, 3048, 3048, 3048, 3048, 3048, 3048, 3048, 3048, 3048, 3048, 3048, 3048, 3048], max_call_time=360, preempt_enabled=0, directional_priority=3, call_delay_time=0, off_approach_hold_time=6, primary_intensity_thresholds=[1200, 1200, 1200, 1200, 1200, 1200, 1200, 1200, 1200, 1200, 1200, 1200, 1200, 1200, 1200, 1200], auxiliary_intensity_thresholds=[1200, 1200, 1200, 1200, 1200, 1200, 1200, 1200, 1200, 1200, 1200, 1200, 1200, 1200, 1200, 1200], reservice_enabled=0, reservice_time=1)), ThresholdChannel(format_version=None, priority=None, channel_name='2', channel='2', call_bridging_enabled=0, call_bridging_time=6, proximity_threshold=3048, high_priority=HighPriorityChannel(call_hold_time=6, eta_thresholds=[0, 30, 30, 30, 30, 30, 30, 30, 30, 30, 30, 30, 30, 30, 30, 30], distance_thresholds=[0, 3048, 3048, 3048, 3048, 3048, 3048, 3048, 3048, 3048, 3048, 3048, 3048, 3048, 3048, 3048], max_call_time=360, preempt_enabled=1, directional_priority=3, call_delay_time=0, off_approach_hold_time=6, primary_intensity_thresholds=[300, 300, 300, 300, 300, 300, 300, 300, 300, 300, 300, 300, 300, 300, 300, 300], auxiliary_intensity_thresholds=[300, 300, 300, 300, 300, 300, 300, 300, 300, 300, 300, 300, 300, 300, 300, 300]), low_priority=LowPriorityChannel(call_hold_time=6, eta_thresholds=[0, 30, 30, 30, 30, 30, 30, 30, 30, 30, 30, 30, 30, 30, 30, 30], distance_thresholds=[0, 3048, 3048, 3048, 3048, 3048, 3048, 3048, 3048, 3048, 3048, 3048, 3048, 3048, 3048, 3048], max_call_time=360, preempt_enabled=0, directional_priority=3, call_delay_time=0, off_approach_hold_time=6, primary_intensity_thresholds=[1200, 1200, 1200, 1200, 1200, 1200, 1200, 1200, 1200, 1200, 1200, 1200, 1200, 1200, 1200, 1200], auxiliary_intensity_thresholds=[1200, 1200, 1200, 1200, 1200, 1200, 1200, 1200, 1200, 1200, 1200, 1200, 1200, 1200, 1200, 1200], reservice_enabled=0, reservice_time=1)), ThresholdChannel(format_version=None, priority=None, channel_name='3', channel='3', call_bridging_enabled=0, call_bridging_time=6, proximity_threshold=3048, high_priority=HighPriorityChannel(call_hold_time=6, eta_thresholds=[0, 30, 30, 30, 30, 30, 30, 30, 30, 30, 30, 30, 30, 30, 30, 30], distance_thresholds=[0, 3048, 3048, 3048, 3048, 3048, 3048, 3048, 3048, 3048, 3048, 3048, 3048, 3048, 3048, 3048], max_call_time=360, preempt_enabled=1, directional_priority=3, call_delay_time=0, off_approach_hold_time=6, primary_intensity_thresholds=[300, 300, 300, 300, 300, 300, 300, 300, 300, 300, 300, 300, 300, 300, 300, 300], auxiliary_intensity_thresholds=[300, 300, 300, 300, 300, 300, 300, 300, 300, 300, 300, 300, 300, 300, 300, 300]), low_priority=LowPriorityChannel(call_hold_time=6, eta_thresholds=[0, 30, 30, 30, 30, 30, 30, 30, 30, 30, 30, 30, 30, 30, 30, 30], distance_thresholds=[0, 3048, 3048, 3048, 3048, 3048, 3048, 3048, 3048, 3048, 3048, 3048, 3048, 3048, 3048, 3048], max_call_time=360, preempt_enabled=0, directional_priority=3, call_delay_time=0, off_approach_hold_time=6, primary_intensity_thresholds=[1200, 1200, 1200, 1200, 1200, 1200, 1200, 1200, 1200, 1200, 1200, 1200, 1200, 1200, 1200, 1200], auxiliary_intensity_thresholds=[1200, 1200, 1200, 1200, 1200, 1200, 1200, 1200, 1200, 1200, 1200, 1200, 1200, 1200, 1200, 1200], reservice_enabled=0, reservice_time=1))]), thresholds=Thresholds(low_priority=[Channel(channel_name='0', channel='0', call_hold_time=6, max_call_time=360, classes=[Class(level='1', name='Regular Transit', active=True, eta=0, distance=0), Class(level='2', name='Express Transit', active=True, eta=30, distance=3048), Class(level='3', name='Paratransit', active=True, eta=30, distance=3048), Class(level='4', name='Light Rail', active=True, eta=30, distance=3048), Class(level='5', name='Trolley', active=True, eta=30, distance=3048), Class(level='6', name='Snow Plows', active=True, eta=30, distance=3048), Class(level='7', name='Supervisor', active=True, eta=30, distance=3048), Class(level='8', name='Pavement Marking', active=True, eta=30, distance=3048), Class(level='9', name='Installer/Set-up', active=True, eta=30, distance=3048), Class(level='10', name='Bus Rapid Transit', active=False, eta=30, distance=3048), Class(level='11', name='Not used', active=False, eta=30, distance=3048), Class(level='12', name='Not used', active=False, eta=30, distance=3048), Class(level='13', name='Not used', active=False, eta=30, distance=3048), Class(level='14', name='Not used', active=False, eta=30, distance=3048), Class(level='15', name='Not used', active=False, eta=30, distance=3048), Class(level='16', name='Not used', active=False, eta=30, distance=3048)]), Channel(channel_name='1', channel='1', call_hold_time=6, max_call_time=360, classes=[Class(level='1', name='Regular Transit', active=True, eta=0, distance=0), Class(level='2', name='Express Transit', active=True, eta=30, distance=3048), Class(level='3', name='Paratransit', active=True, eta=30, distance=3048), Class(level='4', name='Light Rail', active=True, eta=30, distance=3048), Class(level='5', name='Trolley', active=True, eta=30, distance=3048), Class(level='6', name='Snow Plows', active=True, eta=30, distance=3048), Class(level='7', name='Supervisor', active=True, eta=30, distance=3048), Class(level='8', name='Pavement Marking', active=True, eta=30, distance=3048), Class(level='9', name='Installer/Set-up', active=True, eta=30, distance=3048), Class(level='10', name='Bus Rapid Transit', active=False, eta=30, distance=3048), Class(level='11', name='Not used', active=False, eta=30, distance=3048), Class(level='12', name='Not used', active=False, eta=30, distance=3048), Class(level='13', name='Not used', active=False, eta=30, distance=3048), Class(level='14', name='Not used', active=False, eta=30, distance=3048), Class(level='15', name='Not used', active=False, eta=30, distance=3048), Class(level='16', name='Not used', active=False, eta=30, distance=3048)]), Channel(channel_name='2', channel='2', call_hold_time=6, max_call_time=360, classes=[Class(level='1', name='Regular Transit', active=True, eta=0, distance=0), Class(level='2', name='Express Transit', active=True, eta=30, distance=3048), Class(level='3', name='Paratransit', active=True, eta=30, distance=3048), Class(level='4', name='Light Rail', active=True, eta=30, distance=3048), Class(level='5', name='Trolley', active=True, eta=30, distance=3048), Class(level='6', name='Snow Plows', active=True, eta=30, distance=3048), Class(level='7', name='Supervisor', active=True, eta=30, distance=3048), Class(level='8', name='Pavement Marking', active=True, eta=30, distance=3048), Class(level='9', name='Installer/Set-up', active=True, eta=30, distance=3048), Class(level='10', name='Bus Rapid Transit', active=False, eta=30, distance=3048), Class(level='11', name='Not used', active=False, eta=30, distance=3048), Class(level='12', name='Not used', active=False, eta=30, distance=3048), Class(level='13', name='Not used', active=False, eta=30, distance=3048), Class(level='14', name='Not used', active=False, eta=30, distance=3048), Class(level='15', name='Not used', active=False, eta=30, distance=3048), Class(level='16', name='Not used', active=False, eta=30, distance=3048)]), Channel(channel_name='3', channel='3', call_hold_time=6, max_call_time=360, classes=[Class(level='1', name='Regular Transit', active=True, eta=0, distance=0), Class(level='2', name='Express Transit', active=True, eta=30, distance=3048), Class(level='3', name='Paratransit', active=True, eta=30, distance=3048), Class(level='4', name='Light Rail', active=True, eta=30, distance=3048), Class(level='5', name='Trolley', active=True, eta=30, distance=3048), Class(level='6', name='Snow Plows', active=True, eta=30, distance=3048), Class(level='7', name='Supervisor', active=True, eta=30, distance=3048), Class(level='8', name='Pavement Marking', active=True, eta=30, distance=3048), Class(level='9', name='Installer/Set-up', active=True, eta=30, distance=3048), Class(level='10', name='Bus Rapid Transit', active=False, eta=30, distance=3048), Class(level='11', name='Not used', active=False, eta=30, distance=3048), Class(level='12', name='Not used', active=False, eta=30, distance=3048), Class(level='13', name='Not used', active=False, eta=30, distance=3048), Class(level='14', name='Not used', active=False, eta=30, distance=3048), Class(level='15', name='Not used', active=False, eta=30, distance=3048), Class(level='16', name='Not used', active=False, eta=30, distance=3048)])], high_priority=[Channel(channel_name='0', channel='0', call_hold_time=6, max_call_time=360, classes=[Class(level='1', name='Regular Transit', active=True, eta=0, distance=0), Class(level='2', name='Express Transit', active=True, eta=30, distance=3048), Class(level='3', name='Paratransit', active=True, eta=30, distance=3048), Class(level='4', name='Light Rail', active=True, eta=30, distance=3048), Class(level='5', name='Trolley', active=True, eta=30, distance=3048), Class(level='6', name='Snow Plows', active=True, eta=30, distance=3048), Class(level='7', name='Supervisor', active=True, eta=30, distance=3048), Class(level='8', name='Pavement Marking', active=True, eta=30, distance=3048), Class(level='9', name='Installer/Set-up', active=True, eta=30, distance=3048), Class(level='10', name='Bus Rapid Transit', active=False, eta=30, distance=3048), Class(level='11', name='Not used', active=False, eta=30, distance=3048), Class(level='12', name='Not used', active=False, eta=30, distance=3048), Class(level='13', name='Not used', active=False, eta=30, distance=3048), Class(level='14', name='Not used', active=False, eta=30, distance=3048), Class(level='15', name='Not used', active=False, eta=30, distance=3048), Class(level='16', name='Not used', active=False, eta=30, distance=3048)]), Channel(channel_name='1', channel='1', call_hold_time=6, max_call_time=360, classes=[Class(level='1', name='Regular Transit', active=True, eta=0, distance=0), Class(level='2', name='Express Transit', active=True, eta=30, distance=3048), Class(level='3', name='Paratransit', active=True, eta=30, distance=3048), Class(level='4', name='Light Rail', active=True, eta=30, distance=3048), Class(level='5', name='Trolley', active=True, eta=30, distance=3048), Class(level='6', name='Snow Plows', active=True, eta=30, distance=3048), Class(level='7', name='Supervisor', active=True, eta=30, distance=3048), Class(level='8', name='Pavement Marking', active=True, eta=30, distance=3048), Class(level='9', name='Installer/Set-up', active=True, eta=30, distance=3048), Class(level='10', name='Bus Rapid Transit', active=False, eta=30, distance=3048), Class(level='11', name='Not used', active=False, eta=30, distance=3048), Class(level='12', name='Not used', active=False, eta=30, distance=3048), Class(level='13', name='Not used', active=False, eta=30, distance=3048), Class(level='14', name='Not used', active=False, eta=30, distance=3048), Class(level='15', name='Not used', active=False, eta=30, distance=3048), Class(level='16', name='Not used', active=False, eta=30, distance=3048)]), Channel(channel_name='2', channel='2', call_hold_time=6, max_call_time=360, classes=[Class(level='1', name='Regular Transit', active=True, eta=0, distance=0), Class(level='2', name='Express Transit', active=True, eta=30, distance=3048), Class(level='3', name='Paratransit', active=True, eta=30, distance=3048), Class(level='4', name='Light Rail', active=True, eta=30, distance=3048), Class(level='5', name='Trolley', active=True, eta=30, distance=3048), Class(level='6', name='Snow Plows', active=True, eta=30, distance=3048), Class(level='7', name='Supervisor', active=True, eta=30, distance=3048), Class(level='8', name='Pavement Marking', active=True, eta=30, distance=3048), Class(level='9', name='Installer/Set-up', active=True, eta=30, distance=3048), Class(level='10', name='Bus Rapid Transit', active=False, eta=30, distance=3048), Class(level='11', name='Not used', active=False, eta=30, distance=3048), Class(level='12', name='Not used', active=False, eta=30, distance=3048), Class(level='13', name='Not used', active=False, eta=30, distance=3048), Class(level='14', name='Not used', active=False, eta=30, distance=3048), Class(level='15', name='Not used', active=False, eta=30, distance=3048), Class(level='16', name='Not used', active=False, eta=30, distance=3048)]), Channel(channel_name='3', channel='3', call_hold_time=6, max_call_time=360, classes=[Class(level='1', name='Regular Transit', active=True, eta=0, distance=0), Class(level='2', name='Express Transit', active=True, eta=30, distance=3048), Class(level='3', name='Paratransit', active=True, eta=30, distance=3048), Class(level='4', name='Light Rail', active=True, eta=30, distance=3048), Class(level='5', name='Trolley', active=True, eta=30, distance=3048), Class(level='6', name='Snow Plows', active=True, eta=30, distance=3048), Class(level='7', name='Supervisor', active=True, eta=30, distance=3048), Class(level='8', name='Pavement Marking', active=True, eta=30, distance=3048), Class(level='9', name='Installer/Set-up', active=True, eta=30, distance=3048), Class(level='10', name='Bus Rapid Transit', active=False, eta=30, distance=3048), Class(level='11', name='Not used', active=False, eta=30, distance=3048), Class(level='12', name='Not used', active=False, eta=30, distance=3048), Class(level='13', name='Not used', active=False, eta=30, distance=3048), Class(level='14', name='Not used', active=False, eta=30, distance=3048), Class(level='15', name='Not used', active=False, eta=30, distance=3048), Class(level='16', name='Not used', active=False, eta=30, distance=3048)])]), channels=[OutputChannel(channel='0', channel_name='', format_version=167, logical_channel=0, phases=[1, 1, 1], high_priority_preempts=[1, 1, 1], low_priority_preempts=[1, 1, 1], low_priority_queue_jump_preempt=1, assigned_approaches=[1, 0, 0, 0, 0, 0, 0, 0, 0, 0], check_in_check_out_enabled=0, check_in_classes=[0, 0, 0, 0, 0, 0, 0, 0, 0, 0, 0, 0, 0, 0, 0, 0], check_in_entry_distance_threshold=0, check_in_exit_distance_threshold=0, check_in_announcement_output=[0, 0, 0], check_out_entry_threshold=0, forward_calls_in_forward_direction=0, priority_outputs=[0, 0, 0, 0, 0, 0, 0, 0, 0, 0, 0, 0, 0, 0, 0, 0, 0, 0, 0, 0, 0, 0, 0, 0, 0, 0, 0, 0, 0, 0, 0, 0, 0, 0, 0, 0, 0, 0, 0, 0, 0, 0, 0, 0, 0, 0, 0, 0, 0, 0, 0, 0, 0, 0, 0, 0, 0, 0, 0, 0, 0, 0, 0, 0, 0, 0, 0, 0, 0, 0, 0, 0, 0, 0, 0, 0, 0, 0, 0, 0, 0, 0, 0, 0, 0, 0, 0, 0, 0, 0, 0, 0, 0], ignore_heading=0, preempt_plan_evp=[1, 1, 1], priority_plan_tsp=[1, 1, 1]), OutputChannel(channel='1', channel_name='', format_version=167, logical_channel=1, phases=[2, 2, 2], high_priority_preempts=[2, 2, 2], low_priority_preempts=[2, 2, 2], low_priority_queue_jump_preempt=2, assigned_approaches=[2, 0, 0, 0, 0, 0, 0, 0, 0, 0], check_in_check_out_enabled=0, check_in_classes=[0, 0, 0, 0, 0, 0, 0, 0, 0, 0, 0, 0, 0, 0, 0, 0], check_in_entry_distance_threshold=0, check_in_exit_distance_threshold=0, check_in_announcement_output=[0, 0, 0], check_out_entry_threshold=0, forward_calls_in_forward_direction=0, priority_outputs=[0, 0, 0, 0, 0, 0, 0, 0, 0, 0, 0, 0, 0, 0, 0, 0, 0, 0, 0, 0, 0, 0, 0, 0, 0, 0, 0, 0, 0, 0, 0, 0, 0, 0, 0, 0, 0, 0, 0, 0, 0, 0, 0, 0, 0, 0, 0, 0, 0, 0, 0, 0, 0, 0, 0, 0, 0, 0, 0, 0, 0, 0, 0, 0, 0, 0, 0, 0, 0, 0, 0, 0, 0, 0, 0, 0, 0, 0, 0, 0, 0, 0, 0, 0, 0, 0, 0, 0, 0, 0, 0, 0, 0], ignore_heading=0, preempt_plan_evp=[2, 2, 2], priority_plan_tsp=[2, 2, 2]), OutputChannel(channel='2', channel_name='', format_version=167, logical_channel=2, phases=[3, 3, 3], high_priority_preempts=[3, 3, 3], low_priority_preempts=[3, 3, 3], low_priority_queue_jump_preempt=3, assigned_approaches=[3, 0, 0, 0, 0, 0, 0, 0, 0, 0], check_in_check_out_enabled=0, check_in_classes=[0, 0, 0, 0, 0, 0, 0, 0, 0, 0, 0, 0, 0, 0, 0, 0], check_in_entry_distance_threshold=0, check_in_exit_distance_threshold=0, check_in_announcement_output=[0, 0, 0], check_out_entry_threshold=0, forward_calls_in_forward_direction=0, priority_outputs=[0, 0, 0, 0, 0, 0, 0, 0, 0, 0, 0, 0, 0, 0, 0, 0, 0, 0, 0, 0, 0, 0, 0, 0, 0, 0, 0, 0, 0, 0, 0, 0, 0, 0, 0, 0, 0, 0, 0, 0, 0, 0, 0, 0, 0, 0, 0, 0, 0, 0, 0, 0, 0, 0, 0, 0, 0, 0, 0, 0, 0, 0, 0, 0, 0, 0, 0, 0, 0, 0, 0, 0, 0, 0, 0, 0, 0, 0, 0, 0, 0, 0, 0, 0, 0, 0, 0, 0, 0, 0, 0, 0, 0], ignore_heading=0, preempt_plan_evp=[3, 3, 3], priority_plan_tsp=[3, 3, 3]), OutputChannel(channel='3', channel_name='', format_version=167, logical_channel=3, phases=[4, 4, 4], high_priority_preempts=[4, 4, 4], low_priority_preempts=[4, 4, 4], low_priority_queue_jump_preempt=4, assigned_approaches=[4, 0, 0, 0, 0, 0, 0, 0, 0, 0], check_in_check_out_enabled=0, check_in_classes=[0, 0, 0, 0, 0, 0, 0, 0, 0, 0, 0, 0, 0, 0, 0, 0], check_in_entry_distance_threshold=0, check_in_exit_distance_threshold=0, check_in_announcement_output=[0, 0, 0], check_out_entry_threshold=0, forward_calls_in_forward_direction=0, priority_outputs=[0, 0, 0, 0, 0, 0, 0, 0, 0, 0, 0, 0, 0, 0, 0, 0, 0, 0, 0, 0, 0, 0, 0, 0, 0, 0, 0, 0, 0, 0, 0, 0, 0, 0, 0, 0, 0, 0, 0, 0, 0, 0, 0, 0, 0, 0, 0, 0, 0, 0, 0, 0, 0, 0, 0, 0, 0, 0, 0, 0, 0, 0, 0, 0, 0, 0, 0, 0, 0, 0, 0, 0, 0, 0, 0, 0, 0, 0, 0, 0, 0, 0, 0, 0, 0, 0, 0, 0, 0, 0, 0, 0, 0], ignore_heading=0, preempt_plan_evp=[4, 4, 4], priority_plan_tsp=[4, 4, 4])], outputs=Outputs(low_priority=Output(type=None, channels=[Channel(channel='0', straight=1, left=1, right=1), Channel(channel='1', straight=2, left=2, right=2), Channel(channel='2', straight=3, left=3, right=3), Channel(channel='3', straight=4, left=4, right=4)]), high_priority=Output(type=None, channels=[Channel(channel='0', straight=1, left=1, right=1), Channel(channel='1', straight=2, left=2, right=2), Channel(channel='2', straight=3, left=3, right=3), Channel(channel='3', straight=4, left=4, right=4)])), is_configured=True, intersection_id='V764JN0014', intersection_name='UIAve', ip_address='3.86.39.209', port=2313)"
                        ]
                    },
                    "execution_count": 4,
                    "metadata": {},
                    "output_type": "execute_result"
                }
            ],
            "source": [
                "import boto3\n",
                "from gtt.service.phase_selector import IntersectionService, PhaseSelectorService\n",
                "\n",
                "# Resources\n",
                "table_name = os.environ.get(\"INTERSECTIONS_TABLE_NAME\")\n",
                "dynamo_table = boto3.resource(\"dynamodb\").Table(table_name)\n",
                "ssm = boto3.client(\"ssm\")\n",
                "ec2 = boto3.client(\"ec2\")\n",
                "\n",
                "# Setup services\n",
                "phase_selector_service = PhaseSelectorService(ssm, ec2, use_public_ip_addresses=True)\n",
                "intersection_service = IntersectionService(dynamo_table, phase_selector_service)\n",
                "\n",
                "intersection_service.read(ip_address=\"3.86.39.209\", port=2313)"
            ]
        },
        {
            "cell_type": "markdown",
            "metadata": {},
            "source": [
                "## Reading From Devices"
            ]
        },
        {
            "cell_type": "code",
            "execution_count": null,
            "metadata": {},
            "outputs": [
                {
                    "name": "stderr",
                    "output_type": "stream",
                    "text": [
                        "ERROR:root:Ran into error message ID 0x1f, retrying (1 / 3): Invalid response received from device: unpack requires a buffer of 192 bytes\n",
                        "ERROR:root:Ran into error message ID 0x1f, retrying (2 / 3): Invalid response received from device: unpack requires a buffer of 192 bytes\n",
                        "ERROR:root:Ran into error message ID 0x1f, retrying (3 / 3): Invalid response received from device: unpack requires a buffer of 192 bytes\n"
                    ]
                }
            ],
            "source": [
                "# Read directly from device\n",
                "ip_address = \"3.86.39.209\"\n",
                "port = 2078\n",
                "phase_selector = phase_selector_service.read(ip_address, port)"
            ]
        },
        {
            "cell_type": "code",
            "execution_count": null,
            "metadata": {},
            "outputs": [
                {
                    "data": {
                        "text/plain": [
                            "Intersection(serial_number='V764NY0996', location_type=None, latitude=40.542997, longitude=120.876, make='GTT', model='V764', last_communicated=datetime.datetime(2022, 10, 12, 14, 17, 21, 380565), timezone='CST', operation_mode='Online/Normal', status='Normal', firmware_version='10.05.003', device_type=None, address=None, address_type=None, mac_address='cc69b00003e4', device_name='TestAve', time_localization_details=TimeLocalizationDetails(timezone='Central Standard Time                                                                                                   ', utc_offset='-360', forward=Date(month='3', date='13', year='2022', hours='2', minutes='0', rule='0'), reverse=Date(month='11', date='6', year='2022', hours='2', minutes='0', rule='0')), last_configured=datetime.datetime(1900, 1, 1, 0, 0), approach_offset=0, approach_map=[ApproachMapEntry(approach_name='1', number_of_coordinates=2, coordinates=[Coordinate(latitude=-1559.0, longitude=-13.0, width=255), Coordinate(latitude=-11.0, longitude=1.0, width=30)]), ApproachMapEntry(approach_name='2', number_of_coordinates=2, coordinates=[Coordinate(latitude=4.0, longitude=1594.0, width=255), Coordinate(latitude=-6.0, longitude=15.0, width=30)]), ApproachMapEntry(approach_name='3', number_of_coordinates=2, coordinates=[Coordinate(latitude=1606.0, longitude=1.0, width=255), Coordinate(latitude=-1.0, longitude=8.0, width=30)]), ApproachMapEntry(approach_name='4', number_of_coordinates=2, coordinates=[Coordinate(latitude=4.0, longitude=-1641.0, width=255), Coordinate(latitude=0.0, longitude=0.0, width=30)])], configuration_profile=ConfigurationProfile(format_version=164, profile_type=0, profile_index=1, profile_name='Default Profile', number_of_high_codes=0, number_of_low_codes=0, high_priority_relative_priorities_enabled=0, high_priority_relative_priorities=[15, 15, 15, 15, 15, 15, 15, 15, 15, 15, 15, 15, 15, 15, 15, 15], low_priority_relative_priorities_enabled=15, low_priority_relative_priorities=[15, 15, 15, 15, 15, 15, 15, 15, 15, 15, 15, 15, 15, 15, 15, 15], relative_priority_lockout_eta=15, conditional_priority_enabled=15, number_of_channels=15, low_codes=None, high_codes='', channels=[ThresholdChannel(format_version=None, priority=None, channel_name='15', channel='15', call_bridging_enabled=15, call_bridging_time=15, proximity_threshold=59403, high_priority=HighPriorityChannel(call_hold_time=15, eta_thresholds=[1, 44, 1, 44, 1, 44, 4, 176, 4, 176, 4, 176, 4, 176, 4, 176], distance_thresholds=[45060, 45060, 45060, 7680, 7710, 7710, 7710, 7710, 7710, 7710, 7710, 7680, 7710, 7710, 7710, 7710], max_call_time=3855, preempt_enabled=15, directional_priority=15, call_delay_time=15, off_approach_hold_time=15, primary_intensity_thresholds=[3855, 3855, 3855, 3855, 3855, 3855, 3855, 12, 4, 1, 771, 1536, 256, 26625, 26625, 1536], auxiliary_intensity_thresholds=[11265, 11265, 11265, 45060, 45060, 45060, 45060, 45060, 45060, 45060, 45060, 45060, 45060, 45060, 45060, 45060]), low_priority=LowPriorityChannel(call_hold_time=15, eta_thresholds=[4, 176, 4, 176, 4, 176, 4, 176, 4, 176, 4, 176, 4, 176, 4, 176], distance_thresholds=[7710, 7710, 7710, 0, 59403, 59403, 59403, 59403, 59403, 59403, 59403, 59403, 59403, 59403, 59403, 59403], max_call_time=3855, preempt_enabled=15, directional_priority=15, call_delay_time=0, off_approach_hold_time=15, primary_intensity_thresholds=[1536, 0, 1542, 11265, 11265, 11265, 11265, 11265, 11265, 11265, 11265, 11265, 11265, 11265, 11265, 11265], auxiliary_intensity_thresholds=[45060, 45060, 45060, 11265, 11265, 11265, 11265, 11265, 11265, 11265, 11265, 11265, 11265, 11265, 11265, 11265], reservice_enabled=15, reservice_time=15))]), thresholds=Thresholds(low_priority=[Channel(channel_name='15', channel='15', call_hold_time=15, max_call_time=3855, classes=[Class(level='1', name='Regular Transit', active=True, eta=4, distance=7710), Class(level='2', name='Express Transit', active=True, eta=176, distance=7710), Class(level='3', name='Paratransit', active=True, eta=4, distance=7710), Class(level='4', name='Light Rail', active=True, eta=176, distance=0), Class(level='5', name='Trolley', active=True, eta=4, distance=59403), Class(level='6', name='Snow Plows', active=True, eta=176, distance=59403), Class(level='7', name='Supervisor', active=True, eta=4, distance=59403), Class(level='8', name='Pavement Marking', active=True, eta=176, distance=59403), Class(level='9', name='Installer/Set-up', active=True, eta=4, distance=59403), Class(level='10', name='Bus Rapid Transit', active=False, eta=176, distance=59403), Class(level='10', name='Not used', active=False, eta=4, distance=59403), Class(level='11', name='Not used', active=False, eta=176, distance=59403), Class(level='12', name='Not used', active=False, eta=4, distance=59403), Class(level='13', name='Not used', active=False, eta=176, distance=59403), Class(level='14', name='Not used', active=False, eta=4, distance=59403), Class(level='15', name='Not used', active=False, eta=176, distance=59403)])], high_priority=[Channel(channel_name='15', channel='15', call_hold_time=15, max_call_time=3855, classes=[Class(level='1', name='Regular Transit', active=True, eta=1, distance=45060), Class(level='2', name='Express Transit', active=True, eta=44, distance=45060), Class(level='3', name='Paratransit', active=True, eta=1, distance=45060), Class(level='4', name='Light Rail', active=True, eta=44, distance=7680), Class(level='5', name='Trolley', active=True, eta=1, distance=7710), Class(level='6', name='Snow Plows', active=True, eta=44, distance=7710), Class(level='7', name='Supervisor', active=True, eta=4, distance=7710), Class(level='8', name='Pavement Marking', active=True, eta=176, distance=7710), Class(level='9', name='Installer/Set-up', active=True, eta=4, distance=7710), Class(level='10', name='Bus Rapid Transit', active=False, eta=176, distance=7710), Class(level='10', name='Not used', active=False, eta=4, distance=7710), Class(level='11', name='Not used', active=False, eta=176, distance=7680), Class(level='12', name='Not used', active=False, eta=4, distance=7710), Class(level='13', name='Not used', active=False, eta=176, distance=7710), Class(level='14', name='Not used', active=False, eta=4, distance=7710), Class(level='15', name='Not used', active=False, eta=176, distance=7710)])]), channels=[OutputChannel(channel='0', channel_name='', format_version=167, logical_channel=0, phases=[1, 1, 1], high_priority_preempts=[1, 1, 1], low_priority_preempts=[1, 1, 1], low_priority_queue_jump_preempt=[1], assigned_approaches=[1, 0, 0, 0, 0, 0, 0, 0, 0, 0], check_in_check_out_enabled=[0], check_in_classes=[0, 0, 0, 0, 0, 0, 0, 0, 0, 0, 0, 0, 0, 0, 0, 0], check_in_entry_distance_threshold=0, check_in_exit_distance_threshold=0, check_in_announcement_output=[0, 0, 0], check_out_entry_threshold=0, forward_calls_in_forward_direction=0, priority_outputs=[0, 0, 0, 0, 0, 0, 0, 0, 0, 0, 0, 0, 0, 0, 0, 0, 0, 0, 0, 0, 0, 0, 0, 0, 0, 0, 0, 0, 0, 0, 0, 0, 0, 0, 0, 0, 0, 0, 0, 0, 0, 0, 0, 0, 0, 0, 0, 0, 0, 0, 0, 0, 0, 0, 0, 0, 0, 0, 0, 0, 0, 0, 0, 0, 0, 0, 0, 0, 0, 0, 0, 0, 0, 0, 0, 0, 0, 0, 0, 0, 0, 0, 0, 0, 0, 0, 0, 0, 0, 0, 0, 0, 0], ignore_heading=0, preempt_plan_evp=[1, 1, 1], priority_plan_tsp=[1, 1, 1]), OutputChannel(channel='1', channel_name='', format_version=167, logical_channel=1, phases=[2, 2, 2], high_priority_preempts=[2, 2, 2], low_priority_preempts=[2, 2, 2], low_priority_queue_jump_preempt=[2], assigned_approaches=[2, 0, 0, 0, 0, 0, 0, 0, 0, 0], check_in_check_out_enabled=[0], check_in_classes=[0, 0, 0, 0, 0, 0, 0, 0, 0, 0, 0, 0, 0, 0, 0, 0], check_in_entry_distance_threshold=0, check_in_exit_distance_threshold=0, check_in_announcement_output=[0, 0, 0], check_out_entry_threshold=0, forward_calls_in_forward_direction=0, priority_outputs=[0, 0, 0, 0, 0, 0, 0, 0, 0, 0, 0, 0, 0, 0, 0, 0, 0, 0, 0, 0, 0, 0, 0, 0, 0, 0, 0, 0, 0, 0, 0, 0, 0, 0, 0, 0, 0, 0, 0, 0, 0, 0, 0, 0, 0, 0, 0, 0, 0, 0, 0, 0, 0, 0, 0, 0, 0, 0, 0, 0, 0, 0, 0, 0, 0, 0, 0, 0, 0, 0, 0, 0, 0, 0, 0, 0, 0, 0, 0, 0, 0, 0, 0, 0, 0, 0, 0, 0, 0, 0, 0, 0, 0], ignore_heading=0, preempt_plan_evp=[2, 2, 2], priority_plan_tsp=[2, 2, 2]), OutputChannel(channel='2', channel_name='', format_version=167, logical_channel=2, phases=[3, 3, 3], high_priority_preempts=[3, 3, 3], low_priority_preempts=[3, 3, 3], low_priority_queue_jump_preempt=[3], assigned_approaches=[3, 0, 0, 0, 0, 0, 0, 0, 0, 0], check_in_check_out_enabled=[0], check_in_classes=[0, 0, 0, 0, 0, 0, 0, 0, 0, 0, 0, 0, 0, 0, 0, 0], check_in_entry_distance_threshold=0, check_in_exit_distance_threshold=0, check_in_announcement_output=[0, 0, 0], check_out_entry_threshold=0, forward_calls_in_forward_direction=0, priority_outputs=[0, 0, 0, 0, 0, 0, 0, 0, 0, 0, 0, 0, 0, 0, 0, 0, 0, 0, 0, 0, 0, 0, 0, 0, 0, 0, 0, 0, 0, 0, 0, 0, 0, 0, 0, 0, 0, 0, 0, 0, 0, 0, 0, 0, 0, 0, 0, 0, 0, 0, 0, 0, 0, 0, 0, 0, 0, 0, 0, 0, 0, 0, 0, 0, 0, 0, 0, 0, 0, 0, 0, 0, 0, 0, 0, 0, 0, 0, 0, 0, 0, 0, 0, 0, 0, 0, 0, 0, 0, 0, 0, 0, 0], ignore_heading=0, preempt_plan_evp=[3, 3, 3], priority_plan_tsp=[3, 3, 3]), OutputChannel(channel='3', channel_name='', format_version=167, logical_channel=3, phases=[4, 4, 4], high_priority_preempts=[4, 4, 4], low_priority_preempts=[4, 4, 4], low_priority_queue_jump_preempt=[4], assigned_approaches=[4, 0, 0, 0, 0, 0, 0, 0, 0, 0], check_in_check_out_enabled=[0], check_in_classes=[0, 0, 0, 0, 0, 0, 0, 0, 0, 0, 0, 0, 0, 0, 0, 0], check_in_entry_distance_threshold=0, check_in_exit_distance_threshold=0, check_in_announcement_output=[0, 0, 0], check_out_entry_threshold=0, forward_calls_in_forward_direction=0, priority_outputs=[0, 0, 0, 0, 0, 0, 0, 0, 0, 0, 0, 0, 0, 0, 0, 0, 0, 0, 0, 0, 0, 0, 0, 0, 0, 0, 0, 0, 0, 0, 0, 0, 0, 0, 0, 0, 0, 0, 0, 0, 0, 0, 0, 0, 0, 0, 0, 0, 0, 0, 0, 0, 0, 0, 0, 0, 0, 0, 0, 0, 0, 0, 0, 0, 0, 0, 0, 0, 0, 0, 0, 0, 0, 0, 0, 0, 0, 0, 0, 0, 0, 0, 0, 0, 0, 0, 0, 0, 0, 0, 0, 0, 0], ignore_heading=0, preempt_plan_evp=[4, 4, 4], priority_plan_tsp=[4, 4, 4])], outputs=Outputs(low_priority=Output(type=None, channels=[Channel(channel='0', straight=1, left=1, right=1), Channel(channel='1', straight=2, left=2, right=2), Channel(channel='2', straight=3, left=3, right=3), Channel(channel='3', straight=4, left=4, right=4)]), high_priority=Output(type=None, channels=[Channel(channel='0', straight=1, left=1, right=1), Channel(channel='1', straight=2, left=2, right=2), Channel(channel='2', straight=3, left=3, right=3), Channel(channel='3', straight=4, left=4, right=4)])), is_configured=True, intersection_id='V764NY0996', intersection_name='TestAve', ip_address='3.86.39.209', port=2047)"
                        ]
                    },
                    "execution_count": 6,
                    "metadata": {},
                    "output_type": "execute_result"
                }
            ],
            "source": [
                "intersection_service.read(ip_address=\"3.86.39.209\", port=2313)\n",
                "intersection_service.read(ip_address=\"3.86.39.209\", port=2047)"
            ]
        },
        {
            "cell_type": "code",
            "execution_count": null,
            "metadata": {},
            "outputs": [
                {
                    "data": {
                        "text/plain": [
                            "Thresholds(low_priority=[Channel(channel_name='15', channel='15', call_hold_time=15, max_call_time=3855, classes=[Class(level='1', name='Regular Transit', active=True, eta=4, distance=7710), Class(level='2', name='Express Transit', active=True, eta=176, distance=7710), Class(level='3', name='Paratransit', active=True, eta=4, distance=7710), Class(level='4', name='Light Rail', active=True, eta=176, distance=0), Class(level='5', name='Trolley', active=True, eta=4, distance=59403), Class(level='6', name='Snow Plows', active=True, eta=176, distance=59403), Class(level='7', name='Supervisor', active=True, eta=4, distance=59403), Class(level='8', name='Pavement Marking', active=True, eta=176, distance=59403), Class(level='9', name='Installer/Set-up', active=True, eta=4, distance=59403), Class(level='10', name='Bus Rapid Transit', active=False, eta=176, distance=59403), Class(level='10', name='Not used', active=False, eta=4, distance=59403), Class(level='11', name='Not used', active=False, eta=176, distance=59403), Class(level='12', name='Not used', active=False, eta=4, distance=59403), Class(level='13', name='Not used', active=False, eta=176, distance=59403), Class(level='14', name='Not used', active=False, eta=4, distance=59403), Class(level='15', name='Not used', active=False, eta=176, distance=59403)])], high_priority=[Channel(channel_name='15', channel='15', call_hold_time=15, max_call_time=3855, classes=[Class(level='1', name='Regular Transit', active=True, eta=1, distance=45060), Class(level='2', name='Express Transit', active=True, eta=44, distance=45060), Class(level='3', name='Paratransit', active=True, eta=1, distance=45060), Class(level='4', name='Light Rail', active=True, eta=44, distance=7680), Class(level='5', name='Trolley', active=True, eta=1, distance=7710), Class(level='6', name='Snow Plows', active=True, eta=44, distance=7710), Class(level='7', name='Supervisor', active=True, eta=4, distance=7710), Class(level='8', name='Pavement Marking', active=True, eta=176, distance=7710), Class(level='9', name='Installer/Set-up', active=True, eta=4, distance=7710), Class(level='10', name='Bus Rapid Transit', active=False, eta=176, distance=7710), Class(level='10', name='Not used', active=False, eta=4, distance=7710), Class(level='11', name='Not used', active=False, eta=176, distance=7680), Class(level='12', name='Not used', active=False, eta=4, distance=7710), Class(level='13', name='Not used', active=False, eta=176, distance=7710), Class(level='14', name='Not used', active=False, eta=4, distance=7710), Class(level='15', name='Not used', active=False, eta=176, distance=7710)])])"
                        ]
                    },
                    "execution_count": 7,
                    "metadata": {},
                    "output_type": "execute_result"
                }
            ],
            "source": [
                "phase_selector.thresholds"
            ]
        },
        {
            "cell_type": "code",
            "execution_count": null,
            "metadata": {},
            "outputs": [
                {
                    "data": {
                        "text/plain": [
                            "ConfigurationProfile(format_version=164, profile_type=0, profile_index=1, profile_name='Default Profile', number_of_high_codes=0, number_of_low_codes=0, high_priority_relative_priorities_enabled=0, high_priority_relative_priorities=[15, 15, 15, 15, 15, 15, 15, 15, 15, 15, 15, 15, 15, 15, 15, 15], low_priority_relative_priorities_enabled=15, low_priority_relative_priorities=[15, 15, 15, 15, 15, 15, 15, 15, 15, 15, 15, 15, 15, 15, 15, 15], relative_priority_lockout_eta=15, conditional_priority_enabled=15, number_of_channels=15, low_codes=None, high_codes='', channels=[ThresholdChannel(format_version=None, priority=None, channel_name='15', channel='15', call_bridging_enabled=15, call_bridging_time=15, proximity_threshold=59403, high_priority=HighPriorityChannel(call_hold_time=15, eta_thresholds=[1, 44, 1, 44, 1, 44, 4, 176, 4, 176, 4, 176, 4, 176, 4, 176], distance_thresholds=[45060, 45060, 45060, 7680, 7710, 7710, 7710, 7710, 7710, 7710, 7710, 7680, 7710, 7710, 7710, 7710], max_call_time=3855, preempt_enabled=15, directional_priority=15, call_delay_time=15, off_approach_hold_time=15, primary_intensity_thresholds=[3855, 3855, 3855, 3855, 3855, 3855, 3855, 12, 4, 1, 771, 1536, 256, 26625, 26625, 1536], auxiliary_intensity_thresholds=[11265, 11265, 11265, 45060, 45060, 45060, 45060, 45060, 45060, 45060, 45060, 45060, 45060, 45060, 45060, 45060]), low_priority=LowPriorityChannel(call_hold_time=15, eta_thresholds=[4, 176, 4, 176, 4, 176, 4, 176, 4, 176, 4, 176, 4, 176, 4, 176], distance_thresholds=[7710, 7710, 7710, 0, 59403, 59403, 59403, 59403, 59403, 59403, 59403, 59403, 59403, 59403, 59403, 59403], max_call_time=3855, preempt_enabled=15, directional_priority=15, call_delay_time=0, off_approach_hold_time=15, primary_intensity_thresholds=[1536, 0, 1542, 11265, 11265, 11265, 11265, 11265, 11265, 11265, 11265, 11265, 11265, 11265, 11265, 11265], auxiliary_intensity_thresholds=[45060, 45060, 45060, 11265, 11265, 11265, 11265, 11265, 11265, 11265, 11265, 11265, 11265, 11265, 11265, 11265], reservice_enabled=15, reservice_time=15))])"
                        ]
                    },
                    "execution_count": 8,
                    "metadata": {},
                    "output_type": "execute_result"
                }
            ],
            "source": [
                "phase_selector.configuration_profile"
            ]
        },
        {
            "cell_type": "code",
            "execution_count": null,
            "metadata": {},
            "outputs": [
                {
                    "name": "stderr",
                    "output_type": "stream",
                    "text": [
                        "ERROR:root:No matching serial number: 123456789\n"
                    ]
                },
                {
                    "name": "stdout",
                    "output_type": "stream",
                    "text": [
                        "None\n",
                        "True\n"
                    ]
                }
            ],
            "source": [
                "from gtt.data_model.intersection import Intersection\n",
                "\n",
                "intersection = Intersection(\n",
                "    **{\n",
                "        \"serialNumber\": \"V764KM0001\",\n",
                "        \"intersectionId\": 12348,\n",
                "        \"intersectionName\": \"abc\",\n",
                "        \"latitude\": 37.343312,\n",
                "        \"longitude\": 122.453532,\n",
                "        \"lastCommunicated\": \"2022-07-10 01:01:01\",\n",
                "        \"make\": \"GTT\",\n",
                "        \"model\": \"v764\",\n",
                "        \"timezone\": \"CST\",\n",
                "        \"operationMode\": \"High\",\n",
                "        \"status\": \"Normal\",\n",
                "        \"firmwareVersion\": 1.2,\n",
                "        \"ipAddress\": \"3.86.39.209\",\n",
                "        \"port\": 3000,\n",
                "    }\n",
                ")\n",
                "\n",
                "print(intersection_service.read(\"123456789\"))\n",
                "print(\n",
                "    intersection_service.read(\n",
                "        ip_address=intersection.ip_address, port=intersection.port\n",
                "    ) is not None\n",
                ")"
            ]
        },
        {
            "cell_type": "markdown",
            "metadata": {},
            "source": [
                "## Writing to Devices\n",
                "\n",
                "### Not Configured Devices"
            ]
        },
        {
            "cell_type": "code",
            "execution_count": null,
            "metadata": {},
            "outputs": [
                {
                    "name": "stderr",
                    "output_type": "stream",
                    "text": [
                        "ERROR:root:Failed to parse intersection: V764NY0967\n",
                        "ERROR:root:Failed to parse intersection: V764NY0976\n",
                        "ERROR:root:Failed to parse intersection: V764NY1000\n",
                        "ERROR:root:Failed to parse intersection: V764NY0966\n",
                        "ERROR:root:Failed to parse intersection: V764JN0012\n",
                        "ERROR:root:Failed to parse intersection: V764NY0964\n",
                        "ERROR:root:Failed to parse intersection: V764JN0019\n",
                        "ERROR:root:Failed to parse intersection: V764JN0001\n",
                        "ERROR:root:Failed to parse intersection: V764NY1004\n",
                        "ERROR:root:Failed to parse intersection: V764NY1021\n",
                        "ERROR:root:Failed to parse intersection: V764JN0013\n",
                        "ERROR:root:Failed to parse intersection: V764NY0953\n",
                        "ERROR:root:Failed to parse intersection: V764NY0969\n",
                        "ERROR:root:Failed to parse intersection: V764JN0011\n",
                        "ERROR:root:Failed to parse intersection: V764NY1009\n",
                        "ERROR:root:Failed to parse intersection: V764JN0016\n",
                        "ERROR:root:Failed to parse intersection: V764NY0951\n",
                        "ERROR:root:Failed to parse intersection: V764NY0938\n",
                        "ERROR:root:Failed to parse intersection: V764JN0006\n",
                        "ERROR:root:Failed to parse intersection: V764JN0005\n",
                        "ERROR:root:Failed to parse intersection: V764NY0992\n",
                        "ERROR:root:Failed to parse intersection: V764JN0015\n",
                        "ERROR:root:Failed to parse intersection: V764NY1010\n",
                        "ERROR:root:Failed to parse intersection: V764JN0020\n",
                        "ERROR:root:Failed to parse intersection: V764JN0018\n",
                        "ERROR:root:Failed to parse intersection: V764JN0010\n",
                        "ERROR:root:Failed to parse intersection: V764NY1003\n",
                        "ERROR:root:Failed to parse intersection: V764JN0002\n",
                        "ERROR:root:Failed to parse intersection: V764JN0017\n",
                        "ERROR:root:Failed to parse intersection: V764JN0003\n",
                        "ERROR:root:Failed to parse intersection: V764JN0008\n",
                        "ERROR:root:Failed to parse intersection: V764JN0009\n",
                        "ERROR:root:Failed to parse intersection: V764NY1028\n",
                        "ERROR:root:Failed to parse intersection: V764NY0946\n",
                        "ERROR:root:Failed to parse intersection: V764NY0949\n",
                        "ERROR:root:Failed to parse intersection: V764JN0007\n",
                        "ERROR:root:Failed to parse intersection: V764NY0968\n"
                    ]
                },
                {
                    "name": "stdout",
                    "output_type": "stream",
                    "text": [
                        "3\n"
                    ]
                },
                {
                    "name": "stderr",
                    "output_type": "stream",
                    "text": [
                        "ERROR:root:Failed to parse intersection: V764NY0967\n",
                        "ERROR:root:Failed to parse intersection: V764NY0976\n",
                        "ERROR:root:Failed to parse intersection: V764NY1000\n",
                        "ERROR:root:Failed to parse intersection: V764NY0966\n",
                        "ERROR:root:Failed to parse intersection: V764JN0012\n",
                        "ERROR:root:Failed to parse intersection: V764NY0964\n",
                        "ERROR:root:Failed to parse intersection: V764JN0019\n",
                        "ERROR:root:Failed to parse intersection: V764JN0001\n",
                        "ERROR:root:Failed to parse intersection: V764NY1004\n",
                        "ERROR:root:Failed to parse intersection: V764NY1021\n",
                        "ERROR:root:Failed to parse intersection: V764JN0013\n",
                        "ERROR:root:Failed to parse intersection: V764NY0953\n",
                        "ERROR:root:Failed to parse intersection: V764NY0969\n",
                        "ERROR:root:Failed to parse intersection: V764JN0011\n",
                        "ERROR:root:Failed to parse intersection: V764NY1009\n",
                        "ERROR:root:Failed to parse intersection: V764JN0016\n",
                        "ERROR:root:Failed to parse intersection: V764NY0951\n",
                        "ERROR:root:Failed to parse intersection: V764NY0938\n",
                        "ERROR:root:Failed to parse intersection: V764JN0006\n",
                        "ERROR:root:Failed to parse intersection: V764JN0005\n",
                        "ERROR:root:Failed to parse intersection: V764NY0992\n",
                        "ERROR:root:Failed to parse intersection: V764JN0015\n",
                        "ERROR:root:Failed to parse intersection: V764NY1010\n",
                        "ERROR:root:Failed to parse intersection: V764JN0020\n",
                        "ERROR:root:Failed to parse intersection: V764JN0018\n",
                        "ERROR:root:Failed to parse intersection: V764JN0010\n",
                        "ERROR:root:Failed to parse intersection: V764NY1003\n",
                        "ERROR:root:Failed to parse intersection: V764JN0002\n",
                        "ERROR:root:Failed to parse intersection: V764JN0017\n",
                        "ERROR:root:Failed to parse intersection: V764JN0003\n",
                        "ERROR:root:Failed to parse intersection: V764JN0008\n",
                        "ERROR:root:Failed to parse intersection: V764JN0009\n",
                        "ERROR:root:Failed to parse intersection: V764NY1028\n",
                        "ERROR:root:Failed to parse intersection: V764NY0946\n",
                        "ERROR:root:Failed to parse intersection: V764NY0949\n",
                        "ERROR:root:Failed to parse intersection: V764JN0007\n",
                        "ERROR:root:Failed to parse intersection: V764NY0968\n"
                    ]
                },
                {
                    "name": "stdout",
                    "output_type": "stream",
                    "text": [
                        "4\n"
                    ]
                },
                {
                    "name": "stderr",
                    "output_type": "stream",
                    "text": [
                        "ERROR:root:Failed to parse intersection: V764NY0967\n",
                        "ERROR:root:Failed to parse intersection: V764NY0976\n",
                        "ERROR:root:Failed to parse intersection: V764NY1000\n",
                        "ERROR:root:Failed to parse intersection: V764NY0966\n",
                        "ERROR:root:Failed to parse intersection: V764JN0012\n",
                        "ERROR:root:Failed to parse intersection: V764NY0964\n",
                        "ERROR:root:Failed to parse intersection: V764JN0019\n",
                        "ERROR:root:Failed to parse intersection: V764JN0001\n",
                        "ERROR:root:Failed to parse intersection: V764NY1004\n",
                        "ERROR:root:Failed to parse intersection: V764NY1021\n",
                        "ERROR:root:Failed to parse intersection: V764JN0013\n",
                        "ERROR:root:Failed to parse intersection: V764NY0953\n",
                        "ERROR:root:Failed to parse intersection: V764NY0969\n",
                        "ERROR:root:Failed to parse intersection: V764JN0011\n",
                        "ERROR:root:Failed to parse intersection: V764NY1009\n",
                        "ERROR:root:Failed to parse intersection: V764JN0016\n",
                        "ERROR:root:Failed to parse intersection: V764NY0951\n",
                        "ERROR:root:Failed to parse intersection: V764NY0938\n",
                        "ERROR:root:Failed to parse intersection: V764JN0006\n",
                        "ERROR:root:Failed to parse intersection: V764JN0005\n",
                        "ERROR:root:Failed to parse intersection: V764NY0992\n",
                        "ERROR:root:Failed to parse intersection: V764JN0015\n",
                        "ERROR:root:Failed to parse intersection: V764NY1010\n",
                        "ERROR:root:Failed to parse intersection: V764JN0020\n",
                        "ERROR:root:Failed to parse intersection: V764JN0018\n",
                        "ERROR:root:Failed to parse intersection: V764JN0010\n",
                        "ERROR:root:Failed to parse intersection: V764NY1003\n",
                        "ERROR:root:Failed to parse intersection: V764JN0002\n",
                        "ERROR:root:Failed to parse intersection: V764JN0017\n",
                        "ERROR:root:Failed to parse intersection: V764JN0003\n",
                        "ERROR:root:Failed to parse intersection: V764JN0008\n",
                        "ERROR:root:Failed to parse intersection: V764JN0009\n",
                        "ERROR:root:Failed to parse intersection: V764NY1028\n",
                        "ERROR:root:Failed to parse intersection: V764NY0946\n",
                        "ERROR:root:Failed to parse intersection: V764NY0949\n",
                        "ERROR:root:Failed to parse intersection: V764JN0007\n",
                        "ERROR:root:Failed to parse intersection: V764NY0968\n"
                    ]
                },
                {
                    "name": "stdout",
                    "output_type": "stream",
                    "text": [
                        "serial_number='V764KM0001' location_type=None latitude=0.0 longitude=0.0 make='GTT' model='V764' last_communicated=datetime.datetime(2022, 10, 12, 14, 17, 22, 655148) timezone='AST' operation_mode='Online/Normal' status='Normal' firmware_version='10.05.003' device_type=None address=None address_type=None mac_address='cc69b000e001' device_name='Street & Ave' time_localization_details=TimeLocalizationDetails(timezone='Azores Standard Time                                                                                                    ', utc_offset='-60', forward=Date(month='3', date='27', year='2022', hours='0', minutes='0', rule='0'), reverse=Date(month='10', date='30', year='2022', hours='1', minutes='0', rule='0')) last_configured=datetime.datetime(1900, 1, 1, 0, 0) approach_offset=0 approach_map=[ApproachMapEntry(approach_name='1', number_of_coordinates=2, coordinates=[Coordinate(latitude=0.0, longitude=301.0, width=30), Coordinate(latitude=-13.0, longitude=55.0, width=30)])] configuration_profile=ConfigurationProfile(format_version=164, profile_type=0, profile_index=1, profile_name='Default Profile', number_of_high_codes=0, number_of_low_codes=0, high_priority_relative_priorities_enabled=0, high_priority_relative_priorities=[15, 15, 15, 15, 15, 15, 15, 15, 15, 15, 15, 15, 15, 15, 15, 15], low_priority_relative_priorities_enabled=15, low_priority_relative_priorities=[15, 15, 15, 15, 15, 15, 15, 15, 15, 15, 15, 15, 15, 15, 15, 15], relative_priority_lockout_eta=15, conditional_priority_enabled=15, number_of_channels=15, low_codes=None, high_codes='', channels=[ThresholdChannel(format_version=None, priority=None, channel_name='15', channel='15', call_bridging_enabled=15, call_bridging_time=15, proximity_threshold=59403, high_priority=HighPriorityChannel(call_hold_time=15, eta_thresholds=[1, 44, 1, 44, 1, 44, 4, 176, 4, 176, 4, 176, 4, 176, 4, 176], distance_thresholds=[45060, 45060, 45060, 7680, 7710, 7710, 7710, 7710, 7710, 7710, 7710, 7680, 7710, 7710, 7710, 7710], max_call_time=3855, preempt_enabled=15, directional_priority=15, call_delay_time=15, off_approach_hold_time=15, primary_intensity_thresholds=[3855, 3855, 3855, 3855, 3855, 3855, 3855, 12, 4, 1, 771, 1536, 256, 26625, 26625, 1536], auxiliary_intensity_thresholds=[11265, 11265, 11265, 45060, 45060, 45060, 45060, 45060, 45060, 45060, 45060, 45060, 45060, 45060, 45060, 45060]), low_priority=LowPriorityChannel(call_hold_time=15, eta_thresholds=[4, 176, 4, 176, 4, 176, 4, 176, 4, 176, 4, 176, 4, 176, 4, 176], distance_thresholds=[7710, 7710, 7710, 0, 59403, 59403, 59403, 59403, 59403, 59403, 59403, 59403, 59403, 59403, 59403, 59403], max_call_time=3855, preempt_enabled=15, directional_priority=15, call_delay_time=0, off_approach_hold_time=15, primary_intensity_thresholds=[1536, 0, 1542, 11265, 11265, 11265, 11265, 11265, 11265, 11265, 11265, 11265, 11265, 11265, 11265, 11265], auxiliary_intensity_thresholds=[45060, 45060, 45060, 11265, 11265, 11265, 11265, 11265, 11265, 11265, 11265, 11265, 11265, 11265, 11265, 11265], reservice_enabled=15, reservice_time=15))]) thresholds=Thresholds(low_priority=[Channel(channel_name='15', channel='15', call_hold_time=15, max_call_time=3855, classes=[Class(level='1', name='Regular Transit', active=True, eta=4, distance=7710), Class(level='2', name='Express Transit', active=True, eta=176, distance=7710), Class(level='3', name='Paratransit', active=True, eta=4, distance=7710), Class(level='4', name='Light Rail', active=True, eta=176, distance=0), Class(level='5', name='Trolley', active=True, eta=4, distance=59403), Class(level='6', name='Snow Plows', active=True, eta=176, distance=59403), Class(level='7', name='Supervisor', active=True, eta=4, distance=59403), Class(level='8', name='Pavement Marking', active=True, eta=176, distance=59403), Class(level='9', name='Installer/Set-up', active=True, eta=4, distance=59403), Class(level='10', name='Bus Rapid Transit', active=False, eta=176, distance=59403), Class(level='10', name='Not used', active=False, eta=4, distance=59403), Class(level='11', name='Not used', active=False, eta=176, distance=59403), Class(level='12', name='Not used', active=False, eta=4, distance=59403), Class(level='13', name='Not used', active=False, eta=176, distance=59403), Class(level='14', name='Not used', active=False, eta=4, distance=59403), Class(level='15', name='Not used', active=False, eta=176, distance=59403)])], high_priority=[Channel(channel_name='15', channel='15', call_hold_time=15, max_call_time=3855, classes=[Class(level='1', name='Regular Transit', active=True, eta=1, distance=45060), Class(level='2', name='Express Transit', active=True, eta=44, distance=45060), Class(level='3', name='Paratransit', active=True, eta=1, distance=45060), Class(level='4', name='Light Rail', active=True, eta=44, distance=7680), Class(level='5', name='Trolley', active=True, eta=1, distance=7710), Class(level='6', name='Snow Plows', active=True, eta=44, distance=7710), Class(level='7', name='Supervisor', active=True, eta=4, distance=7710), Class(level='8', name='Pavement Marking', active=True, eta=176, distance=7710), Class(level='9', name='Installer/Set-up', active=True, eta=4, distance=7710), Class(level='10', name='Bus Rapid Transit', active=False, eta=176, distance=7710), Class(level='10', name='Not used', active=False, eta=4, distance=7710), Class(level='11', name='Not used', active=False, eta=176, distance=7680), Class(level='12', name='Not used', active=False, eta=4, distance=7710), Class(level='13', name='Not used', active=False, eta=176, distance=7710), Class(level='14', name='Not used', active=False, eta=4, distance=7710), Class(level='15', name='Not used', active=False, eta=176, distance=7710)])]) channels=[OutputChannel(channel='0', channel_name='A', format_version=167, logical_channel=0, phases=[1, 1, 1], high_priority_preempts=[2, 2, 2], low_priority_preempts=[3, 3, 3], low_priority_queue_jump_preempt=[0], assigned_approaches=[1, 0, 0, 0, 0, 0, 0, 0, 0, 0], check_in_check_out_enabled=[0], check_in_classes=[0, 0, 0, 0, 0, 0, 0, 0, 0, 0, 0, 0, 0, 0, 0, 0], check_in_entry_distance_threshold=0, check_in_exit_distance_threshold=0, check_in_announcement_output=[0, 0, 0], check_out_entry_threshold=0, forward_calls_in_forward_direction=0, priority_outputs=[0, 0, 0, 0, 0, 0, 0, 0, 0, 0, 0, 0, 0, 0, 0, 0, 0, 0, 0, 0, 0, 0, 0, 0, 0, 0, 0, 0, 0, 0, 0, 0, 0, 0, 0, 0, 0, 0, 0, 0, 0, 1, 0, 0, 0, 1, 0, 0, 0, 1, 2, 2, 2, 3, 3, 3, 0, 0, 0, 0, 0, 0, 0, 0, 0, 0, 0, 0, 0, 0, 0, 0, 0, 0, 0, 0, 0, 0, 0, 0, 0, 0, 0, 0, 0, 0, 0, 0, 0, 0, 0, 0, 0], ignore_heading=1, preempt_plan_evp=[1, 1, 1], priority_plan_tsp=[1, 1, 1]), OutputChannel(channel='1', channel_name='', format_version=167, logical_channel=1, phases=[2, 2, 2], high_priority_preempts=[1, 1, 1], low_priority_preempts=[1, 1, 1], low_priority_queue_jump_preempt=[0], assigned_approaches=[0, 0, 0, 0, 0, 0, 0, 0, 0, 0], check_in_check_out_enabled=[0], check_in_classes=[0, 0, 0, 0, 0, 0, 0, 0, 0, 0, 0, 0, 0, 0, 0, 0], check_in_entry_distance_threshold=0, check_in_exit_distance_threshold=0, check_in_announcement_output=[0, 0, 0], check_out_entry_threshold=0, forward_calls_in_forward_direction=0, priority_outputs=[0, 0, 0, 0, 0, 0, 0, 0, 0, 0, 0, 0, 0, 0, 0, 0, 0, 0, 0, 0, 0, 0, 0, 0, 0, 0, 0, 0, 0, 0, 0, 0, 0, 0, 0, 0, 0, 0, 0, 0, 0, 2, 0, 0, 0, 2, 0, 0, 0, 2, 1, 1, 1, 1, 1, 1, 0, 0, 0, 0, 0, 0, 0, 0, 0, 0, 0, 0, 0, 0, 0, 0, 0, 0, 0, 0, 0, 0, 0, 0, 0, 0, 0, 0, 0, 0, 0, 0, 0, 0, 0, 0, 0], ignore_heading=1, preempt_plan_evp=[2, 2, 2], priority_plan_tsp=[2, 2, 2]), OutputChannel(channel='2', channel_name='', format_version=167, logical_channel=2, phases=[3, 3, 3], high_priority_preempts=[4, 1, 1], low_priority_preempts=[1, 1, 1], low_priority_queue_jump_preempt=[0], assigned_approaches=[0, 0, 0, 0, 0, 0, 0, 0, 0, 0], check_in_check_out_enabled=[0], check_in_classes=[0, 0, 0, 0, 0, 0, 0, 0, 0, 0, 0, 0, 0, 0, 0, 0], check_in_entry_distance_threshold=0, check_in_exit_distance_threshold=0, check_in_announcement_output=[0, 0, 0], check_out_entry_threshold=0, forward_calls_in_forward_direction=0, priority_outputs=[0, 0, 0, 0, 0, 0, 0, 0, 0, 0, 0, 0, 0, 0, 0, 0, 0, 0, 0, 0, 0, 0, 0, 0, 0, 0, 0, 0, 0, 0, 0, 0, 0, 0, 0, 0, 0, 0, 0, 0, 0, 3, 0, 0, 0, 3, 0, 0, 0, 3, 4, 1, 1, 1, 1, 1, 0, 0, 0, 0, 0, 0, 0, 0, 0, 0, 0, 0, 0, 0, 0, 0, 0, 0, 0, 0, 0, 0, 0, 0, 0, 0, 0, 0, 0, 0, 0, 0, 0, 0, 0, 0, 0], ignore_heading=1, preempt_plan_evp=[3, 3, 3], priority_plan_tsp=[3, 3, 3]), OutputChannel(channel='3', channel_name='', format_version=167, logical_channel=3, phases=[4, 4, 4], high_priority_preempts=[13, 1, 1], low_priority_preempts=[1, 1, 1], low_priority_queue_jump_preempt=[0], assigned_approaches=[0, 0, 0, 0, 0, 0, 0, 0, 0, 0], check_in_check_out_enabled=[0], check_in_classes=[0, 0, 0, 0, 0, 0, 0, 0, 0, 0, 0, 0, 0, 0, 0, 0], check_in_entry_distance_threshold=0, check_in_exit_distance_threshold=0, check_in_announcement_output=[0, 0, 0], check_out_entry_threshold=0, forward_calls_in_forward_direction=0, priority_outputs=[0, 0, 0, 0, 0, 0, 0, 0, 0, 0, 0, 0, 0, 0, 0, 0, 0, 0, 0, 0, 0, 0, 0, 0, 0, 0, 0, 0, 0, 0, 0, 0, 0, 0, 0, 0, 0, 0, 0, 0, 0, 4, 0, 0, 0, 4, 0, 0, 0, 4, 13, 1, 1, 1, 1, 1, 0, 0, 0, 0, 0, 0, 0, 0, 0, 0, 0, 0, 0, 0, 0, 0, 0, 0, 0, 0, 0, 0, 0, 0, 0, 0, 0, 0, 0, 0, 0, 0, 0, 0, 0, 0, 0], ignore_heading=1, preempt_plan_evp=[4, 4, 4], priority_plan_tsp=[4, 4, 4])] outputs=Outputs(low_priority=Output(type=None, channels=[Channel(channel='0', straight=3, left=3, right=3), Channel(channel='1', straight=1, left=1, right=1), Channel(channel='2', straight=1, left=1, right=1), Channel(channel='3', straight=1, left=1, right=1)]), high_priority=Output(type=None, channels=[Channel(channel='0', straight=2, left=2, right=2), Channel(channel='1', straight=1, left=1, right=1), Channel(channel='2', straight=4, left=1, right=1), Channel(channel='3', straight=13, left=1, right=1)])) is_configured=False intersection_id='V764KM0001' intersection_name='Street & Ave' ip_address='3.86.39.209' port=3000\n"
                    ]
                }
            ],
            "source": [
                "print(len(intersection_service.list()))\n",
                "print(len(intersection_service.list(include_not_configured=True)))\n",
                "print(intersection_service.get_not_configured())"
            ]
        },
        {
            "cell_type": "code",
            "execution_count": null,
            "metadata": {},
            "outputs": [
                {
                    "name": "stdout",
                    "output_type": "stream",
                    "text": [
                        "[('V764KM0001', '3.86.39.209', 3000), ('V764JN0008', '3.86.39.209', 2307), ('V764JN0020', '3.86.39.209', 2319), ('V764JN0019', '3.86.39.209', 2318), ('V764JN0018', '3.86.39.209', 2317), ('V764JN0017', '3.86.39.209', 2316), ('V764JN0016', '3.86.39.209', 2315), ('V764JN0015', '3.86.39.209', 2314), ('V764JN0014', '3.86.39.209', 2313), ('V764JN0013', '3.86.39.209', 2312), ('V764JN0012', '3.86.39.209', 2311), ('V764JN0011', '3.86.39.209', 2310), ('V764JN0010', '3.86.39.209', 2309), ('V764JN0009', '3.86.39.209', 2308), ('V764JN0007', '3.86.39.209', 2306), ('V764JN0006', '3.86.39.209', 2305), ('V764JN0005', '3.86.39.209', 2304), ('V764JN0004', '3.86.39.209', 2303), ('V764JN0003', '3.86.39.209', 2302), ('V764JN0002', '3.86.39.209', 2301), ('V764JN0001', '3.86.39.209', 2300), ('V764NY0946', '3.86.39.209', 2078), ('V764NY0992', '3.86.39.209', 2067), ('V764NY1009', '3.86.39.209', 2037), ('V764NY0949', '3.86.39.209', 2025), ('V764NY0967', '3.86.39.209', 2036), ('V764NY0964', '3.86.39.209', 2019), ('V764NY0938', '3.86.39.209', 2035), ('V764NY1000', '3.86.39.209', 2018), ('V764NY1004', '3.86.39.209', 2032), ('V764NY1021', '3.86.39.209', 2031), ('V764NY0953', '3.86.39.209', 2029), ('V764NY0951', '3.86.39.209', 2048), ('V764NY0969', '3.86.39.209', 2028), ('V764NY0996', '3.86.39.209', 2047), ('V764NY1003', '3.86.39.209', 2027), ('V764NY0968', '3.86.39.209', 2016), ('V764NY0966', '3.86.39.209', 2009), ('V764NY0976', '3.86.39.209', 2007), ('V764NY1028', '3.86.39.209', 2030), ('V764NY1010', '3.86.39.209', 2033)]\n"
                    ]
                }
            ],
            "source": [
                "print(phase_selector_service.list_serial_numbers([\"i-03df9aa039ef30ebc\"]))"
            ]
        },
        {
            "cell_type": "code",
            "execution_count": 10,
            "metadata": {},
            "outputs": [
                {
                    "name": "stderr",
                    "output_type": "stream",
                    "text": [
                        "ERROR:root:Cached intersection different than device intersection\n"
                    ]
                }
            ],
            "source": [
                "from gtt.data_model.intersection import Intersection\n",
                "\n",
                "with open(\"data/intersection__thresholds.json\") as f:\n",
                "    intersection = Intersection.parse_raw(f.read())\n",
                "    intersection_service.write(intersection)"
            ]
        },
        {
            "cell_type": "code",
            "execution_count": 12,
            "metadata": {},
            "outputs": [
                {
                    "name": "stdout",
                    "output_type": "stream",
                    "text": [
                        "90 3\n",
                        "186 3\n"
                    ]
                },
                {
                    "name": "stderr",
                    "output_type": "stream",
                    "text": [
                        "ERROR:root:Cached intersection different than device intersection\n",
                        "ERROR:root:Error packing message ID 0x24: object of type 'NoneType' has no len()\n"
                    ]
                },
                {
                    "name": "stdout",
                    "output_type": "stream",
                    "text": [
                        "90 3\n",
                        "186 3\n"
                    ]
                }
            ],
            "source": [
                "from gtt.data_model.intersection import Intersection, PhaseSelector\n",
                "\n",
                "with open(\"data/intersection__approach_map.json\") as f:\n",
                "    intersection = Intersection.parse_raw(f.read())\n",
                "    intersection_service.write(intersection)"
            ]
        },
        {
            "cell_type": "code",
            "execution_count": 11,
            "metadata": {},
            "outputs": [
                {
                    "data": {
                        "text/plain": [
                            "Thresholds(low_priority=[Channel(channel_name='0', channel='0', call_hold_time=6, max_call_time=34, classes=[Class(level='1', name='Regular Transit', active=True, eta=0, distance=0), Class(level='2', name='Express Transit', active=True, eta=30, distance=3048), Class(level='3', name='Paratransit', active=True, eta=30, distance=3048), Class(level='4', name='Light Rail', active=True, eta=30, distance=3048), Class(level='5', name='Trolley', active=True, eta=30, distance=3048), Class(level='6', name='Snow Plows', active=True, eta=30, distance=3048), Class(level='7', name='Supervisor', active=True, eta=30, distance=3048), Class(level='8', name='Pavement Marking', active=True, eta=30, distance=3048), Class(level='9', name='Installer/Set-up', active=True, eta=30, distance=3048), Class(level='10', name='Bus Rapid Transit', active=False, eta=30, distance=3048), Class(level='11', name='Not used', active=False, eta=30, distance=3048), Class(level='12', name='Not used', active=False, eta=30, distance=3048), Class(level='13', name='Not used', active=False, eta=30, distance=3048), Class(level='14', name='Not used', active=False, eta=30, distance=3048), Class(level='15', name='Not used', active=False, eta=30, distance=3048), Class(level='16', name='Not used', active=False, eta=30, distance=3048)]), Channel(channel_name='1', channel='1', call_hold_time=6, max_call_time=360, classes=[Class(level='1', name='Regular Transit', active=True, eta=0, distance=0), Class(level='2', name='Express Transit', active=True, eta=30, distance=3048), Class(level='3', name='Paratransit', active=True, eta=30, distance=3048), Class(level='4', name='Light Rail', active=True, eta=30, distance=3048), Class(level='5', name='Trolley', active=True, eta=30, distance=3048), Class(level='6', name='Snow Plows', active=True, eta=30, distance=3048), Class(level='7', name='Supervisor', active=True, eta=30, distance=3048), Class(level='8', name='Pavement Marking', active=True, eta=30, distance=3048), Class(level='9', name='Installer/Set-up', active=True, eta=30, distance=3048), Class(level='10', name='Bus Rapid Transit', active=False, eta=30, distance=3048), Class(level='11', name='Not used', active=False, eta=30, distance=3048), Class(level='12', name='Not used', active=False, eta=30, distance=3048), Class(level='13', name='Not used', active=False, eta=30, distance=3048), Class(level='14', name='Not used', active=False, eta=30, distance=3048), Class(level='15', name='Not used', active=False, eta=30, distance=3048), Class(level='16', name='Not used', active=False, eta=30, distance=3048)]), Channel(channel_name='2', channel='2', call_hold_time=6, max_call_time=360, classes=[Class(level='1', name='Regular Transit', active=True, eta=0, distance=0), Class(level='2', name='Express Transit', active=True, eta=30, distance=3048), Class(level='3', name='Paratransit', active=True, eta=30, distance=3048), Class(level='4', name='Light Rail', active=True, eta=30, distance=3048), Class(level='5', name='Trolley', active=True, eta=30, distance=3048), Class(level='6', name='Snow Plows', active=True, eta=30, distance=3048), Class(level='7', name='Supervisor', active=True, eta=30, distance=3048), Class(level='8', name='Pavement Marking', active=True, eta=30, distance=3048), Class(level='9', name='Installer/Set-up', active=True, eta=30, distance=3048), Class(level='10', name='Bus Rapid Transit', active=False, eta=30, distance=3048), Class(level='11', name='Not used', active=False, eta=30, distance=3048), Class(level='12', name='Not used', active=False, eta=30, distance=3048), Class(level='13', name='Not used', active=False, eta=30, distance=3048), Class(level='14', name='Not used', active=False, eta=30, distance=3048), Class(level='15', name='Not used', active=False, eta=30, distance=3048), Class(level='16', name='Not used', active=False, eta=30, distance=3048)]), Channel(channel_name='3', channel='3', call_hold_time=6, max_call_time=360, classes=[Class(level='1', name='Regular Transit', active=True, eta=0, distance=0), Class(level='2', name='Express Transit', active=True, eta=30, distance=3048), Class(level='3', name='Paratransit', active=True, eta=30, distance=3048), Class(level='4', name='Light Rail', active=True, eta=30, distance=3048), Class(level='5', name='Trolley', active=True, eta=30, distance=3048), Class(level='6', name='Snow Plows', active=True, eta=30, distance=3048), Class(level='7', name='Supervisor', active=True, eta=30, distance=3048), Class(level='8', name='Pavement Marking', active=True, eta=30, distance=3048), Class(level='9', name='Installer/Set-up', active=True, eta=30, distance=3048), Class(level='10', name='Bus Rapid Transit', active=False, eta=30, distance=3048), Class(level='11', name='Not used', active=False, eta=30, distance=3048), Class(level='12', name='Not used', active=False, eta=30, distance=3048), Class(level='13', name='Not used', active=False, eta=30, distance=3048), Class(level='14', name='Not used', active=False, eta=30, distance=3048), Class(level='15', name='Not used', active=False, eta=30, distance=3048), Class(level='16', name='Not used', active=False, eta=30, distance=3048)])], high_priority=[Channel(channel_name='0', channel='0', call_hold_time=0, max_call_time=360, classes=[Class(level='1', name='Regular Transit', active=True, eta=0, distance=0), Class(level='2', name='Express Transit', active=True, eta=30, distance=3048), Class(level='3', name='Paratransit', active=True, eta=30, distance=3048), Class(level='4', name='Light Rail', active=True, eta=30, distance=3048), Class(level='5', name='Trolley', active=True, eta=30, distance=3048), Class(level='6', name='Snow Plows', active=True, eta=30, distance=3048), Class(level='7', name='Supervisor', active=True, eta=30, distance=3048), Class(level='8', name='Pavement Marking', active=True, eta=30, distance=3048), Class(level='9', name='Installer/Set-up', active=True, eta=30, distance=3048), Class(level='10', name='Bus Rapid Transit', active=False, eta=30, distance=3048), Class(level='11', name='Not used', active=False, eta=30, distance=3048), Class(level='12', name='Not used', active=False, eta=30, distance=3048), Class(level='13', name='Not used', active=False, eta=30, distance=3048), Class(level='14', name='Not used', active=False, eta=30, distance=3048), Class(level='15', name='Not used', active=False, eta=30, distance=3048), Class(level='16', name='Not used', active=False, eta=30, distance=3048)]), Channel(channel_name='1', channel='1', call_hold_time=0, max_call_time=360, classes=[Class(level='1', name='Regular Transit', active=True, eta=0, distance=0), Class(level='2', name='Express Transit', active=True, eta=30, distance=3048), Class(level='3', name='Paratransit', active=True, eta=30, distance=3048), Class(level='4', name='Light Rail', active=True, eta=30, distance=3048), Class(level='5', name='Trolley', active=True, eta=30, distance=3048), Class(level='6', name='Snow Plows', active=True, eta=30, distance=3048), Class(level='7', name='Supervisor', active=True, eta=30, distance=3048), Class(level='8', name='Pavement Marking', active=True, eta=30, distance=3048), Class(level='9', name='Installer/Set-up', active=True, eta=30, distance=3048), Class(level='10', name='Bus Rapid Transit', active=False, eta=30, distance=3048), Class(level='11', name='Not used', active=False, eta=30, distance=3048), Class(level='12', name='Not used', active=False, eta=30, distance=3048), Class(level='13', name='Not used', active=False, eta=30, distance=3048), Class(level='14', name='Not used', active=False, eta=30, distance=3048), Class(level='15', name='Not used', active=False, eta=30, distance=3048), Class(level='16', name='Not used', active=False, eta=30, distance=3048)]), Channel(channel_name='2', channel='2', call_hold_time=0, max_call_time=360, classes=[Class(level='1', name='Regular Transit', active=True, eta=0, distance=0), Class(level='2', name='Express Transit', active=True, eta=30, distance=3048), Class(level='3', name='Paratransit', active=True, eta=30, distance=3048), Class(level='4', name='Light Rail', active=True, eta=30, distance=3048), Class(level='5', name='Trolley', active=True, eta=30, distance=3048), Class(level='6', name='Snow Plows', active=True, eta=30, distance=3048), Class(level='7', name='Supervisor', active=True, eta=30, distance=3048), Class(level='8', name='Pavement Marking', active=True, eta=30, distance=3048), Class(level='9', name='Installer/Set-up', active=True, eta=30, distance=3048), Class(level='10', name='Bus Rapid Transit', active=False, eta=30, distance=3048), Class(level='11', name='Not used', active=False, eta=30, distance=3048), Class(level='12', name='Not used', active=False, eta=30, distance=3048), Class(level='13', name='Not used', active=False, eta=30, distance=3048), Class(level='14', name='Not used', active=False, eta=30, distance=3048), Class(level='15', name='Not used', active=False, eta=30, distance=3048), Class(level='16', name='Not used', active=False, eta=30, distance=3048)]), Channel(channel_name='3', channel='3', call_hold_time=0, max_call_time=360, classes=[Class(level='1', name='Regular Transit', active=True, eta=0, distance=0), Class(level='2', name='Express Transit', active=True, eta=30, distance=3048), Class(level='3', name='Paratransit', active=True, eta=30, distance=3048), Class(level='4', name='Light Rail', active=True, eta=30, distance=3048), Class(level='5', name='Trolley', active=True, eta=30, distance=3048), Class(level='6', name='Snow Plows', active=True, eta=30, distance=3048), Class(level='7', name='Supervisor', active=True, eta=30, distance=3048), Class(level='8', name='Pavement Marking', active=True, eta=30, distance=3048), Class(level='9', name='Installer/Set-up', active=True, eta=30, distance=3048), Class(level='10', name='Bus Rapid Transit', active=False, eta=30, distance=3048), Class(level='11', name='Not used', active=False, eta=30, distance=3048), Class(level='12', name='Not used', active=False, eta=30, distance=3048), Class(level='13', name='Not used', active=False, eta=30, distance=3048), Class(level='14', name='Not used', active=False, eta=30, distance=3048), Class(level='15', name='Not used', active=False, eta=30, distance=3048), Class(level='16', name='Not used', active=False, eta=30, distance=3048)])])"
                        ]
                    },
                    "execution_count": 11,
                    "metadata": {},
                    "output_type": "execute_result"
                }
            ],
            "source": [
                "intersection_service.read(intersection.serial_number).thresholds"
            ]
        },
        {
            "cell_type": "code",
            "execution_count": null,
            "metadata": {},
            "outputs": [],
            "source": [
                "import json\n",
                "\n",
                "with open(\"test.json\", \"w\") as f:\n",
                "    f.write(\n",
                "        json.dumps(\n",
                "            json.loads(\n",
                "                intersection_service.read(ip_address=\"3.86.39.209\", port=2030).json()\n",
                "            ),\n",
                "            indent=4,\n",
                "        )\n",
                "    )"
            ]
        },
        {
            "cell_type": "markdown",
            "metadata": {},
            "source": [
                "### Editing Device"
            ]
        },
        {
            "cell_type": "code",
            "execution_count": null,
            "metadata": {},
            "outputs": [
                {
                    "data": {
                        "text/plain": [
                            "'V764NY0946'"
                        ]
                    },
                    "execution_count": 13,
                    "metadata": {},
                    "output_type": "execute_result"
                }
            ],
            "source": [
                "phase_selector.serial_number"
            ]
        },
        {
            "cell_type": "code",
            "execution_count": null,
            "metadata": {},
            "outputs": [],
            "source": [
                "import json\n",
                "from gtt.data_model.intersection import Intersection, PhaseSelector\n",
                "from gtt.data_model.intersection.phase_selector import ApproachMapEntry\n",
                "\n",
                "\n",
                "put_request_intersection = Intersection(\n",
                "    **{\n",
                "        \"ip_address\": ip_address,\n",
                "        \"port\": port,\n",
                "        \"intersection_name\": \"New name 2\",\n",
                "        **phase_selector.dict(\n",
                "            include={\n",
                "                \"location_type\",\n",
                "                \"latitude\",\n",
                "                \"longitude\",\n",
                "                \"timezone\",\n",
                "                \"outputs\",\n",
                "                \"serial_number\",\n",
                "                \"make\",\n",
                "                \"model\",\n",
                "            },\n",
                "            by_alias=True,\n",
                "        ),\n",
                "        \"thresholds\": phase_selector.thresholds.dict(by_alias=True),\n",
                "        \"approach_map\": [\n",
                "            ApproachMapEntry.parse_obj(\n",
                "                {\n",
                "                    \"approach_name\": \"1\",\n",
                "                    \"number_of_coordinates\": 2,\n",
                "                    \"coordinates\": [\n",
                "                        {\"latitude\": -1643.0, \"longitude\": -15.0},\n",
                "                        {\"latitude\": -11.0, \"longitude\": 1.0},\n",
                "                    ],\n",
                "                }\n",
                "            )\n",
                "        ],\n",
                "    }\n",
                ")"
            ]
        },
        {
            "cell_type": "code",
            "execution_count": null,
            "metadata": {},
            "outputs": [
                {
                    "name": "stderr",
                    "output_type": "stream",
                    "text": [
                        "ERROR:root:Invalid intersection retrieved from dynamo table: 4 validation errors for Intersection\n",
                        "channels -> 0 -> formatVersion\n",
                        "  value is not a valid integer (type=type_error.integer)\n",
                        "channels -> 1 -> formatVersion\n",
                        "  value is not a valid integer (type=type_error.integer)\n",
                        "channels -> 2 -> formatVersion\n",
                        "  value is not a valid integer (type=type_error.integer)\n",
                        "channels -> 3 -> formatVersion\n",
                        "  value is not a valid integer (type=type_error.integer)\n",
                        "ERROR:root:Ran into error message ID 0x1f, retrying (1 / 3): Invalid response received from device: unpack requires a buffer of 192 bytes\n",
                        "ERROR:root:Ran into error message ID 0x1f, retrying (2 / 3): Invalid response received from device: unpack requires a buffer of 192 bytes\n",
                        "ERROR:root:Ran into error message ID 0x1f, retrying (3 / 3): Invalid response received from device: unpack requires a buffer of 192 bytes\n",
                        "ERROR:root:Ran into error message ID 0x1f, retrying (1 / 3): Invalid response received from device: unpack requires a buffer of 192 bytes\n",
                        "ERROR:root:Ran into error message ID 0x1f, retrying (2 / 3): Invalid response received from device: unpack requires a buffer of 192 bytes\n",
                        "ERROR:root:Ran into error message ID 0x1f, retrying (3 / 3): Invalid response received from device: unpack requires a buffer of 192 bytes\n",
                        "ERROR:root:Error packing message ID 0x0b: float() argument must be a string or a number, not 'NoneType'\n",
                        "ERROR:root:Error packing message ID 0x22: required argument is not an integer\n",
                        "ERROR:root:Error packing message ID 0x24: unsupported operand type(s) for -: 'float' and 'NoneType'\n",
                        "ERROR:root:Ran into error message ID 0x1f, retrying (1 / 3): Invalid response received from device: unpack requires a buffer of 192 bytes\n",
                        "ERROR:root:Ran into error message ID 0x1f, retrying (2 / 3): Invalid response received from device: unpack requires a buffer of 192 bytes\n",
                        "ERROR:root:Ran into error message ID 0x1f, retrying (3 / 3): Invalid response received from device: unpack requires a buffer of 192 bytes\n"
                    ]
                }
            ],
            "source": [
                "put_request_intersection_response = intersection_service.write(put_request_intersection)"
            ]
        },
        {
            "cell_type": "code",
            "execution_count": null,
            "metadata": {},
            "outputs": [
                {
                    "name": "stderr",
                    "output_type": "stream",
                    "text": [
                        "ERROR:root:Ran into error message ID 0x1f, retrying (1 / 3): Invalid response received from device: unpack requires a buffer of 192 bytes\n",
                        "ERROR:root:Ran into error message ID 0x1f, retrying (2 / 3): Invalid response received from device: unpack requires a buffer of 192 bytes\n",
                        "ERROR:root:Ran into error message ID 0x1f, retrying (3 / 3): Invalid response received from device: unpack requires a buffer of 192 bytes\n"
                    ]
                }
            ],
            "source": [
                "put_request_phase_selector = phase_selector_service.read(ip_address=ip_address, port=port)"
            ]
        },
        {
            "cell_type": "code",
            "execution_count": null,
            "metadata": {},
            "outputs": [
                {
                    "data": {
                        "text/plain": [
                            "'New name 2'"
                        ]
                    },
                    "execution_count": 17,
                    "metadata": {},
                    "output_type": "execute_result"
                }
            ],
            "source": [
                "put_request_phase_selector.device_name"
            ]
        },
        {
            "cell_type": "code",
            "execution_count": null,
            "metadata": {},
            "outputs": [
                {
                    "data": {
                        "text/plain": [
                            "'New name 2'"
                        ]
                    },
                    "execution_count": 18,
                    "metadata": {},
                    "output_type": "execute_result"
                }
            ],
            "source": [
                "put_request_intersection_response.intersection_name"
            ]
        },
        {
            "cell_type": "code",
            "execution_count": null,
            "metadata": {},
            "outputs": [
                {
                    "data": {
                        "text/plain": [
                            "'New name 2'"
                        ]
                    },
                    "execution_count": 19,
                    "metadata": {},
                    "output_type": "execute_result"
                }
            ],
            "source": [
                "put_request_intersection_response.device_name"
            ]
        },
        {
            "cell_type": "code",
            "execution_count": null,
            "metadata": {},
            "outputs": [
                {
                    "data": {
                        "text/plain": [
                            "[]"
                        ]
                    },
                    "execution_count": 20,
                    "metadata": {},
                    "output_type": "execute_result"
                }
            ],
            "source": [
                "put_request_intersection_response.approach_map"
            ]
        },
        {
            "cell_type": "markdown",
            "metadata": {},
            "source": [
                "### Create Device"
            ]
        },
        {
            "cell_type": "code",
            "execution_count": 5,
            "metadata": {},
            "outputs": [
                {
                    "name": "stderr",
                    "output_type": "stream",
                    "text": [
                        "INFO:root:Received event={'pathParameters': {'serialNumber': '123456789'}, 'requestContext': {}, 'queryStringParameters': {'agencyId': 'sfmta'}, 'body': {'intersectionId': 12348, 'intersectionName': 'abc', 'latitude': 37.343312, 'longitude': 122.453532, 'lastCommunicated': '2022-07-10 12:01:01', 'make': 'GTT', 'model': 'v764', 'timezone': 'CST', 'operationMode': 'High', 'status': 'Normal', 'firmwareVersion': 1.2, 'ipAddress': '3.86.39.209', 'port': 3000}, 'httpMethod': 'POST'}, context={}\n",
                        "INFO:root:Status Code: 500 Body: {'error': \"'QueryParameters' object has no attribute 'serial_number'\"} \n"
                    ]
                },
                {
                    "data": {
                        "text/plain": [
                            "{'statusCode': 500,\n",
                            " 'body': '{\"error\": \"\\'QueryParameters\\' object has no attribute \\'serial_number\\'\"}',\n",
                            " 'headers': {'Content-Type': 'application/json',\n",
                            "  'Access-Control-Allow-Origin': '*'}}"
                        ]
                    },
                    "execution_count": 5,
                    "metadata": {},
                    "output_type": "execute_result"
                }
            ],
            "source": [
                "try:\n",
                "    sys.path.remove(f\"{root_path}/ClientAPI/api/intersections/intersections\")\n",
                "except:\n",
                "    pass\n",
                "try:\n",
                "    sys.path.remove(f\"{root_path}/ClientAPI/api/intersections/intersection\")\n",
                "except:\n",
                "    pass\n",
                "\n",
                "sys.path.insert(0, f\"{root_path}/ClientAPI/api/intersections\")\n",
                "sys.path.insert(0, f\"{root_path}/ClientAPI/api/intersections/intersection\")\n",
                "\n",
                "\n",
                "from intersection.app import handler\n",
                "\n",
                "body = {\n",
                "        \"intersectionId\": 12348,\n",
                "        \"intersectionName\": \"abc\",\n",
                "        \"latitude\": 37.343312,\n",
                "        \"longitude\": 122.453532,\n",
                "        \"lastCommunicated\": \"2022-07-10 12:01:01\",\n",
                "        \"make\": \"GTT\",\n",
                "        \"model\": \"v764\",\n",
                "        \"timezone\": \"CST\",\n",
                "        \"operationMode\": \"High\",\n",
                "        \"status\": \"Normal\",\n",
                "        \"firmwareVersion\": 1.2,\n",
                "        \"ipAddress\": \"3.86.39.209\",\n",
                "        \"port\": 3000\n",
                "    }\n",
                "\n",
                "# POST\n",
                "event = {\n",
                "    \"pathParameters\": {\n",
                "        \"serialNumber\": \"123456789\"\n",
                "    },\n",
                "    \"requestContext\": {},\n",
                "    \"queryStringParameters\": {\n",
                "        \"agencyId\": \"sfmta\"\n",
                "    },\n",
                "    \"body\": body,\n",
                "    \"httpMethod\": \"POST\",\n",
                "}\n",
                "context = {}\n",
                "\n",
                "handler(event, context)"
            ]
        },
        {
            "cell_type": "code",
            "execution_count": null,
            "metadata": {},
            "outputs": [
                {
                    "name": "stderr",
                    "output_type": "stream",
                    "text": [
                        "INFO:root:Received event={'pathParameters': {}, 'requestContext': {}, 'queryStringParameters': {'agencyId': 'sfmta'}, 'body': {'intersectionId': 12348, 'intersectionName': 'abc', 'latitude': 37.343312, 'longitude': 122.453532}, 'httpMethod': 'POST'}, context={}\n",
                        "INFO:root:Status Code: 400 Body: {'error': '1 validation error for ParsingModel[CreateRequest]\\n__root__ -> pathParameters -> serialNumber\\n  field required (type=value_error.missing)'} \n"
                    ]
                },
                {
                    "data": {
                        "text/plain": [
                            "{'statusCode': 400,\n",
                            " 'body': '{\"error\": \"1 validation error for ParsingModel[CreateRequest]\\\\n__root__ -> pathParameters -> serialNumber\\\\n  field required (type=value_error.missing)\"}',\n",
                            " 'headers': {'Content-Type': 'application/json',\n",
                            "  'Access-Control-Allow-Origin': '*'}}"
                        ]
                    },
                    "execution_count": 22,
                    "metadata": {},
                    "output_type": "execute_result"
                }
            ],
            "source": [
                "from intersections.app import handler\n",
                "\n",
                "body = {\n",
                "        \"intersectionId\": 12348,\n",
                "        \"intersectionName\": \"abc\",\n",
                "        \"latitude\": 37.343312,\n",
                "        \"longitude\": 122.453532\n",
                "    }\n",
                "\n",
                "# POST\n",
                "event = {\n",
                "    \"pathParameters\": {},\n",
                "    \"requestContext\": {},\n",
                "    \"queryStringParameters\": {\n",
                "        \"agencyId\": \"sfmta\"\n",
                "    },\n",
                "    \"body\": body,\n",
                "    \"httpMethod\": \"POST\",\n",
                "}\n",
                "context = {}\n",
                "\n",
                "handler(event, context)"
            ]
        },
        {
            "cell_type": "code",
            "execution_count": null,
            "metadata": {},
            "outputs": [
                {
                    "name": "stderr",
                    "output_type": "stream",
                    "text": [
                        "INFO:root:Received event={'pathParameters': {'serialNumber': 'V764NY0946'}, 'requestContext': None, 'queryStringParameters': {'agencyId': 'sfmta'}, 'httpMethod': 'GET'}, context={}\n",
                        "ERROR:root:Ran into error message ID 0x1f, retrying (1 / 3): Invalid response received from device: unpack requires a buffer of 192 bytes\n",
                        "ERROR:root:Ran into error message ID 0x1f, retrying (2 / 3): Invalid response received from device: unpack requires a buffer of 192 bytes\n",
                        "ERROR:root:Ran into error message ID 0x1f, retrying (3 / 3): Invalid response received from device: unpack requires a buffer of 192 bytes\n",
                        "INFO:root:Status Code: 200 Body: {'serialNumber': 'V764NY0946', 'latitude': None, 'longitude': None, 'make': 'GTT', 'model': 'V764', 'lastCommunicated': datetime.datetime(2022, 10, 12, 14, 17, 42, 535361), 'timezone': 'CST', 'operationMode': 'Online/Normal', 'status': 'Normal', 'firmwareVersion': None, 'approachMap': [], 'thresholds': {'lowPriority': [{'channelName': '15', 'channel': '15', 'lostSignalHold': 15, 'maxCallTime': 3855, 'classes': [{'class': '1', 'name': 'Regular Transit', 'active': True, 'eta': 4, 'distance': 7710}, {'class': '2', 'name': 'Express Transit', 'active': True, 'eta': 176, 'distance': 7710}, {'class': '3', 'name': 'Paratransit', 'active': True, 'eta': 4, 'distance': 7710}, {'class': '4', 'name': 'Light Rail', 'active': True, 'eta': 176, 'distance': 0}, {'class': '5', 'name': 'Trolley', 'active': True, 'eta': 4, 'distance': 59403}, {'class': '6', 'name': 'Snow Plows', 'active': True, 'eta': 176, 'distance': 59403}, {'class': '7', 'name': 'Supervisor', 'active': True, 'eta': 4, 'distance': 59403}, {'class': '8', 'name': 'Pavement Marking', 'active': True, 'eta': 176, 'distance': 59403}, {'class': '9', 'name': 'Installer/Set-up', 'active': True, 'eta': 4, 'distance': 59403}, {'class': '10', 'name': 'Bus Rapid Transit', 'active': False, 'eta': 176, 'distance': 59403}, {'class': '10', 'name': 'Not used', 'active': False, 'eta': 4, 'distance': 59403}, {'class': '11', 'name': 'Not used', 'active': False, 'eta': 176, 'distance': 59403}, {'class': '12', 'name': 'Not used', 'active': False, 'eta': 4, 'distance': 59403}, {'class': '13', 'name': 'Not used', 'active': False, 'eta': 176, 'distance': 59403}, {'class': '14', 'name': 'Not used', 'active': False, 'eta': 4, 'distance': 59403}, {'class': '15', 'name': 'Not used', 'active': False, 'eta': 176, 'distance': 59403}]}], 'highPriority': [{'channelName': '15', 'channel': '15', 'lostSignalHold': 15, 'maxCallTime': 3855, 'classes': [{'class': '1', 'name': 'Regular Transit', 'active': True, 'eta': 1, 'distance': 45060}, {'class': '2', 'name': 'Express Transit', 'active': True, 'eta': 44, 'distance': 45060}, {'class': '3', 'name': 'Paratransit', 'active': True, 'eta': 1, 'distance': 45060}, {'class': '4', 'name': 'Light Rail', 'active': True, 'eta': 44, 'distance': 7680}, {'class': '5', 'name': 'Trolley', 'active': True, 'eta': 1, 'distance': 7710}, {'class': '6', 'name': 'Snow Plows', 'active': True, 'eta': 44, 'distance': 7710}, {'class': '7', 'name': 'Supervisor', 'active': True, 'eta': 4, 'distance': 7710}, {'class': '8', 'name': 'Pavement Marking', 'active': True, 'eta': 176, 'distance': 7710}, {'class': '9', 'name': 'Installer/Set-up', 'active': True, 'eta': 4, 'distance': 7710}, {'class': '10', 'name': 'Bus Rapid Transit', 'active': False, 'eta': 176, 'distance': 7710}, {'class': '10', 'name': 'Not used', 'active': False, 'eta': 4, 'distance': 7710}, {'class': '11', 'name': 'Not used', 'active': False, 'eta': 176, 'distance': 7680}, {'class': '12', 'name': 'Not used', 'active': False, 'eta': 4, 'distance': 7710}, {'class': '13', 'name': 'Not used', 'active': False, 'eta': 176, 'distance': 7710}, {'class': '14', 'name': 'Not used', 'active': False, 'eta': 4, 'distance': 7710}, {'class': '15', 'name': 'Not used', 'active': False, 'eta': 176, 'distance': 7710}]}]}, 'outputs': {'lowPriority': {'type': None, 'channels': [{'channel': '0', 'straight': 1, 'left': 1, 'right': 1}, {'channel': '1', 'straight': 2, 'left': 2, 'right': 2}, {'channel': '2', 'straight': 3, 'left': 3, 'right': 3}, {'channel': '3', 'straight': 4, 'left': 4, 'right': 4}]}, 'highPriority': {'type': None, 'channels': [{'channel': '0', 'straight': 1, 'left': 1, 'right': 1}, {'channel': '1', 'straight': 2, 'left': 2, 'right': 2}, {'channel': '2', 'straight': 3, 'left': 3, 'right': 3}, {'channel': '3', 'straight': 4, 'left': 4, 'right': 4}]}}, 'isConfigured': False, 'intersectionId': 'V764NY0946', 'intersectionName': 'New name 2'} \n",
                        "INFO:root:Received event={'pathParameters': {'serialNumber': 'V764NY0946'}, 'requestContext': None, 'queryStringParameters': {'agencyId': 'sfmta'}, 'body': {'intersectionName': 'Test Intersection', 'latitude': 40, 'longitude': 128}, 'httpMethod': 'POST'}, context={}\n",
                        "INFO:root:Status Code: 500 Body: {'error': \"'QueryParameters' object has no attribute 'serial_number'\"} \n"
                    ]
                },
                {
                    "data": {
                        "text/plain": [
                            "{'statusCode': 500,\n",
                            " 'body': '{\"error\": \"\\'QueryParameters\\' object has no attribute \\'serial_number\\'\"}',\n",
                            " 'headers': {'Content-Type': 'application/json',\n",
                            "  'Access-Control-Allow-Origin': '*'}}"
                        ]
                    },
                    "execution_count": 23,
                    "metadata": {},
                    "output_type": "execute_result"
                }
            ],
            "source": [
                "from intersection.app import handler\n",
                "\n",
                "\n",
                "import logging\n",
                "\n",
                "logging.getLogger().setLevel(logging.INFO)\n",
                "\n",
                "event = {\n",
                "    \"pathParameters\": {\n",
                "        \"serialNumber\": \"V764NY0946\"\n",
                "    },\n",
                "    \"requestContext\": None,\n",
                "    \"queryStringParameters\": {\n",
                "        \"agencyId\": \"sfmta\"\n",
                "    },\n",
                "    \"httpMethod\": \"GET\",\n",
                "}\n",
                "context = {}\n",
                "\n",
                "handler(event, context)\n",
                "\n",
                "event = {\n",
                "    \"pathParameters\": {\n",
                "        \"serialNumber\": \"V764NY0946\"\n",
                "    },\n",
                "    \"requestContext\": None,\n",
                "    \"queryStringParameters\": {\n",
                "        \"agencyId\": \"sfmta\"\n",
                "    },\n",
                "    \"body\": {\n",
                "        \"intersectionName\": \"Test Intersection\",\n",
                "        \"latitude\": 40,\n",
                "        \"longitude\": 128\n",
                "    },\n",
                "    \"httpMethod\": \"POST\",\n",
                "}\n",
                "\n",
                "handler(event, context)"
            ]
        },
        {
            "cell_type": "code",
            "execution_count": null,
            "metadata": {},
            "outputs": [
                {
                    "name": "stderr",
                    "output_type": "stream",
                    "text": [
                        "INFO:root:Listing serial numbers from 1 instances\n",
                        "INFO:root:Sending command for instance ID: i-03df9aa039ef30ebc\n",
                        "INFO:root:Retrieving response\n",
                        "INFO:root:Sending command for IP addresses\n"
                    ]
                },
                {
                    "name": "stdout",
                    "output_type": "stream",
                    "text": [
                        "V764KM0001 3.86.39.209 3000\n"
                    ]
                },
                {
                    "name": "stderr",
                    "output_type": "stream",
                    "text": [
                        "ERROR:root:Cached intersection different than device intersection\n",
                        "ERROR:root:Error packing message ID 0x22: required argument is not an integer\n"
                    ]
                },
                {
                    "name": "stdout",
                    "output_type": "stream",
                    "text": [
                        "V764JN0008 3.86.39.209 2307\n"
                    ]
                },
                {
                    "name": "stderr",
                    "output_type": "stream",
                    "text": [
                        "ERROR:root:Cached intersection different than device intersection\n",
                        "ERROR:root:Error packing message ID 0x22: required argument is not an integer\n"
                    ]
                },
                {
                    "name": "stdout",
                    "output_type": "stream",
                    "text": [
                        "V764JN0020 3.86.39.209 2319\n"
                    ]
                },
                {
                    "name": "stderr",
                    "output_type": "stream",
                    "text": [
                        "ERROR:root:Cached intersection different than device intersection\n",
                        "ERROR:root:Error packing message ID 0x22: required argument is not an integer\n"
                    ]
                }
            ],
            "source": [
                "for (serial_number, ip_address, port) in phase_selector_service.list_serial_numbers([\"i-03df9aa039ef30ebc\"])[0:3]:\n",
                "    print(serial_number, ip_address, port)\n",
                "    intersection = intersection_service.read(ip_address=ip_address, port=port)\n",
                "    intersection_service.write(\n",
                "        Intersection(**{ **intersection.dict(), \"latitude\": 0, \"longitude\": 0 })\n",
                "    )"
            ]
        },
        {
            "cell_type": "code",
            "execution_count": null,
            "metadata": {},
            "outputs": [
                {
                    "name": "stderr",
                    "output_type": "stream",
                    "text": [
                        "ERROR:root:Failed to parse intersection: V764NY0967\n",
                        "ERROR:root:Failed to parse intersection: V764NY0976\n",
                        "ERROR:root:Failed to parse intersection: V764NY1000\n",
                        "ERROR:root:Failed to parse intersection: V764NY0966\n",
                        "ERROR:root:Failed to parse intersection: V764JN0012\n",
                        "ERROR:root:Failed to parse intersection: V764NY0964\n",
                        "ERROR:root:Failed to parse intersection: V764JN0019\n",
                        "ERROR:root:Failed to parse intersection: V764JN0001\n",
                        "ERROR:root:Failed to parse intersection: V764NY1004\n",
                        "ERROR:root:Failed to parse intersection: V764NY1021\n",
                        "ERROR:root:Failed to parse intersection: V764JN0013\n",
                        "ERROR:root:Failed to parse intersection: V764NY0953\n",
                        "ERROR:root:Failed to parse intersection: V764NY0969\n",
                        "ERROR:root:Failed to parse intersection: V764JN0011\n",
                        "ERROR:root:Failed to parse intersection: V764NY1009\n",
                        "ERROR:root:Failed to parse intersection: V764JN0016\n",
                        "ERROR:root:Failed to parse intersection: V764NY0951\n",
                        "ERROR:root:Failed to parse intersection: V764NY0938\n",
                        "ERROR:root:Failed to parse intersection: V764JN0006\n",
                        "ERROR:root:Failed to parse intersection: V764JN0005\n",
                        "ERROR:root:Failed to parse intersection: V764NY0992\n",
                        "ERROR:root:Failed to parse intersection: V764JN0015\n",
                        "ERROR:root:Failed to parse intersection: V764NY1010\n",
                        "ERROR:root:Failed to parse intersection: V764JN0018\n",
                        "ERROR:root:Failed to parse intersection: V764JN0010\n",
                        "ERROR:root:Failed to parse intersection: V764NY1003\n",
                        "ERROR:root:Failed to parse intersection: V764JN0002\n",
                        "ERROR:root:Failed to parse intersection: V764JN0017\n",
                        "ERROR:root:Failed to parse intersection: V764JN0003\n",
                        "ERROR:root:Failed to parse intersection: V764JN0009\n",
                        "ERROR:root:Failed to parse intersection: V764NY0949\n",
                        "ERROR:root:Failed to parse intersection: V764JN0007\n",
                        "ERROR:root:Failed to parse intersection: V764NY0968\n"
                    ]
                },
                {
                    "name": "stdout",
                    "output_type": "stream",
                    "text": [
                        "True\n"
                    ]
                }
            ],
            "source": [
                "# print(intersection_service.read(\"V764KM0001\") is not None)\n",
                "# print(intersection_service.read(\"V764KM0001\", ip_address=\"3.86.39.209\", port=3000) is not None)\n",
                "\n",
                "print(intersection_service.get_not_configured() is not None)\n",
                "# phase_selector_service.list_serial_numbers([\"i-03df9aa039ef30ebc\"])"
            ]
        },
        {
            "cell_type": "code",
            "execution_count": null,
            "metadata": {},
            "outputs": [
                {
                    "data": {
                        "text/plain": [
                            "Intersection(serial_number='123451246', location_type=None, latitude=37.343312, longitude=122.453532, make=None, model=None, last_communicated=None, timezone=None, operation_mode=None, status=None, firmware_version=None, device_type=None, address=None, address_type=None, mac_address=None, device_name='abc', time_localization_details=None, last_configured=None, approach_offset=None, approach_map=None, configuration_profile=None, thresholds=None, channels=None, outputs=None, is_configured=True, intersection_id='123451246', intersection_name='abc', ip_address=None, port=None)"
                        ]
                    },
                    "execution_count": 26,
                    "metadata": {},
                    "output_type": "execute_result"
                }
            ],
            "source": [
                "from gtt.data_model.intersection import Intersection\n",
                "\n",
                "Intersection(\n",
                "    **{\n",
                "        \"intersectionName\": \"abc\",\n",
                "        \"serialNumber\": 123451246,\n",
                "        \"latitude\": 37.343312,\n",
                "        \"longitude\": 122.453532,\n",
                "    }\n",
                ")"
            ]
        },
        {
            "cell_type": "code",
            "execution_count": null,
            "metadata": {},
            "outputs": [
                {
                    "name": "stderr",
                    "output_type": "stream",
                    "text": [
                        "INFO:root:Received event={'requestContext': {}, 'queryStringParameters': {'agencyId': 'sfmta'}, 'body': {'intersectionName': 'Test Blvd 28 & 4th', 'latitude': 44.123, 'longitude': -92.32, 'make': 'GTT', 'model': 'v764'}, 'httpMethod': 'POST'}, context={}\n",
                        "INFO:root:Status Code: 400 Body: {'error': '1 validation error for ParsingModel[CreateRequest]\\n__root__ -> pathParameters -> serialNumber\\n  field required (type=value_error.missing)'} \n"
                    ]
                }
            ],
            "source": [
                "try:\n",
                "    sys.path.remove(f\"{root_path}/ClientAPI/api/intersections/intersections\")\n",
                "except:\n",
                "    pass\n",
                "try:\n",
                "    sys.path.remove(f\"{root_path}/ClientAPI/api/intersections/intersection\")\n",
                "except:\n",
                "    pass\n",
                "\n",
                "sys.path.insert(0, f\"{root_path}/ClientAPI/api/intersections/intersections\")\n",
                "\n",
                "from intersections.app import handler\n",
                "\n",
                "event = {\n",
                "    \"requestContext\": {},\n",
                "    \"queryStringParameters\": {\n",
                "        \"agencyId\": \"sfmta\"\n",
                "    },\n",
                "    \"body\": {\n",
                "        \"intersectionName\": \"Test Blvd 28 & 4th\",\n",
                "        \"latitude\": 44.123,\n",
                "        \"longitude\": -92.32,\n",
                "        \"make\": \"GTT\",\n",
                "        \"model\": \"v764\"\n",
                "    },\n",
                "    \"httpMethod\": \"POST\",\n",
                "}\n",
                "context = {}\n",
                "\n",
                "# Must enable 'public' IPs\n",
                "os.environ[\"USE_PUBLIC_IPS\"] = \"TRUE\"\n",
                "\n",
                "try:\n",
                "    inserted_intersection = Intersection(**json.loads(handler(event, context)[\"body\"]))\n",
                "\n",
                "    print(inserted_intersection is not None)\n",
                "    print(inserted_intersection.serial_number)\n",
                "    print(inserted_intersection.intersection_name)\n",
                "except Exception:\n",
                "    pass"
            ]
        },
        {
            "cell_type": "code",
            "execution_count": null,
            "metadata": {},
            "outputs": [
                {
                    "ename": "NameError",
                    "evalue": "name 'inserted_intersection' is not defined",
                    "output_type": "error",
                    "traceback": [
                        "\u001b[0;31m---------------------------------------------------------------------------\u001b[0m",
                        "\u001b[0;31mNameError\u001b[0m                                 Traceback (most recent call last)",
                        "\u001b[1;32m/Users/Jacob/Documents/Code/smart-city-platform/ClientAPI/test/notebooks/api/test__intersection_api.ipynb Cell 32\u001b[0m in \u001b[0;36m<cell line: 1>\u001b[0;34m()\u001b[0m\n\u001b[0;32m----> <a href='vscode-notebook-cell:/Users/Jacob/Documents/Code/smart-city-platform/ClientAPI/test/notebooks/api/test__intersection_api.ipynb#X43sZmlsZQ%3D%3D?line=0'>1</a>\u001b[0m Intersection\u001b[39m.\u001b[39mparse_raw(inserted_intersection[\u001b[39m\"\u001b[39m\u001b[39mbody\u001b[39m\u001b[39m\"\u001b[39m])\u001b[39m.\u001b[39mintersection_name\n",
                        "\u001b[0;31mNameError\u001b[0m: name 'inserted_intersection' is not defined"
                    ]
                }
            ],
            "source": [
                "Intersection.parse_raw(inserted_intersection[\"body\"]).intersection_name"
            ]
        },
        {
            "cell_type": "markdown",
            "metadata": {},
            "source": [
                "### Updating Device"
            ]
        },
        {
            "cell_type": "code",
            "execution_count": null,
            "metadata": {},
            "outputs": [
                {
                    "data": {
                        "text/plain": [
                            "Outputs(low_priority=Output(type=None, channels=[Channel(channel='0', straight=1, left=1, right=1), Channel(channel='1', straight=2, left=2, right=2), Channel(channel='2', straight=3, left=3, right=3), Channel(channel='3', straight=4, left=4, right=4)]), high_priority=Output(type=None, channels=[Channel(channel='0', straight=1, left=1, right=1), Channel(channel='1', straight=2, left=2, right=2), Channel(channel='2', straight=3, left=3, right=3), Channel(channel='3', straight=4, left=4, right=4)]))"
                        ]
                    },
                    "execution_count": 20,
                    "metadata": {},
                    "output_type": "execute_result"
                }
            ],
            "source": [
                "intersection_service.read(\"V764JN0014\").outputs"
            ]
        },
        {
            "cell_type": "code",
            "execution_count": null,
            "metadata": {},
            "outputs": [
                {
                    "name": "stdout",
                    "output_type": "stream",
                    "text": [
                        "V764JN0014\n",
                        "3.86.39.209\n",
                        "2313\n",
                        "Intersection Name\n"
                    ]
                }
            ],
            "source": [
                "from gtt.data_model.intersection import Intersection\n",
                "\n",
                "with open('data/intersection__basic.json', 'r') as f:\n",
                "    updated_intersection = Intersection.parse_raw(f.read())\n",
                "\n",
                "print(updated_intersection.serial_number)\n",
                "print(updated_intersection.ip_address)\n",
                "print(updated_intersection.port)\n",
                "print(updated_intersection.device_name)"
            ]
        },
        {
            "cell_type": "code",
            "execution_count": 186,
            "metadata": {},
            "outputs": [],
            "source": [
                "with open('data/intersection__ui.json', 'r') as f:\n",
                "    ui_intersection = Intersection.parse_raw(f.read())"
            ]
        },
        {
            "cell_type": "code",
            "execution_count": 207,
            "metadata": {},
            "outputs": [
                {
                    "name": "stderr",
                    "output_type": "stream",
                    "text": [
                        "ERROR:root:Cached intersection different than device intersection\n"
                    ]
                },
                {
                    "data": {
                        "text/plain": [
                            "Intersection(serial_number='V764JN0004', location_type=None, latitude=32.123397, longitude=178.122997, make='GTT', model='V764', last_communicated=datetime.datetime(2022, 10, 12, 17, 17, 44, 515348), timezone='PST', operation_mode='Online/Normal', status='Normal', firmware_version='10.05.003', device_type=None, address=None, address_type=None, mac_address='cc69b0110010', device_name='BlvdAnd2ndStreets', time_localization_details=TimeLocalizationDetails(timezone='Pacific Standard Time                                                                                                   ', utc_offset='-480', forward=Date(month='3', date='13', year='2022', hours='2', minutes='0', rule='0'), reverse=Date(month='11', date='6', year='2022', hours='2', minutes='0', rule='0')), last_configured=datetime.datetime(1900, 1, 1, 0, 0), approach_offset=0, approach_map=[ApproachMapEntry(approach_name='Northbound                              ', number_of_coordinates=2, coordinates=[Coordinate(latitude=-193.0, longitude=-122.0, width=0), Coordinate(latitude=-177.0, longitude=-43.0, width=0)]), ApproachMapEntry(approach_name='Westbound                               ', number_of_coordinates=2, coordinates=[Coordinate(latitude=1.0, longitude=-28.0, width=0), Coordinate(latitude=-163.0, longitude=-38.0, width=0)]), ApproachMapEntry(approach_name='Southbound                              ', number_of_coordinates=2, coordinates=[Coordinate(latitude=-177.0, longitude=57.0, width=0), Coordinate(latitude=-170.0, longitude=-33.0, width=0)]), ApproachMapEntry(approach_name='Northbound                              ', number_of_coordinates=2, coordinates=[Coordinate(latitude=-358.0, longitude=-28.0, width=0), Coordinate(latitude=-178.0, longitude=-32.0, width=0)])], configuration_profile=ConfigurationProfile(format_version=164, profile_type=0, profile_index=1, profile_name='Default Profile                         ', number_of_high_codes=0, number_of_low_codes=0, high_priority_relative_priorities_enabled=0, high_priority_relative_priorities=[15, 15, 15, 15, 15, 15, 15, 15, 15, 15, 15, 15, 15, 15, 15, 15], low_priority_relative_priorities_enabled=15, low_priority_relative_priorities=[15, 15, 15, 15, 15, 15, 15, 15, 15, 15, 15, 15, 15, 15, 15, 15], relative_priority_lockout_eta=15, conditional_priority_enabled=15, number_of_channels=1, low_codes=None, high_codes='', channels=[ThresholdChannel(format_version=None, priority=None, channel_name='15', channel='15', call_bridging_enabled=15, call_bridging_time=15, proximity_threshold=59403, high_priority=HighPriorityChannel(call_hold_time=15, eta_thresholds=[1, 44, 1, 44, 1, 44, 4, 176, 4, 176, 4, 176, 4, 176, 4, 176], distance_thresholds=[45060, 45060, 45060, 513, 7683, 7710, 7710, 7710, 7710, 7710, 7710, 7680, 7710, 7710, 7710, 7710], max_call_time=3855, preempt_enabled=15, directional_priority=15, call_delay_time=15, off_approach_hold_time=15, primary_intensity_thresholds=[3855, 3855, 3855, 3855, 3855, 3855, 3855, 12, 4, 1, 771, 1536, 256, 26625, 26625, 1536], auxiliary_intensity_thresholds=[11265, 11265, 11265, 45060, 45060, 45060, 45060, 45060, 45060, 45060, 45060, 45060, 45060, 45060, 45060, 45060]), low_priority=LowPriorityChannel(call_hold_time=15, eta_thresholds=[4, 176, 4, 176, 4, 176, 4, 176, 4, 176, 4, 176, 4, 176, 4, 176], distance_thresholds=[7710, 7710, 7710, 0, 59403, 59403, 59403, 59403, 59403, 59403, 59403, 59403, 59403, 59403, 59403, 59403], max_call_time=3855, preempt_enabled=15, directional_priority=15, call_delay_time=0, off_approach_hold_time=15, primary_intensity_thresholds=[1536, 0, 1542, 11265, 11265, 11265, 11265, 11265, 11265, 11265, 11265, 11265, 11265, 11265, 11265, 11265], auxiliary_intensity_thresholds=[45060, 45060, 45060, 11265, 11265, 11265, 11265, 11265, 11265, 11265, 11265, 11265, 11265, 11265, 11265, 11265], reservice_enabled=15, reservice_time=15))]), thresholds=Thresholds(low_priority=[Channel(channel_name='15', channel='15', call_hold_time=15, max_call_time=3855, classes=[Class(level='1', name='Regular Transit', active=True, eta=4, distance=7710), Class(level='2', name='Express Transit', active=True, eta=176, distance=7710), Class(level='3', name='Paratransit', active=True, eta=4, distance=7710), Class(level='4', name='Light Rail', active=True, eta=176, distance=0), Class(level='5', name='Trolley', active=True, eta=4, distance=59403), Class(level='6', name='Snow Plows', active=True, eta=176, distance=59403), Class(level='7', name='Supervisor', active=True, eta=4, distance=59403), Class(level='8', name='Pavement Marking', active=True, eta=176, distance=59403), Class(level='9', name='Installer/Set-up', active=True, eta=4, distance=59403), Class(level='10', name='Bus Rapid Transit', active=False, eta=176, distance=59403), Class(level='10', name='Not used', active=False, eta=4, distance=59403), Class(level='11', name='Not used', active=False, eta=176, distance=59403), Class(level='12', name='Not used', active=False, eta=4, distance=59403), Class(level='13', name='Not used', active=False, eta=176, distance=59403), Class(level='14', name='Not used', active=False, eta=4, distance=59403), Class(level='15', name='Not used', active=False, eta=176, distance=59403)])], high_priority=[Channel(channel_name='15', channel='15', call_hold_time=15, max_call_time=3855, classes=[Class(level='1', name='Regular Transit', active=True, eta=1, distance=45060), Class(level='2', name='Express Transit', active=True, eta=44, distance=45060), Class(level='3', name='Paratransit', active=True, eta=1, distance=45060), Class(level='4', name='Light Rail', active=True, eta=44, distance=513), Class(level='5', name='Trolley', active=True, eta=1, distance=7683), Class(level='6', name='Snow Plows', active=True, eta=44, distance=7710), Class(level='7', name='Supervisor', active=True, eta=4, distance=7710), Class(level='8', name='Pavement Marking', active=True, eta=176, distance=7710), Class(level='9', name='Installer/Set-up', active=True, eta=4, distance=7710), Class(level='10', name='Bus Rapid Transit', active=False, eta=176, distance=7710), Class(level='10', name='Not used', active=False, eta=4, distance=7710), Class(level='11', name='Not used', active=False, eta=176, distance=7680), Class(level='12', name='Not used', active=False, eta=4, distance=7710), Class(level='13', name='Not used', active=False, eta=176, distance=7710), Class(level='14', name='Not used', active=False, eta=4, distance=7710), Class(level='15', name='Not used', active=False, eta=176, distance=7710)])]), channels=[OutputChannel(channel='0', channel_name='', format_version=167, logical_channel=0, phases=[1, 1, 1], high_priority_preempts=[1, 1, 1], low_priority_preempts=[3, 4, 5], low_priority_queue_jump_preempt=1, assigned_approaches=[1, 0, 0, 0, 0, 0, 0, 0, 0, 0], check_in_check_out_enabled=0, check_in_classes=[0, 0, 0, 0, 0, 0, 0, 0, 0, 0, 0, 0, 0, 0, 0, 0], check_in_entry_distance_threshold=0, check_in_exit_distance_threshold=0, check_in_announcement_output=[0, 0, 0], check_out_entry_threshold=0, forward_calls_in_forward_direction=0, priority_outputs=[0, 0, 0, 0, 0, 0, 0, 0, 0, 0, 0, 0, 0, 0, 0, 0, 0, 0, 0, 0, 0, 0, 0, 0, 0, 0, 0, 0, 0, 0, 0, 0, 0, 0, 0, 0, 0, 0, 0, 0, 0, 0, 0, 0, 0, 0, 0, 0, 0, 0, 0, 0, 0, 0, 0, 0, 0, 0, 0, 0, 0, 0, 0, 0, 0, 0, 0, 0, 0, 0, 0, 0, 0, 0, 0, 0, 0, 0, 0, 0, 0, 0, 0, 0, 0, 0, 0, 0, 0, 0, 0, 0, 0], ignore_heading=0, preempt_plan_evp=[1, 1, 1], priority_plan_tsp=[1, 1, 1]), OutputChannel(channel='1', channel_name='', format_version=167, logical_channel=1, phases=[2, 2, 2], high_priority_preempts=[2, 2, 2], low_priority_preempts=[2, 2, 2], low_priority_queue_jump_preempt=2, assigned_approaches=[2, 0, 0, 0, 0, 0, 0, 0, 0, 0], check_in_check_out_enabled=0, check_in_classes=[0, 0, 0, 0, 0, 0, 0, 0, 0, 0, 0, 0, 0, 0, 0, 0], check_in_entry_distance_threshold=0, check_in_exit_distance_threshold=0, check_in_announcement_output=[0, 0, 0], check_out_entry_threshold=0, forward_calls_in_forward_direction=0, priority_outputs=[0, 0, 0, 0, 0, 0, 0, 0, 0, 0, 0, 0, 0, 0, 0, 0, 0, 0, 0, 0, 0, 0, 0, 0, 0, 0, 0, 0, 0, 0, 0, 0, 0, 0, 0, 0, 0, 0, 0, 0, 0, 0, 0, 0, 0, 0, 0, 0, 0, 0, 0, 0, 0, 0, 0, 0, 0, 0, 0, 0, 0, 0, 0, 0, 0, 0, 0, 0, 0, 0, 0, 0, 0, 0, 0, 0, 0, 0, 0, 0, 0, 0, 0, 0, 0, 0, 0, 0, 0, 0, 0, 0, 0], ignore_heading=0, preempt_plan_evp=[2, 2, 2], priority_plan_tsp=[2, 2, 2]), OutputChannel(channel='2', channel_name='', format_version=167, logical_channel=2, phases=[3, 3, 3], high_priority_preempts=[3, 3, 3], low_priority_preempts=[3, 3, 3], low_priority_queue_jump_preempt=3, assigned_approaches=[3, 0, 0, 0, 0, 0, 0, 0, 0, 0], check_in_check_out_enabled=0, check_in_classes=[0, 0, 0, 0, 0, 0, 0, 0, 0, 0, 0, 0, 0, 0, 0, 0], check_in_entry_distance_threshold=0, check_in_exit_distance_threshold=0, check_in_announcement_output=[0, 0, 0], check_out_entry_threshold=0, forward_calls_in_forward_direction=0, priority_outputs=[0, 0, 0, 0, 0, 0, 0, 0, 0, 0, 0, 0, 0, 0, 0, 0, 0, 0, 0, 0, 0, 0, 0, 0, 0, 0, 0, 0, 0, 0, 0, 0, 0, 0, 0, 0, 0, 0, 0, 0, 0, 0, 0, 0, 0, 0, 0, 0, 0, 0, 0, 0, 0, 0, 0, 0, 0, 0, 0, 0, 0, 0, 0, 0, 0, 0, 0, 0, 0, 0, 0, 0, 0, 0, 0, 0, 0, 0, 0, 0, 0, 0, 0, 0, 0, 0, 0, 0, 0, 0, 0, 0, 0], ignore_heading=0, preempt_plan_evp=[3, 3, 3], priority_plan_tsp=[3, 3, 3]), OutputChannel(channel='3', channel_name='', format_version=167, logical_channel=3, phases=[4, 4, 4], high_priority_preempts=[4, 4, 4], low_priority_preempts=[4, 4, 4], low_priority_queue_jump_preempt=4, assigned_approaches=[4, 0, 0, 0, 0, 0, 0, 0, 0, 0], check_in_check_out_enabled=0, check_in_classes=[0, 0, 0, 0, 0, 0, 0, 0, 0, 0, 0, 0, 0, 0, 0, 0], check_in_entry_distance_threshold=0, check_in_exit_distance_threshold=0, check_in_announcement_output=[0, 0, 0], check_out_entry_threshold=0, forward_calls_in_forward_direction=0, priority_outputs=[0, 0, 0, 0, 0, 0, 0, 0, 0, 0, 0, 0, 0, 0, 0, 0, 0, 0, 0, 0, 0, 0, 0, 0, 0, 0, 0, 0, 0, 0, 0, 0, 0, 0, 0, 0, 0, 0, 0, 0, 0, 0, 0, 0, 0, 0, 0, 0, 0, 0, 0, 0, 0, 0, 0, 0, 0, 0, 0, 0, 0, 0, 0, 0, 0, 0, 0, 0, 0, 0, 0, 0, 0, 0, 0, 0, 0, 0, 0, 0, 0, 0, 0, 0, 0, 0, 0, 0, 0, 0, 0, 0, 0], ignore_heading=0, preempt_plan_evp=[4, 4, 4], priority_plan_tsp=[4, 4, 4])], outputs=Outputs(low_priority=Output(type=None, channels=[Channel(channel='0', straight=3, left=4, right=5), Channel(channel='1', straight=2, left=2, right=2), Channel(channel='2', straight=3, left=3, right=3), Channel(channel='3', straight=4, left=4, right=4)]), high_priority=Output(type=None, channels=[Channel(channel='0', straight=1, left=1, right=1), Channel(channel='1', straight=2, left=2, right=2), Channel(channel='2', straight=3, left=3, right=3), Channel(channel='3', straight=4, left=4, right=4)])), is_configured=True, intersection_id='V764JN0004', intersection_name='BlvdAnd2ndStreets', ip_address='3.86.39.209', port=2303)"
                        ]
                    },
                    "execution_count": 207,
                    "metadata": {},
                    "output_type": "execute_result"
                }
            ],
            "source": [
                "intersection_service.write(\n",
                "    Intersection(**ui_intersection.dict(exclude={\"ip_address\"}), ip_address=ip_address)\n",
                ")"
            ]
        },
        {
            "cell_type": "code",
            "execution_count": 161,
            "metadata": {},
            "outputs": [],
            "source": [
                "ui_intersection = intersection_service.read(ui_intersection.serial_number)"
            ]
        },
        {
            "cell_type": "code",
            "execution_count": 20,
            "metadata": {},
            "outputs": [
                {
                    "name": "stdout",
                    "output_type": "stream",
                    "text": [
                        "90 3\n",
                        "186 3\n",
                        "[((0,), <class 'gtt.data_model.intersection.phase_selector_message.SetApproachMapMessage'>), ({'approach_map': [ApproachMapEntry(approach_name='Southbound                              ', number_of_coordinates=3, coordinates=[Coordinate(latitude=None, x=390, longitude=None, y=439, width=0), Coordinate(latitude=None, x=316, longitude=None, y=147, width=0), Coordinate(latitude=None, x=22, longitude=None, y=0, width=0)]), ApproachMapEntry(approach_name='Northbound                              ', number_of_coordinates=3, coordinates=[Coordinate(latitude=None, x=-508, longitude=None, y=115, width=0), Coordinate(latitude=None, x=-357, longitude=None, y=36, width=0), Coordinate(latitude=None, x=-6, longitude=None, y=4, width=0)])], 'approach_offset': 0}, <class 'gtt.data_model.intersection.phase_selector_message.GetApproachMapMessage'>)]\n"
                    ]
                }
            ],
            "source": [
                "from gtt.data_model.intersection.phase_selector_message import (\n",
                "    SetApproachMapMessage,\n",
                "    ClearApproachMapMessage,\n",
                "    SaveApproachMapMessage,\n",
                "    GetApproachMapMessage,\n",
                "    SetConfigurationProfileMessage,\n",
                "    GetConfigurationProfileMessage,\n",
                "    SetChannelConfigurationMessage,\n",
                "    GetChannelConfigurationMessage,\n",
                "    SetDeviceNameMessage,\n",
                "    GetDeviceNameMessage,\n",
                "    SetGpsLocationMessage,\n",
                "    GetUnitPropertiesMessage,\n",
                "    GetMacAddressMessage,\n",
                "    WRITE_MESSAGES\n",
                ")\n",
                "from gtt.data_model.intersection import PhaseSelector\n",
                "\n",
                "\n",
                "# phase_selector = PhaseSelector(\n",
                "#     **intersection.dict(),\n",
                "# )\n",
                "\n",
                "ps = phase_selector_service.send_messages(\n",
                "    \"3.86.39.209\",\n",
                "    2007,\n",
                "    messages=[SetApproachMapMessage, GetApproachMapMessage],\n",
                "    phase_selector=intersection,\n",
                ")\n",
                "print(ps)"
            ]
        },
        {
            "cell_type": "code",
            "execution_count": 206,
            "metadata": {},
            "outputs": [
                {
                    "name": "stdout",
                    "output_type": "stream",
                    "text": [
                        "[ApproachMapEntry(approach_name='Northbound                              ', number_of_coordinates=2, coordinates=[Coordinate(latitude=-193.0, longitude=-122.0, width=0), Coordinate(latitude=-177.0, longitude=-43.0, width=0)]), ApproachMapEntry(approach_name='Westbound                               ', number_of_coordinates=2, coordinates=[Coordinate(latitude=1.0, longitude=-28.0, width=0), Coordinate(latitude=-163.0, longitude=-38.0, width=0)]), ApproachMapEntry(approach_name='Southbound                              ', number_of_coordinates=2, coordinates=[Coordinate(latitude=-177.0, longitude=57.0, width=0), Coordinate(latitude=-170.0, longitude=-33.0, width=0)]), ApproachMapEntry(approach_name='Northbound                              ', number_of_coordinates=2, coordinates=[Coordinate(latitude=-358.0, longitude=-28.0, width=0), Coordinate(latitude=-178.0, longitude=-32.0, width=0)])]\n"
                    ]
                }
            ],
            "source": [
                "print(ps[1][0].get(\"approach_map\"))"
            ]
        },
        {
            "cell_type": "code",
            "execution_count": null,
            "metadata": {},
            "outputs": [
                {
                    "name": "stderr",
                    "output_type": "stream",
                    "text": [
                        "INFO:root:Received event={'requestContext': {}, 'queryStringParameters': {'agencyId': ''}, 'body': {'serialNumber': 'V764JN0014', 'locationType': None, 'latitude': 44.1234, 'longitude': -92.883065, 'make': 'GTT', 'model': 'V764', 'lastCommunicated': datetime.datetime(2022, 10, 10, 17, 49, 16, 70519), 'timezone': 'PST', 'operationMode': 'Online/Normal', 'status': 'Normal', 'firmwareVersion': '10.05.003', 'deviceType': None, 'address': None, 'addressType': None, 'macAddress': 'cc69b011001e', 'deviceName': 'NewIntersectionName2', 'timeLocalizationDetails': {'timezone': 'PST                                                                                                   ', 'utcOffset': None, 'forward': {'month': '3', 'date': '13', 'year': '2022', 'hours': '2', 'minutes': '0', 'rule': '0'}, 'reverse': {'month': '11', 'date': '6', 'year': '2022', 'hours': '2', 'minutes': '0', 'rule': '0'}}, 'lastConfigured': datetime.datetime(1900, 1, 1, 0, 0), 'approachOffset': 0, 'approachMap': [{'approachName': 'Northbound', 'numberOfCoordinates': 2, 'coordinates': [{'latitude': -90.0, 'longitude': -15.0, 'width': 30}, {'latitude': -11.0, 'longitude': 1.0, 'width': 30}]}, {'approachName': 'Westbound', 'numberOfCoordinates': 2, 'coordinates': [{'latitude': 4.0, 'longitude': 154.0, 'width': 30}, {'latitude': -6.0, 'longitude': 15.0, 'width': 30}]}, {'approachName': 'Southbound', 'numberOfCoordinates': 2, 'coordinates': [{'latitude': 90.0, 'longitude': 1.0, 'width': 30}, {'latitude': -1.0, 'longitude': 8.0, 'width': 30}]}, {'approachName': 'Westbound', 'numberOfCoordinates': 2, 'coordinates': [{'latitude': 4.0, 'longitude': 159.0, 'width': 30}, {'latitude': 0.0, 'longitude': 0.0, 'width': 30}]}, {'approachName': 'Northbound', 'numberOfCoordinates': 3, 'coordinates': [{'latitude': 44.958975, 'longitude': -92.883065, 'width': 30}, {'latitude': 44.962163, 'longitude': -92.883065, 'width': 30}, {'latitude': 44.963469, 'longitude': -92.883065, 'width': 30}]}], 'configurationProfile': {'formatVersion': '164', 'profileType': '0', 'profileIndex': '1', 'profileName': 'Default Profile\\x00\\x00\\x00\\x00\\x00\\x00\\x00\\x00\\x00\\x00\\x00\\x00\\x00\\x00\\x00\\x00\\x00\\x00\\x00\\x00\\x00\\x00\\x00\\x00\\x00', 'numberOfHighCodes': '0', 'numberOfLowCodes': '0', 'highPriorityRelativePrioritiesEnabled': '0', 'highPriorityRelativePriorities': [0, 15, 15, 15, 15, 15, 15, 15, 15, 15, 15, 15, 15, 15, 15, 15], 'lowPriorityRelativePrioritiesEnabled': '0', 'lowPriorityRelativePriorities': [0, 15, 15, 15, 15, 15, 15, 15, 15, 15, 15, 15, 15, 15, 15, 15], 'relativePriorityLockoutEta': '0', 'conditionalPriorityEnabled': '15', 'numberOfChannels': 15, 'channels': [{'priority': None, 'channelName': '0', 'channel': '0', 'callBridgingEnabled': 15, 'callBridgingTime': 15, 'proximityThreshold': 59403, 'highPriority': {'lostSignalHold': None, 'etaThresholds': [44, 1, 44, 1, 44, 1, 44, 4, 176, 4, 176, 4, 176, 4, 176, 4], 'distanceThresholds': [45060, 45060, 45060, 45056, 7710, 7710, 7710, 7710, 7710, 7710, 7710, 7680, 7710, 7710, 7710, 7710], 'maxCallTime': 3855, 'preemptEnabled': 15, 'directionalPriority': 15, 'callDelayTime': 15, 'offApproachHoldTime': 0, 'primaryIntensityThresholds': [3855, 3855, 3855, 3855, 3855, 3855, 3855, 3852, 4, 1, 3, 768, 1536, 257, 26625, 26624], 'auxiliaryIntensityThresholds': [11265, 11265, 11265, 11268, 45060, 45060, 45060, 45060, 45060, 45060, 45060, 45060, 45060, 45060, 45060, 45060], 'firstSlice': None, 'secondSlice': None}, 'lowPriority': {'lostSignalHold': None, 'etaThresholds': [176, 4, 176, 4, 176, 4, 176, 4, 176, 4, 176, 4, 176, 4, 176, 4], 'distanceThresholds': [7710, 7710, 7710, 7680, 11, 59403, 59403, 59403, 59403, 59403, 59403, 59403, 59403, 59403, 59403, 59403], 'maxCallTime': 3855, 'preemptEnabled': 15, 'directionalPriority': 15, 'callDelayTime': 15, 'offApproachHoldTime': 15, 'primaryIntensityThresholds': [1536, 1536, 6, 1537, 11265, 11265, 11265, 11265, 11265, 11265, 11265, 11265, 11265, 11265, 11265, 11265], 'auxiliaryIntensityThresholds': [45060, 45060, 45060, 45057, 11265, 11265, 11265, 11265, 11265, 11265, 11265, 11265, 11265, 11265, 11265, 11265], 'firstSlice': None, 'secondSlice': None, 'reserviceEnabled': 15, 'reserviceTime': 15}}]}, 'channels': [{'channel': '0', 'formatVersion': None, 'logicalChannel': None, 'phases': [1, 1, 1], 'left': None, 'right': None, 'straight': None, 'highPriorityPreempts': None, 'lowPriorityPreempts': None, 'lowPriorityQueueJumpPreempt': None, 'assignedApproaches': None, 'checkInCheckOutEnabled': None, 'checkInClasses': None, 'checkInEntryDistanceThreshold': None, 'checkInExitDistanceThreshold': None, 'checkInAnnouncementOutput': None, 'checkOutEntryThreshold': None, 'forwardCallsInForwardDirection': None, 'priorityOutputTable': None, 'ignoreHeading': None, 'preemptPlanEvp': None, 'priorityPlanTsp': None}, {'channel': '1', 'formatVersion': None, 'logicalChannel': None, 'phases': [2, 2, 2], 'left': None, 'right': None, 'straight': None, 'highPriorityPreempts': None, 'lowPriorityPreempts': None, 'lowPriorityQueueJumpPreempt': None, 'assignedApproaches': None, 'checkInCheckOutEnabled': None, 'checkInClasses': None, 'checkInEntryDistanceThreshold': None, 'checkInExitDistanceThreshold': None, 'checkInAnnouncementOutput': None, 'checkOutEntryThreshold': None, 'forwardCallsInForwardDirection': None, 'priorityOutputTable': None, 'ignoreHeading': None, 'preemptPlanEvp': None, 'priorityPlanTsp': None}, {'channel': '2', 'formatVersion': None, 'logicalChannel': None, 'phases': [3, 3, 3], 'left': None, 'right': None, 'straight': None, 'highPriorityPreempts': None, 'lowPriorityPreempts': None, 'lowPriorityQueueJumpPreempt': None, 'assignedApproaches': None, 'checkInCheckOutEnabled': None, 'checkInClasses': None, 'checkInEntryDistanceThreshold': None, 'checkInExitDistanceThreshold': None, 'checkInAnnouncementOutput': None, 'checkOutEntryThreshold': None, 'forwardCallsInForwardDirection': None, 'priorityOutputTable': None, 'ignoreHeading': None, 'preemptPlanEvp': None, 'priorityPlanTsp': None}, {'channel': '3', 'formatVersion': None, 'logicalChannel': None, 'phases': [4, 4, 4], 'left': None, 'right': None, 'straight': None, 'highPriorityPreempts': None, 'lowPriorityPreempts': None, 'lowPriorityQueueJumpPreempt': None, 'assignedApproaches': None, 'checkInCheckOutEnabled': None, 'checkInClasses': None, 'checkInEntryDistanceThreshold': None, 'checkInExitDistanceThreshold': None, 'checkInAnnouncementOutput': None, 'checkOutEntryThreshold': None, 'forwardCallsInForwardDirection': None, 'priorityOutputTable': None, 'ignoreHeading': None, 'preemptPlanEvp': None, 'priorityPlanTsp': None}], 'thresholds': {'lowPriority': [{'channelName': '0', 'channel': '0', 'lostSignalHold': None, 'maxCallTime': 3855, 'classes': [{'class': '1', 'name': 'Regular Transit', 'active': True, 'eta': 176, 'distance': 7710}, {'class': '2', 'name': 'Express Transit', 'active': True, 'eta': 4, 'distance': 7710}, {'class': '3', 'name': 'Paratransit', 'active': True, 'eta': 176, 'distance': 7710}, {'class': '4', 'name': 'Light Rail', 'active': True, 'eta': 4, 'distance': 7680}, {'class': '5', 'name': 'Trolley', 'active': True, 'eta': 176, 'distance': 11}, {'class': '6', 'name': 'Snow Plows', 'active': True, 'eta': 4, 'distance': 59403}, {'class': '7', 'name': 'Supervisor', 'active': True, 'eta': 176, 'distance': 59403}, {'class': '8', 'name': 'Pavement Marking', 'active': True, 'eta': 4, 'distance': 59403}, {'class': '9', 'name': 'Installer/Set-up', 'active': True, 'eta': 176, 'distance': 59403}, {'class': '10', 'name': 'Bus Rapid Transit', 'active': False, 'eta': 4, 'distance': 59403}, {'class': '10', 'name': 'Not used', 'active': False, 'eta': 176, 'distance': 59403}, {'class': '11', 'name': 'Not used', 'active': False, 'eta': 4, 'distance': 59403}, {'class': '12', 'name': 'Not used', 'active': False, 'eta': 176, 'distance': 59403}, {'class': '13', 'name': 'Not used', 'active': False, 'eta': 4, 'distance': 59403}, {'class': '14', 'name': 'Not used', 'active': False, 'eta': 176, 'distance': 59403}, {'class': '15', 'name': 'Not used', 'active': False, 'eta': 4, 'distance': 59403}]}], 'highPriority': [{'channelName': '0', 'channel': '0', 'lostSignalHold': None, 'maxCallTime': 3855, 'classes': [{'class': '1', 'name': 'Regular Transit', 'active': True, 'eta': 44, 'distance': 45060}, {'class': '2', 'name': 'Express Transit', 'active': True, 'eta': 1, 'distance': 45060}, {'class': '3', 'name': 'Paratransit', 'active': True, 'eta': 44, 'distance': 45060}, {'class': '4', 'name': 'Light Rail', 'active': True, 'eta': 1, 'distance': 45056}, {'class': '5', 'name': 'Trolley', 'active': True, 'eta': 44, 'distance': 7710}, {'class': '6', 'name': 'Snow Plows', 'active': True, 'eta': 1, 'distance': 7710}, {'class': '7', 'name': 'Supervisor', 'active': True, 'eta': 44, 'distance': 7710}, {'class': '8', 'name': 'Pavement Marking', 'active': True, 'eta': 4, 'distance': 7710}, {'class': '9', 'name': 'Installer/Set-up', 'active': True, 'eta': 176, 'distance': 7710}, {'class': '10', 'name': 'Bus Rapid Transit', 'active': False, 'eta': 4, 'distance': 7710}, {'class': '10', 'name': 'Not used', 'active': False, 'eta': 176, 'distance': 7710}, {'class': '11', 'name': 'Not used', 'active': False, 'eta': 4, 'distance': 7680}, {'class': '12', 'name': 'Not used', 'active': False, 'eta': 176, 'distance': 7710}, {'class': '13', 'name': 'Not used', 'active': False, 'eta': 4, 'distance': 7710}, {'class': '14', 'name': 'Not used', 'active': False, 'eta': 176, 'distance': 7710}, {'class': '15', 'name': 'Not used', 'active': False, 'eta': 4, 'distance': 7710}]}]}, 'intersectionId': None, 'intersectionName': 'NewIntersectionName2', 'ipAddress': '3.86.39.209', 'port': 2313}, 'pathParameters': {'serialNumber': 'V764JN0014'}, 'httpMethod': 'PUT'}, context={}\n",
                        "ERROR:root:Cached intersection different than device intersection\n",
                        "ERROR:root:Error packing message ID 0x2c: name 'current_configuration_str' is not defined\n",
                        "ERROR:root:Error packing message ID 0x22: cannot unpack non-iterable NoneType object\n",
                        "ERROR:root:Error packing message ID 0x24: pack expected 3 items for packing (got 1)\n",
                        "ERROR:root:Error packing message ID 0x24: Inverse() missing 1 required positional argument: 'lon2'\n",
                        "INFO:root:Status Code: 200 Body: {'serialNumber': 'V764JN0014', 'latitude': 931.73099, 'longitude': 0.0, 'make': 'GTT', 'model': 'V764', 'lastCommunicated': datetime.datetime(2022, 10, 10, 17, 10, 15, 947642), 'timezone': 'PST', 'operationMode': 'Online/Normal', 'status': 'Normal', 'firmwareVersion': '10.05.003', 'approachMap': [{'approachName': '1', 'numberOfCoordinates': 2, 'coordinates': [{'latitude': -1643.0, 'longitude': -15.0, 'width': 255}, {'latitude': -11.0, 'longitude': 1.0, 'width': 30}]}, {'approachName': '2', 'numberOfCoordinates': 2, 'coordinates': [{'latitude': 4.0, 'longitude': 1594.0, 'width': 255}, {'latitude': -6.0, 'longitude': 15.0, 'width': 30}]}, {'approachName': '3', 'numberOfCoordinates': 2, 'coordinates': [{'latitude': 1606.0, 'longitude': 1.0, 'width': 255}, {'latitude': -1.0, 'longitude': 8.0, 'width': 30}]}, {'approachName': '4', 'numberOfCoordinates': 2, 'coordinates': [{'latitude': 4.0, 'longitude': -1641.0, 'width': 255}, {'latitude': 0.0, 'longitude': 0.0, 'width': 30}]}], 'thresholds': {'lowPriority': [{'channelName': '0', 'channel': '0', 'lostSignalHold': None, 'maxCallTime': 3855, 'classes': [{'class': '1', 'name': 'Regular Transit', 'active': True, 'eta': 176, 'distance': 7710}, {'class': '2', 'name': 'Express Transit', 'active': True, 'eta': 4, 'distance': 7710}, {'class': '3', 'name': 'Paratransit', 'active': True, 'eta': 176, 'distance': 7710}, {'class': '4', 'name': 'Light Rail', 'active': True, 'eta': 4, 'distance': 7680}, {'class': '5', 'name': 'Trolley', 'active': True, 'eta': 176, 'distance': 11}, {'class': '6', 'name': 'Snow Plows', 'active': True, 'eta': 4, 'distance': 59403}, {'class': '7', 'name': 'Supervisor', 'active': True, 'eta': 176, 'distance': 59403}, {'class': '8', 'name': 'Pavement Marking', 'active': True, 'eta': 4, 'distance': 59403}, {'class': '9', 'name': 'Installer/Set-up', 'active': True, 'eta': 176, 'distance': 59403}, {'class': '10', 'name': 'Bus Rapid Transit', 'active': False, 'eta': 4, 'distance': 59403}, {'class': '10', 'name': 'Not used', 'active': False, 'eta': 176, 'distance': 59403}, {'class': '11', 'name': 'Not used', 'active': False, 'eta': 4, 'distance': 59403}, {'class': '12', 'name': 'Not used', 'active': False, 'eta': 176, 'distance': 59403}, {'class': '13', 'name': 'Not used', 'active': False, 'eta': 4, 'distance': 59403}, {'class': '14', 'name': 'Not used', 'active': False, 'eta': 176, 'distance': 59403}, {'class': '15', 'name': 'Not used', 'active': False, 'eta': 4, 'distance': 59403}]}], 'highPriority': [{'channelName': '0', 'channel': '0', 'lostSignalHold': None, 'maxCallTime': 3855, 'classes': [{'class': '1', 'name': 'Regular Transit', 'active': True, 'eta': 44, 'distance': 45060}, {'class': '2', 'name': 'Express Transit', 'active': True, 'eta': 1, 'distance': 45060}, {'class': '3', 'name': 'Paratransit', 'active': True, 'eta': 44, 'distance': 45060}, {'class': '4', 'name': 'Light Rail', 'active': True, 'eta': 1, 'distance': 45056}, {'class': '5', 'name': 'Trolley', 'active': True, 'eta': 44, 'distance': 7710}, {'class': '6', 'name': 'Snow Plows', 'active': True, 'eta': 1, 'distance': 7710}, {'class': '7', 'name': 'Supervisor', 'active': True, 'eta': 44, 'distance': 7710}, {'class': '8', 'name': 'Pavement Marking', 'active': True, 'eta': 4, 'distance': 7710}, {'class': '9', 'name': 'Installer/Set-up', 'active': True, 'eta': 176, 'distance': 7710}, {'class': '10', 'name': 'Bus Rapid Transit', 'active': False, 'eta': 4, 'distance': 7710}, {'class': '10', 'name': 'Not used', 'active': False, 'eta': 176, 'distance': 7710}, {'class': '11', 'name': 'Not used', 'active': False, 'eta': 4, 'distance': 7680}, {'class': '12', 'name': 'Not used', 'active': False, 'eta': 176, 'distance': 7710}, {'class': '13', 'name': 'Not used', 'active': False, 'eta': 4, 'distance': 7710}, {'class': '14', 'name': 'Not used', 'active': False, 'eta': 176, 'distance': 7710}, {'class': '15', 'name': 'Not used', 'active': False, 'eta': 4, 'distance': 7710}]}]}, 'intersectionName': 'NewIntersectionName2'} \n"
                    ]
                },
                {
                    "name": "stdout",
                    "output_type": "stream",
                    "text": [
                        "True\n",
                        "V764JN0014\n",
                        "NewIntersectionName2\n"
                    ]
                }
            ],
            "source": [
                "from intersection.app import handler\n",
                "\n",
                "event = {\n",
                "    \"requestContext\": {},\n",
                "    \"queryStringParameters\": {\n",
                "        \"agencyId\": \"\"\n",
                "    },\n",
                "    # IP address 10.10.0.134\n",
                "    \"body\": updated_intersection.dict(by_alias=True),\n",
                "    \"pathParameters\": {\n",
                "        \"serialNumber\": updated_intersection.serial_number\n",
                "    },\n",
                "    \"httpMethod\": \"PUT\",\n",
                "}\n",
                "context = {}\n",
                "\n",
                "response_body = handler(event, context)[\"body\"]\n",
                "\n",
                "inserted_intersection = Intersection(**json.loads(response_body))\n",
                "\n",
                "print(inserted_intersection is not None)\n",
                "print(inserted_intersection.serial_number)\n",
                "print(inserted_intersection.intersection_name)"
            ]
        },
        {
            "cell_type": "code",
            "execution_count": null,
            "metadata": {},
            "outputs": [
                {
                    "data": {
                        "text/plain": [
                            "44.96356"
                        ]
                    },
                    "execution_count": 20,
                    "metadata": {},
                    "output_type": "execute_result"
                }
            ],
            "source": [
                "inserted_intersection.latitude"
            ]
        }
    ],
    "metadata": {
        "kernelspec": {
            "display_name": "Python 3.10.2 64-bit",
            "language": "python",
            "name": "python3"
        },
        "language_info": {
            "codemirror_mode": {
                "name": "ipython",
                "version": 3
            },
            "file_extension": ".py",
            "mimetype": "text/x-python",
            "name": "python",
            "nbconvert_exporter": "python",
            "pygments_lexer": "ipython3",
            "version": "3.10.2"
        },
        "orig_nbformat": 4,
        "vscode": {
            "interpreter": {
                "hash": "aee8b7b246df8f9039afb4144a1f6fd8d2ca17a180786b69acc140d282b71a49"
            }
        }
    },
    "nbformat": 4,
    "nbformat_minor": 2
}
