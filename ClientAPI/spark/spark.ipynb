{
 "cells": [
  {
   "cell_type": "markdown",
   "metadata": {},
   "source": [
    "# Spark Runner"
   ]
  },
  {
   "cell_type": "code",
   "execution_count": null,
   "metadata": {},
   "outputs": [],
   "source": [
    "# Import and run PySpark\n",
    "\n",
    "!pip install pyspark\n",
    "!pip install findspark\n",
    "\n",
    "import findspark\n",
    "findspark.init()\n",
    "\n",
    "import pyspark\n",
    "\n",
    "spark = (\n",
    "    pyspark.sql.SparkSession.builder.appName(\"metrics\")\n",
    "    .config(\"spark.sql.sources.partitionOverwriteMode\", \"dynamic\")\n",
    "    .getOrCreate()\n",
    ")"
   ]
  },
  {
   "cell_type": "code",
   "execution_count": null,
   "metadata": {},
   "outputs": [],
   "source": [
    "# Automatically reload local Python scripts\n",
    "%load_ext autoreload\n",
    "%autoreload 2"
   ]
  },
  {
   "cell_type": "markdown",
   "metadata": {},
   "source": [
    "## Metrics\n",
    "\n",
    "### Lateness"
   ]
  },
  {
   "cell_type": "code",
   "execution_count": 13,
   "metadata": {},
   "outputs": [
    {
     "name": "stderr",
     "output_type": "stream",
     "text": [
      "                                                                                \r"
     ]
    }
   ],
   "source": [
    "from lateness import main\n",
    "\n",
    "# Assumes mock data loaded into './data' directory\n",
    "\n",
    "main([\n",
    "    '--agency', 'sfmta',\n",
    "    '--date', '2021-09-02',\n",
    "    '--input-bucket', './data/gtt-etl-dev',\n",
    "    '--output-bucket', './data/gtt-etl-dev',\n",
    "])"
   ]
  },
  {
   "cell_type": "code",
   "execution_count": 23,
   "metadata": {},
   "outputs": [],
   "source": [
    "spark.read.options(\n",
    "    basePath=f\"./data/gtt-etl-dev/lateness/lateness_source_data/agency=sfmta\"\n",
    ").parquet(\n",
    "    f\"./data/gtt-etl-dev/lateness/lateness_source_data/agency=sfmta/date=2021-09-02\"\n",
    ").createOrReplaceTempView(\n",
    "    \"lateness\"\n",
    ")"
   ]
  },
  {
   "cell_type": "code",
   "execution_count": 31,
   "metadata": {},
   "outputs": [
    {
     "data": {
      "text/plain": [
       "Row(Route='7', Direction='inbound', StopStart='Lincoln Way & 5th Ave:', StopStartTime=datetime.datetime(2021, 9, 2, 5, 48, 52, 94000), StopStartLateness=0, StopStartLatitude=37.766065, StopStartLongitude=-122.461805, StopEnd='Lincoln Way & 3rd Ave', StopEndTime=datetime.datetime(2021, 9, 2, 5, 49, 7, 193000), StopEndLateness=1, StopEndLatitude=37.7661183333333, StopEndLongitude=-122.460176666667, NumIntersections=0, VehiclePassThrough=1, NumRequests=0, LatenessReduction=-1, date=datetime.date(2021, 9, 2))"
      ]
     },
     "execution_count": 31,
     "metadata": {},
     "output_type": "execute_result"
    }
   ],
   "source": [
    "gd_lateness = spark.sql('''\n",
    "SELECT *\n",
    "FROM lateness\n",
    "''')\n",
    "gd_lateness.head()"
   ]
  }
 ],
 "metadata": {
  "interpreter": {
   "hash": "3067ead486e059ec00ffe7555bdb889e6e264a24dc711bf108106cc7baee8d5d"
  },
  "kernelspec": {
   "display_name": "Python 3 (ipykernel)",
   "language": "python",
   "name": "python3"
  },
  "language_info": {
   "codemirror_mode": {
    "name": "ipython",
    "version": 3
   },
   "file_extension": ".py",
   "mimetype": "text/x-python",
   "name": "python",
   "nbconvert_exporter": "python",
   "pygments_lexer": "ipython3",
   "version": "3.8.8"
  }
 },
 "nbformat": 4,
 "nbformat_minor": 2
}
