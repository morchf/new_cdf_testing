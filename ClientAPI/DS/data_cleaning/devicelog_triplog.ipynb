{
 "cells": [
  {
   "cell_type": "code",
   "execution_count": 1,
   "id": "ef3e0c07",
   "metadata": {},
   "outputs": [],
   "source": [
    "import pandas as pd\n",
    "import os\n",
    "import numpy as np\n",
    "pd.set_option('display.max_columns', 500)\n",
    "# from data_preparation import prepare_triplogs, prepare_tripdatas, get_clean_triplogs, get_clean_tripdatas"
   ]
  },
  {
   "cell_type": "code",
   "execution_count": 2,
   "id": "60568c0c",
   "metadata": {},
   "outputs": [
    {
     "name": "stdout",
     "output_type": "stream",
     "text": [
      "../../../trips/2020_11_8_to_2020_11_14/CVP/triplogs.csv\n",
      "../../../trips/2020_11_8_to_2020_11_14/CVP/tripdatas.csv\n",
      "../../../trips/2020_11_8_to_2020_11_14/CMS/opticomdevicelog.csv\n"
     ]
    }
   ],
   "source": [
    "!ls ../../../trips/2020_11_8_to_2020_11_14/CVP/triplogs.csv\n",
    "!ls ../../../trips/2020_11_8_to_2020_11_14/CVP/tripdatas.csv\n",
    "!ls ../../../trips/2020_11_8_to_2020_11_14/CMS/opticomdevicelog.csv"
   ]
  },
  {
   "cell_type": "code",
   "execution_count": 12,
   "id": "343b697f",
   "metadata": {},
   "outputs": [],
   "source": [
    "#  load data\n",
    "triplogs = pd.read_csv('../../../trips/2020_11_8_to_2020_11_14/CVP/triplogs.csv')\n",
    "tripdatas = pd.read_csv('../../../trips/2020_11_8_to_2020_11_14/CVP/tripdatas.csv')\n",
    "devicelog = pd.read_csv('../../../trips/2020_11_8_to_2020_11_14/CMS/opticomdevicelog.csv')"
   ]
  },
  {
   "cell_type": "code",
   "execution_count": 13,
   "id": "8fc4a1e8",
   "metadata": {},
   "outputs": [],
   "source": [
    "# create unique trip ID\n",
    "triplogs['uid'] = triplogs['deviceid'] + \"_\" + triplogs['logid']\n",
    "tripdatas['uid'] = tripdatas['deviceid'] + \"_\" + tripdatas['logid']\n",
    "\n",
    "# convert to datetime and set time zone\n",
    "triplogs['starttime'] = pd.to_datetime(triplogs['starttime']).dt.tz_localize('UTC')\n",
    "triplogs['endtime'] = pd.to_datetime(triplogs['endtime']).dt.tz_localize('UTC')\n",
    "tripdatas['time'] = pd.to_datetime(tripdatas['time']).dt.tz_localize('UTC')\n",
    "\n",
    "devicelog['startdatetime'] = pd.to_datetime(devicelog['startdatetime']).dt.tz_localize('US/Pacific').dt.tz_convert('UTC')\n",
    "devicelog['enddatetime'] = pd.to_datetime(devicelog['enddatetime']).dt.tz_localize('US/Pacific').dt.tz_convert('UTC')\n",
    "devicelog['duration'] = pd.to_timedelta(devicelog['duration'], unit='second')\n",
    "# create a col for real signal preemption\n",
    "devicelog['event_start'] = devicelog['enddatetime'] - devicelog['duration']\n",
    "\n"
   ]
  },
  {
   "cell_type": "code",
   "execution_count": 14,
   "id": "2c404d1f",
   "metadata": {},
   "outputs": [],
   "source": [
    "start = '2020-11-11'\n",
    "end = '2020-11-12'"
   ]
  },
  {
   "cell_type": "code",
   "execution_count": 15,
   "id": "d9103413",
   "metadata": {},
   "outputs": [],
   "source": [
    "# take only with TSP request\n",
    "tripdatas = tripdatas[tripdatas['event'] == 'TSP request']\n",
    "# join triplogs with tripdatas on 'uid'\n",
    "logdatas = tripdatas.merge(triplogs, on='uid', how='inner')\n",
    "\n",
    "# take only 1 day\n",
    "mask = (logdatas['time'] > start) & (logdatas['time'] <= end)\n",
    "logdatas = logdatas[mask]\n",
    "\n",
    "mask = (devicelog['event_start'] > start) & (devicelog['event_start'] <= end)\n",
    "devicelog = devicelog[mask]"
   ]
  },
  {
   "cell_type": "code",
   "execution_count": 16,
   "id": "03ad8e37",
   "metadata": {},
   "outputs": [
    {
     "data": {
      "text/plain": [
       "505"
      ]
     },
     "execution_count": 16,
     "metadata": {},
     "output_type": "execute_result"
    }
   ],
   "source": [
    "# number of trips, which sent TSP requests\n",
    "logdatas.uid.nunique()"
   ]
  },
  {
   "cell_type": "code",
   "execution_count": 17,
   "id": "78aa07c4",
   "metadata": {},
   "outputs": [],
   "source": [
    "# merge opticomdevicelog and joint dataset of triplogs and tripdatas\n",
    "devicelogdatas = logdatas.merge(devicelog, on='vehiclename', how='inner')"
   ]
  },
  {
   "cell_type": "code",
   "execution_count": 18,
   "id": "a0d45f08",
   "metadata": {},
   "outputs": [],
   "source": [
    "# take only trips with 15 minutes interval between sending and preemption (and not less than zero!)\n",
    "devicelogdatas['timedelta'] = devicelogdatas.event_start - devicelogdatas.time\n",
    "mask = (devicelogdatas.timedelta < pd.Timedelta(\"15 minutes\")) & \\\n",
    "        (devicelogdatas.timedelta >= pd.Timedelta(\"0 minutes\"))\n",
    "filtered_df = devicelogdatas[mask]\n"
   ]
  },
  {
   "cell_type": "code",
   "execution_count": 19,
   "id": "45f72648",
   "metadata": {},
   "outputs": [
    {
     "data": {
      "text/plain": [
       "465"
      ]
     },
     "execution_count": 19,
     "metadata": {},
     "output_type": "execute_result"
    }
   ],
   "source": [
    "# number of trips after \"advanced filtering\"\n",
    "filtered_df.uid.nunique()"
   ]
  },
  {
   "cell_type": "code",
   "execution_count": 20,
   "id": "71a6a495",
   "metadata": {},
   "outputs": [
    {
     "data": {
      "text/plain": [
       "1854"
      ]
     },
     "execution_count": 20,
     "metadata": {},
     "output_type": "execute_result"
    }
   ],
   "source": [
    "# number of trips without any cleaning steps\n",
    "mask = (triplogs['starttime'] > start) & (triplogs['starttime'] <= end)\n",
    "triplogs[mask].uid.nunique()"
   ]
  },
  {
   "cell_type": "code",
   "execution_count": null,
   "id": "8f14d7b8",
   "metadata": {},
   "outputs": [],
   "source": []
  }
 ],
 "metadata": {
  "kernelspec": {
   "display_name": "Python 3",
   "language": "python",
   "name": "python3"
  },
  "language_info": {
   "codemirror_mode": {
    "name": "ipython",
    "version": 3
   },
   "file_extension": ".py",
   "mimetype": "text/x-python",
   "name": "python",
   "nbconvert_exporter": "python",
   "pygments_lexer": "ipython3",
   "version": "3.9.4"
  }
 },
 "nbformat": 4,
 "nbformat_minor": 5
}
