{
 "cells": [
  {
   "cell_type": "code",
   "execution_count": null,
   "id": "a9909c02",
   "metadata": {},
   "outputs": [],
   "source": [
    "import pandas as pd\n",
    "import os\n",
    "import data_preparation_faster\n",
    "reload(data_preparation_faster)\n",
    "# from data_preparation import prepare_triplogs, prepare_tripdatas, get_clean_triplogs, get_clean_tripdatas\n",
    "from data_preparation_faster import prepare_triplogs, prepare_tripdatas, get_clean_triplogs, get_clean_tripdatas"
   ]
  },
  {
   "cell_type": "code",
   "execution_count": null,
   "id": "5ba0af85",
   "metadata": {},
   "outputs": [],
   "source": [
    "data_dir = \"../../../trips/2020_11_8_to_2020_11_14/\""
   ]
  },
  {
   "cell_type": "code",
   "execution_count": null,
   "id": "a44eab10",
   "metadata": {},
   "outputs": [],
   "source": [
    "!ls ../../../trips/2020_11_8_to_2020_11_14/CVP\n",
    "# /2020_11_8_to_2020_11_14/CMS"
   ]
  },
  {
   "cell_type": "code",
   "execution_count": null,
   "id": "2ea287d4",
   "metadata": {},
   "outputs": [],
   "source": [
    "tripdatas_df = pd.read_csv(os.path.join(data_dir, \"CVP/tripdatas.csv\"))"
   ]
  },
  {
   "cell_type": "code",
   "execution_count": null,
   "id": "3c2d74b0",
   "metadata": {},
   "outputs": [],
   "source": [
    "triplogs_df = pd.read_csv(os.path.join(data_dir, \"CVP/triplogs.csv\"))"
   ]
  },
  {
   "cell_type": "code",
   "execution_count": null,
   "id": "25d343f5",
   "metadata": {},
   "outputs": [],
   "source": [
    "%%time\n",
    "triplogs_df = prepare_triplogs(triplogs_df)\n",
    "tripdatas_df = prepare_tripdatas(tripdatas_df)\n",
    "\n",
    "# takes about 4 minutes to run\n",
    "\n",
    "tripdatas_df = get_clean_tripdatas(tripdatas_df) # cleaning tripdatas first is important\n",
    "tripdatas_df_good = tripdatas_df[tripdatas_df[\"is_good_for_study\"]]\n",
    "triplogs_df = get_clean_triplogs(triplogs_df, tripdatas_df_good)\n",
    "triplogs_df_good = triplogs_df[triplogs_df[\"is_good_for_study\"]]"
   ]
  },
  {
   "cell_type": "code",
   "execution_count": null,
   "id": "59101bdf",
   "metadata": {},
   "outputs": [],
   "source": [
    "# now we have columns is_good_for_study, reason_not_good_for_study\n",
    "triplogs_df[[\"is_good_for_study\"]].head()"
   ]
  },
  {
   "cell_type": "code",
   "execution_count": null,
   "id": "65317cd5",
   "metadata": {},
   "outputs": [],
   "source": [
    "triplogs_df_good[[\"is_good_for_study\"]].head()"
   ]
  },
  {
   "cell_type": "code",
   "execution_count": null,
   "id": "8f1a161b",
   "metadata": {},
   "outputs": [],
   "source": []
  }
 ],
 "metadata": {
  "kernelspec": {
   "display_name": "Python 3",
   "language": "python",
   "name": "python3"
  },
  "language_info": {
   "codemirror_mode": {
    "name": "ipython",
    "version": 3
   },
   "file_extension": ".py",
   "mimetype": "text/x-python",
   "name": "python",
   "nbconvert_exporter": "python",
   "pygments_lexer": "ipython3",
   "version": "3.7.10"
  }
 },
 "nbformat": 4,
 "nbformat_minor": 5
}
