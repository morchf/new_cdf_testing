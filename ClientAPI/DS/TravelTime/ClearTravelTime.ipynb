{
 "cells": [
  {
   "cell_type": "code",
   "execution_count": null,
   "id": "0087591b",
   "metadata": {},
   "outputs": [],
   "source": [
    "import pandas as pd\n",
    "import os\n",
    "from data_preparation import prepare_triplogs, prepare_tripdatas, get_clean_triplogs, get_clean_tripdatas, add_columns_to_prepared_triplogs"
   ]
  },
  {
   "cell_type": "code",
   "execution_count": null,
   "id": "5a8e4680",
   "metadata": {},
   "outputs": [],
   "source": [
    "data_dir = \"../2020_11_8_to_2020_11_14\""
   ]
  },
  {
   "cell_type": "code",
   "execution_count": null,
   "id": "675d6d8e",
   "metadata": {},
   "outputs": [],
   "source": [
    "!ls ../2020_11_8_to_2020_11_14/CMS"
   ]
  },
  {
   "cell_type": "code",
   "execution_count": null,
   "id": "1930cc7a",
   "metadata": {},
   "outputs": [],
   "source": [
    "tripdatas_df = pd.read_csv(os.path.join(data_dir, \"CVP/tripdatas.csv\"))"
   ]
  },
  {
   "cell_type": "code",
   "execution_count": null,
   "id": "7ee93442",
   "metadata": {},
   "outputs": [],
   "source": [
    "triplogs_df = pd.read_csv(os.path.join(data_dir, \"CVP/triplogs.csv\"))"
   ]
  },
  {
   "cell_type": "code",
   "execution_count": null,
   "id": "6913dae2",
   "metadata": {},
   "outputs": [],
   "source": [
    "triplogs_df = prepare_triplogs(triplogs_df)\n",
    "tripdatas_df = prepare_tripdatas(tripdatas_df)\n",
    "\n",
    "# takes about 10 minutes to run\n",
    "\n",
    "tripdatas_df = get_clean_tripdatas(tripdatas_df) # cleaning tripdatas first is important\n",
    "tripdatas_df_good = tripdatas_df[tripdatas_df[\"is_good_for_study\"]]\n",
    "triplogs_df = get_clean_triplogs(triplogs_df, tripdatas_df_good)\n",
    "triplogs_df_good = triplogs_df[triplogs_df[\"is_good_for_study\"]]\n",
    "\n",
    "triplogs_df_good = add_columns_to_prepared_triplogs(triplogs_df_good, tripdatas_df_good)"
   ]
  },
  {
   "cell_type": "code",
   "execution_count": 10,
   "id": "01340a14",
   "metadata": {},
   "outputs": [
    {
     "data": {
      "text/html": [
       "<div>\n",
       "<style scoped>\n",
       "    .dataframe tbody tr th:only-of-type {\n",
       "        vertical-align: middle;\n",
       "    }\n",
       "\n",
       "    .dataframe tbody tr th {\n",
       "        vertical-align: top;\n",
       "    }\n",
       "\n",
       "    .dataframe thead th {\n",
       "        text-align: right;\n",
       "    }\n",
       "</style>\n",
       "<table border=\"1\" class=\"dataframe\">\n",
       "  <thead>\n",
       "    <tr style=\"text-align: right;\">\n",
       "      <th></th>\n",
       "      <th>clear_taveltime</th>\n",
       "      <th>duration_timedelta</th>\n",
       "      <th>time_spent_on_busstops</th>\n",
       "    </tr>\n",
       "  </thead>\n",
       "  <tbody>\n",
       "    <tr>\n",
       "      <th>1</th>\n",
       "      <td>0 days 00:45:04.929000</td>\n",
       "      <td>0 days 01:07:51.034000</td>\n",
       "      <td>0 days 00:22:46.105000</td>\n",
       "    </tr>\n",
       "    <tr>\n",
       "      <th>3</th>\n",
       "      <td>0 days 00:53:06.896000</td>\n",
       "      <td>0 days 01:10:45.127000</td>\n",
       "      <td>0 days 00:17:38.231000</td>\n",
       "    </tr>\n",
       "    <tr>\n",
       "      <th>4</th>\n",
       "      <td>0 days 00:55:52.163000</td>\n",
       "      <td>0 days 01:05:33.813000</td>\n",
       "      <td>0 days 00:09:41.650000</td>\n",
       "    </tr>\n",
       "    <tr>\n",
       "      <th>5</th>\n",
       "      <td>0 days 00:47:39.833000</td>\n",
       "      <td>0 days 00:55:22.579000</td>\n",
       "      <td>0 days 00:07:42.746000</td>\n",
       "    </tr>\n",
       "    <tr>\n",
       "      <th>14</th>\n",
       "      <td>0 days 00:52:50.817000</td>\n",
       "      <td>0 days 01:02:57.660000</td>\n",
       "      <td>0 days 00:10:06.843000</td>\n",
       "    </tr>\n",
       "  </tbody>\n",
       "</table>\n",
       "</div>"
      ],
      "text/plain": [
       "          clear_taveltime     duration_timedelta time_spent_on_busstops\n",
       "1  0 days 00:45:04.929000 0 days 01:07:51.034000 0 days 00:22:46.105000\n",
       "3  0 days 00:53:06.896000 0 days 01:10:45.127000 0 days 00:17:38.231000\n",
       "4  0 days 00:55:52.163000 0 days 01:05:33.813000 0 days 00:09:41.650000\n",
       "5  0 days 00:47:39.833000 0 days 00:55:22.579000 0 days 00:07:42.746000\n",
       "14 0 days 00:52:50.817000 0 days 01:02:57.660000 0 days 00:10:06.843000"
      ]
     },
     "execution_count": 10,
     "metadata": {},
     "output_type": "execute_result"
    }
   ],
   "source": [
    "triplogs_df_good[[\"clear_taveltime\", \"duration_timedelta\", \"time_spent_on_busstops\"]].head()"
   ]
  },
  {
   "cell_type": "code",
   "execution_count": null,
   "id": "325d4c49",
   "metadata": {},
   "outputs": [],
   "source": []
  }
 ],
 "metadata": {
  "kernelspec": {
   "display_name": "Python 3",
   "language": "python",
   "name": "python3"
  },
  "language_info": {
   "codemirror_mode": {
    "name": "ipython",
    "version": 3
   },
   "file_extension": ".py",
   "mimetype": "text/x-python",
   "name": "python",
   "nbconvert_exporter": "python",
   "pygments_lexer": "ipython3",
   "version": "3.9.5"
  }
 },
 "nbformat": 4,
 "nbformat_minor": 5
}
