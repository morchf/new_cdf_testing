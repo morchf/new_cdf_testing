{
 "cells": [
  {
   "cell_type": "markdown",
   "metadata": {},
   "source": [
    "# TSP / Schedule Adherence / Drive Test\n",
    "\n",
    "## Setup"
   ]
  },
  {
   "cell_type": "code",
   "execution_count": 1,
   "metadata": {},
   "outputs": [],
   "source": [
    "import os\n",
    "import sys\n",
    "import logging\n",
    "import warnings\n",
    "\n",
    "\n",
    "root_path = os.path.abspath(f\"{os.path.abspath('')}/../../..\")\n",
    "\n",
    "# Show INFO messages and supress auto-reload import warnings\n",
    "logging.getLogger().setLevel(logging.INFO)\n",
    "warnings.filterwarnings(\"ignore\")"
   ]
  },
  {
   "cell_type": "code",
   "execution_count": 2,
   "metadata": {},
   "outputs": [],
   "source": [
    "# Libraries\n",
    "sys.path.insert(0, f\"{root_path}/TSP/tsp-gtfs-realtime\")\n",
    "sys.path.insert(0, f\"{root_path}/CDFAndIoT/Service/AssetLibrary\")\n",
    "sys.path.insert(0, f\"{root_path}/CDFAndIoT/API\")\n",
    "sys.path.insert(0, f\"{root_path}/TSP/ScheduleAdherence/Lambdas/StaticGtfs\")\n",
    "sys.path.insert(0, f\"{root_path}/TSP/ScheduleAdherence/Service\")\n",
    "sys.path.insert(0, f\"{root_path}/TSP/ScheduleAdherence/DataModel\")\n"
   ]
  },
  {
   "cell_type": "code",
   "execution_count": 3,
   "metadata": {},
   "outputs": [
    {
     "name": "stdout",
     "output_type": "stream",
     "text": [
      "Looking in indexes: https://pypi.org/simple, https://pip.repos.neuron.amazonaws.com\n",
      "Requirement already satisfied: boto3 in /home/ec2-user/anaconda3/envs/pytorch_p38/lib/python3.8/site-packages (1.22.6)\n",
      "Requirement already satisfied: s3transfer<0.6.0,>=0.5.0 in /home/ec2-user/anaconda3/envs/pytorch_p38/lib/python3.8/site-packages (from boto3) (0.5.2)\n",
      "Requirement already satisfied: jmespath<2.0.0,>=0.7.1 in /home/ec2-user/anaconda3/envs/pytorch_p38/lib/python3.8/site-packages (from boto3) (0.10.0)\n",
      "Requirement already satisfied: botocore<1.26.0,>=1.25.6 in /home/ec2-user/anaconda3/envs/pytorch_p38/lib/python3.8/site-packages (from boto3) (1.25.13)\n",
      "Requirement already satisfied: python-dateutil<3.0.0,>=2.1 in /home/ec2-user/anaconda3/envs/pytorch_p38/lib/python3.8/site-packages (from botocore<1.26.0,>=1.25.6->boto3) (2.8.2)\n",
      "Requirement already satisfied: urllib3<1.27,>=1.25.4 in /home/ec2-user/anaconda3/envs/pytorch_p38/lib/python3.8/site-packages (from botocore<1.26.0,>=1.25.6->boto3) (1.26.8)\n",
      "Requirement already satisfied: six>=1.5 in /home/ec2-user/anaconda3/envs/pytorch_p38/lib/python3.8/site-packages (from python-dateutil<3.0.0,>=2.1->botocore<1.26.0,>=1.25.6->boto3) (1.16.0)\n",
      "\u001b[33mWARNING: You are using pip version 22.0.4; however, version 22.3 is available.\n",
      "You should consider upgrading via the '/home/ec2-user/anaconda3/envs/pytorch_p38/bin/python -m pip install --upgrade pip' command.\u001b[0m\u001b[33m\n",
      "\u001b[0mNote: you may need to restart the kernel to use updated packages.\n"
     ]
    }
   ],
   "source": [
    "%pip install boto3\n",
    "%load_ext autoreload\n",
    "%autoreload 2"
   ]
  },
  {
   "cell_type": "code",
   "execution_count": 4,
   "metadata": {},
   "outputs": [
    {
     "name": "stdout",
     "output_type": "stream",
     "text": [
      "Note: you may need to restart the kernel to use updated packages.\n"
     ]
    }
   ],
   "source": [
    "%pip install pause &> /dev/null\n",
    "!(cd ../.. && pip install ./tsp-gtfs-realtime) &> /dev/null"
   ]
  },
  {
   "cell_type": "code",
   "execution_count": 5,
   "metadata": {},
   "outputs": [
    {
     "name": "stdout",
     "output_type": "stream",
     "text": [
      "Looking in indexes: https://pypi.org/simple, https://pip.repos.neuron.amazonaws.com\n",
      "Requirement already satisfied: redis in /home/ec2-user/anaconda3/envs/pytorch_p38/lib/python3.8/site-packages (4.2.2)\n",
      "Requirement already satisfied: async-timeout>=4.0.2 in /home/ec2-user/anaconda3/envs/pytorch_p38/lib/python3.8/site-packages (from redis) (4.0.2)\n",
      "Requirement already satisfied: packaging>=20.4 in /home/ec2-user/anaconda3/envs/pytorch_p38/lib/python3.8/site-packages (from redis) (21.3)\n",
      "Requirement already satisfied: deprecated>=1.2.3 in /home/ec2-user/anaconda3/envs/pytorch_p38/lib/python3.8/site-packages (from redis) (1.2.13)\n",
      "Requirement already satisfied: wrapt<2,>=1.10 in /home/ec2-user/anaconda3/envs/pytorch_p38/lib/python3.8/site-packages (from deprecated>=1.2.3->redis) (1.13.3)\n",
      "Requirement already satisfied: pyparsing!=3.0.5,>=2.0.2 in /home/ec2-user/anaconda3/envs/pytorch_p38/lib/python3.8/site-packages (from packaging>=20.4->redis) (3.0.6)\n",
      "\u001b[33mWARNING: You are using pip version 22.0.4; however, version 22.3 is available.\n",
      "You should consider upgrading via the '/home/ec2-user/anaconda3/envs/pytorch_p38/bin/python -m pip install --upgrade pip' command.\u001b[0m\u001b[33m\n",
      "\u001b[0mNote: you may need to restart the kernel to use updated packages.\n"
     ]
    }
   ],
   "source": [
    "%pip install redis"
   ]
  },
  {
   "cell_type": "code",
   "execution_count": 6,
   "metadata": {},
   "outputs": [
    {
     "data": {
      "text/plain": [
       "True"
      ]
     },
     "execution_count": 6,
     "metadata": {},
     "output_type": "execute_result"
    }
   ],
   "source": [
    "# Connect directly to Redis cluster\n",
    "from redis import Redis\n",
    "\n",
    "REDIS_URL = \"10.0.0.38\"\n",
    "REDIS_PORT = \"6379\"\n",
    "REDIS_USERNAME = None\n",
    "REDIS_PASSWORD = None\n",
    "\n",
    "redis = Redis(\n",
    "    host=REDIS_URL,\n",
    "    port=REDIS_PORT,\n",
    "    ssl=False,\n",
    "    db=0,\n",
    "    decode_responses=True,\n",
    ")\n",
    "\n",
    "# Check connection\n",
    "redis.ping()"
   ]
  },
  {
   "cell_type": "code",
   "execution_count": 7,
   "metadata": {},
   "outputs": [],
   "source": [
    "import boto3\n",
    "\n",
    "from gtt.service.schedule_adherence import AthenaClient, ScheduleAdherenceService\n",
    "from gtt.service.schedule_adherence.static_gtfs import StaticGtfsService\n",
    "\n",
    "# Resources and services\n",
    "athena = boto3.client(\"athena\")\n",
    "athena_client = AthenaClient(\n",
    "    athena, output_location=\"s3://aws-athena-query-results-083011521439-us-east-1/\"\n",
    ")\n",
    "\n",
    "static_gtfs_service = StaticGtfsService(\n",
    "    sql_client=athena_client,\n",
    "    sql_kwargs={\"schema\": \"gtt_gd_gtfs_dev\"},\n",
    ")\n",
    "schedule_adherence_service = ScheduleAdherenceService(\n",
    "    redis,\n",
    "    static_gtfs_service\n",
    ")"
   ]
  },
  {
   "cell_type": "code",
   "execution_count": 8,
   "metadata": {},
   "outputs": [],
   "source": [
    "from gtt.data_model.schedule_adherence import RedisChannel\n",
    "\n",
    "class VehiclePositionsChannel(RedisChannel):\n",
    "    channel_format = \"{agency_name}:{channel_id}:{vehicle_id}\"\n",
    "\n",
    "    @classmethod\n",
    "    def cache(cls, **kwargs):\n",
    "        return cls.channel(channel_kwargs={**kwargs, \"channel_id\": \"vehicle_position\"})\n",
    "\n",
    "    @classmethod\n",
    "    def new(cls, **kwargs):\n",
    "        return cls.channel(\n",
    "            channel_kwargs={**kwargs, \"channel_id\": \"new_vehicle_position\"}\n",
    "        )"
   ]
  },
  {
   "cell_type": "code",
   "execution_count": 9,
   "metadata": {},
   "outputs": [],
   "source": [
    "source = \"util/data/vehicle_positions__whole_day.parquet\"\n",
    "polling_rate = None\n",
    "playback_speed = 5\n",
    "end_time = None\n",
    "repeat = False\n",
    "use_original_time = False\n",
    "redis_url = REDIS_URL\n",
    "redis_port = REDIS_PORT\n",
    "agency_name = \"tsptest\"\n",
    "vehicle_list = None\n",
    "trip_list = None\n",
    "get_statistics = False\n",
    "\n",
    "agency_id = \"0537199e-e853-11ec-a8b8-f65b686c7d91\""
   ]
  },
  {
   "cell_type": "code",
   "execution_count": 10,
   "metadata": {},
   "outputs": [
    {
     "data": {
      "text/plain": [
       "1"
      ]
     },
     "execution_count": 10,
     "metadata": {},
     "output_type": "execute_result"
    }
   ],
   "source": [
    "from gtt.data_model.schedule_adherence.static_gtfs import StaticGtfsChannel\n",
    "\n",
    "redis.publish(StaticGtfsChannel.invalidate(agency_id=agency_id), \"\")"
   ]
  },
  {
   "cell_type": "code",
   "execution_count": 11,
   "metadata": {},
   "outputs": [],
   "source": [
    "def handle_new_trip_delay(*_, **__):\n",
    "    print(\"New trip delay\")\n",
    "\n",
    "pubsub = redis.pubsub()\n",
    "pubsub.psubscribe(\n",
    "    **{\n",
    "        \"b'tsp_in_cloud:new_trip_delay:*\": handle_new_trip_delay\n",
    "    }\n",
    ")"
   ]
  },
  {
   "cell_type": "code",
   "execution_count": 14,
   "metadata": {},
   "outputs": [],
   "source": [
    "from datetime import datetime\n",
    "\n",
    "from gtt.data_model.schedule_adherence import ScheduleAdherenceChannel\n",
    "from gtt.data_model.schedule_adherence import (\n",
    "    ScheduleStatus,\n",
    "    RedisChannel,\n",
    "    VehiclePosition,\n",
    ")\n",
    "\n",
    "from tools.recorded_data_publisher import main\n",
    "\n",
    "checkpoints = []\n",
    "\n",
    "def callback():\n",
    "    schedule_statuses = []    \n",
    "    for key in redis.scan_iter(\n",
    "        ScheduleAdherenceChannel.cache(agency_id=agency_id)\n",
    "    ):\n",
    "        schedule_statuses.append(\n",
    "            ScheduleStatus.parse_raw(redis.get(key))\n",
    "        )\n",
    "\n",
    "    vehicle_positions = []\n",
    "    for key in redis.scan_iter(\n",
    "        VehiclePositionsChannel.cache(agency_id=agency_id)\n",
    "    ):\n",
    "        gps_fields = [\"latitude\", \"longitude\", \"speed\", \"bearing\"]\n",
    "        fields = [\"timestamp\", \"vehicle_id\", \"trip_id\", *gps_fields]\n",
    "        \n",
    "        vp = VehiclePosition(**{\n",
    "                f: redis.hget(key, f)\n",
    "                for f in fields\n",
    "            })\n",
    "        \n",
    "        vehicle_positions.append(vp)\n",
    "\n",
    "        redis.publish(\n",
    "            VehiclePositionsChannel.new(\n",
    "                agency_name=agency_name,\n",
    "                vehicle_id=vp.vehicle_id\n",
    "            ),\n",
    "            \"\"\n",
    "        )\n",
    "\n",
    "    checkpoints.append({\n",
    "        \"timestamp\": datetime.now(),\n",
    "        \"schedule_statuses\": schedule_statuses,\n",
    "        \"vehicle_positions\": vehicle_positions\n",
    "    })"
   ]
  },
  {
   "cell_type": "code",
   "execution_count": 22,
   "metadata": {},
   "outputs": [
    {
     "name": "stderr",
     "output_type": "stream",
     "text": [
      "non-unity playback not yet implemented, setting to 1.0\n",
      "setting start time to 2022-06-10 15:18:00\n",
      "setting end time to 2022-06-10 23:42:52\n",
      "adding 132 days 04:28:38.828642 to make times current\n",
      "Using service\n",
      "aws_cfg=Config(local_development=True, redis_url='10.0.0.38', redis_port='6379', use_ssl=False, username=None, password=None)\n"
     ]
    },
    {
     "name": "stdout",
     "output_type": "stream",
     "text": [
      "4127\n",
      "4172\n",
      "5518\n",
      "4114\n",
      "4137\n",
      "4114\n",
      "4137\n",
      "5518\n",
      "4172\n",
      "4127\n",
      "5518\n",
      "4114\n",
      "4127\n",
      "4137\n",
      "4172\n",
      "4127\n",
      "4172\n",
      "4137\n",
      "4114\n",
      "5518\n",
      "4114\n",
      "5518\n",
      "4127\n",
      "4172\n",
      "4137\n"
     ]
    },
    {
     "name": "stderr",
     "output_type": "stream",
     "text": [
      "KeyboardInterrupt\n"
     ]
    }
   ],
   "source": [
    "# Run test\n",
    "checkpoints.clear()\n",
    "start_time = '2022-06-10 15:18:00'\n",
    "vehicle_list=\"5518,4172,4114,4127,4137\"\n",
    "vehicle_id_list = vehicle_list.split(\",\")\n",
    "main(\n",
    "    source=source,\n",
    "    polling_rate=polling_rate,\n",
    "    playback_speed=playback_speed,\n",
    "    start_time=start_time,\n",
    "    end_time=end_time,\n",
    "    repeat=repeat,\n",
    "    use_original_time=use_original_time,\n",
    "    redis_url=redis_url,\n",
    "    redis_port=redis_port,\n",
    "    agency_id=agency_id,\n",
    "    agency_name=agency_name,\n",
    "    vehicle_list=vehicle_list,\n",
    "    trip_list=trip_list,\n",
    "    \n",
    "    get_statistics=get_statistics,\n",
    "    callback=callback,\n",
    "#     api_url=\"http://gtfs-realtime-test-server.developgtt.com/gtfs-rt/tsptest/vehiclepositions/entities\"\n",
    "#     timezone=\"America/New_York\",\n",
    "#     begin_with_current_time=True\n",
    ")"
   ]
  },
  {
   "cell_type": "code",
   "execution_count": 29,
   "metadata": {},
   "outputs": [
    {
     "data": {
      "text/plain": [
       "0"
      ]
     },
     "execution_count": 29,
     "metadata": {},
     "output_type": "execute_result"
    }
   ],
   "source": [
    "redis.publish(f\"tsp_in_cloud:tsp_in_cloud:set_tsp_enabled:{agency_id}:3\", '{\"enabled\":true, \"vehicle_id\":\"2\"}')"
   ]
  },
  {
   "cell_type": "code",
   "execution_count": 23,
   "metadata": {},
   "outputs": [
    {
     "name": "stdout",
     "output_type": "stream",
     "text": [
      "rt_radio_message:device_fields:tsptest-gtfs-realtime-2\n",
      "rt_radio_message:device_fields:tsptest-gtfs-realtime-3\n",
      "rt_radio_message:device_fields:tsptest-gtfs-realtime-4\n",
      "rt_radio_message:tsptest-gtfs-realtime-1:payload\n",
      "rt_radio_message:tsptest-gtfs-realtime-1:topic\n",
      "rt_radio_message:tsptest-gtfs-realtime-2:payload\n",
      "rt_radio_message:tsptest-gtfs-realtime-2:topic\n",
      "rt_radio_message:tsptest-gtfs-realtime-3:payload\n",
      "rt_radio_message:tsptest-gtfs-realtime-3:topic\n",
      "rt_radio_message:tsptest-gtfs-realtime-4:payload\n",
      "rt_radio_message:tsptest-gtfs-realtime-4:topic\n",
      "tsptest:last_updated\n",
      "tsptest:vehicle_ids\n",
      "tsptest:vehicle_position:1\n",
      "tsptest:vehicle_position:1102\n",
      "tsptest:vehicle_position:1104\n",
      "tsptest:vehicle_position:1107\n",
      "tsptest:vehicle_position:128\n",
      "tsptest:vehicle_position:129\n",
      "tsptest:vehicle_position:136\n",
      "tsptest:vehicle_position:2\n",
      "tsptest:vehicle_position:2201\n",
      "tsptest:vehicle_position:2202\n",
      "tsptest:vehicle_position:2203\n",
      "tsptest:vehicle_position:2204\n",
      "tsptest:vehicle_position:2207\n",
      "tsptest:vehicle_position:2208\n",
      "tsptest:vehicle_position:2209\n",
      "tsptest:vehicle_position:2210\n",
      "tsptest:vehicle_position:2213\n",
      "tsptest:vehicle_position:2214\n",
      "tsptest:vehicle_position:2216\n",
      "tsptest:vehicle_position:2218\n",
      "tsptest:vehicle_position:264\n",
      "tsptest:vehicle_position:270\n",
      "tsptest:vehicle_position:271\n",
      "tsptest:vehicle_position:277\n",
      "tsptest:vehicle_position:281\n",
      "tsptest:vehicle_position:282\n",
      "tsptest:vehicle_position:285\n",
      "tsptest:vehicle_position:287\n",
      "tsptest:vehicle_position:289\n",
      "tsptest:vehicle_position:3\n",
      "tsptest:vehicle_position:325\n",
      "tsptest:vehicle_position:326\n",
      "tsptest:vehicle_position:4\n",
      "tsptest:vehicle_position:4001\n",
      "tsptest:vehicle_position:4015\n",
      "tsptest:vehicle_position:4017\n",
      "tsptest:vehicle_position:4018\n",
      "tsptest:vehicle_position:4020\n",
      "tsptest:vehicle_position:4023\n",
      "tsptest:vehicle_position:4024\n",
      "tsptest:vehicle_position:4036\n",
      "tsptest:vehicle_position:4042\n",
      "tsptest:vehicle_position:4043\n",
      "tsptest:vehicle_position:4044\n",
      "tsptest:vehicle_position:4048\n",
      "tsptest:vehicle_position:4050\n",
      "tsptest:vehicle_position:4053\n",
      "tsptest:vehicle_position:4055\n",
      "tsptest:vehicle_position:4056\n",
      "tsptest:vehicle_position:4062\n",
      "tsptest:vehicle_position:4063\n",
      "tsptest:vehicle_position:4069\n",
      "tsptest:vehicle_position:4072\n",
      "tsptest:vehicle_position:4073\n",
      "tsptest:vehicle_position:4077\n",
      "tsptest:vehicle_position:4079\n",
      "tsptest:vehicle_position:4080\n",
      "tsptest:vehicle_position:4086\n",
      "tsptest:vehicle_position:4087\n",
      "tsptest:vehicle_position:4088\n",
      "tsptest:vehicle_position:4089\n",
      "tsptest:vehicle_position:4092\n",
      "tsptest:vehicle_position:4095\n",
      "tsptest:vehicle_position:4098\n",
      "tsptest:vehicle_position:4106\n",
      "tsptest:vehicle_position:4110\n",
      "tsptest:vehicle_position:4112\n",
      "tsptest:vehicle_position:4113\n",
      "tsptest:vehicle_position:4114\n",
      "tsptest:vehicle_position:4117\n",
      "tsptest:vehicle_position:4121\n",
      "tsptest:vehicle_position:4122\n",
      "tsptest:vehicle_position:4123\n",
      "tsptest:vehicle_position:4126\n",
      "tsptest:vehicle_position:4127\n",
      "tsptest:vehicle_position:4131\n",
      "tsptest:vehicle_position:4132\n",
      "tsptest:vehicle_position:4135\n",
      "tsptest:vehicle_position:4137\n",
      "tsptest:vehicle_position:4141\n",
      "tsptest:vehicle_position:4142\n",
      "tsptest:vehicle_position:4143\n",
      "tsptest:vehicle_position:4145\n",
      "tsptest:vehicle_position:4148\n",
      "tsptest:vehicle_position:4151\n",
      "tsptest:vehicle_position:4153\n",
      "tsptest:vehicle_position:4156\n",
      "tsptest:vehicle_position:4157\n",
      "tsptest:vehicle_position:4158\n",
      "tsptest:vehicle_position:4160\n",
      "tsptest:vehicle_position:4161\n",
      "tsptest:vehicle_position:4162\n",
      "tsptest:vehicle_position:4163\n",
      "tsptest:vehicle_position:4165\n",
      "tsptest:vehicle_position:4169\n",
      "tsptest:vehicle_position:4171\n",
      "tsptest:vehicle_position:4172\n",
      "tsptest:vehicle_position:4176\n",
      "tsptest:vehicle_position:4177\n",
      "tsptest:vehicle_position:4181\n",
      "tsptest:vehicle_position:4182\n",
      "tsptest:vehicle_position:4183\n",
      "tsptest:vehicle_position:4186\n",
      "tsptest:vehicle_position:4189\n",
      "tsptest:vehicle_position:4194\n",
      "tsptest:vehicle_position:4200\n",
      "tsptest:vehicle_position:4202\n",
      "tsptest:vehicle_position:4203\n",
      "tsptest:vehicle_position:4204\n",
      "tsptest:vehicle_position:5500\n",
      "tsptest:vehicle_position:5503\n",
      "tsptest:vehicle_position:5505\n",
      "tsptest:vehicle_position:5509\n",
      "tsptest:vehicle_position:5511\n",
      "tsptest:vehicle_position:5512\n",
      "tsptest:vehicle_position:5513\n",
      "tsptest:vehicle_position:5514\n",
      "tsptest:vehicle_position:5515\n",
      "tsptest:vehicle_position:5518\n",
      "tsptest:vehicle_position:5519\n",
      "tsptest:vehicle_position:6000\n",
      "tsptest:vehicle_position:6002\n",
      "tsptest:vehicle_position:6007\n",
      "tsptest:vehicle_position:6008\n"
     ]
    }
   ],
   "source": [
    "# for key in sorted(redis.scan_iter(\"tsptest:vehicle_position:*\")):\n",
    "#     try:\n",
    "#         print(redis.hgetall(key))\n",
    "#         print()\n",
    "#     except Exception:\n",
    "#         pass\n",
    "\n",
    "for key in sorted(redis.scan_iter(\"*\")):\n",
    "    print(key)"
   ]
  },
  {
   "cell_type": "code",
   "execution_count": null,
   "metadata": {},
   "outputs": [],
   "source": [
    "from gtt.service.schedule_adherence.static_gtfs.static_gtfs_service import (\n",
    "    StaticGtfsStopTimesChannel\n",
    ")\n",
    "from gtt.data_model.schedule_adherence import Schedule\n",
    "\n",
    "schedules = []\n",
    "for key in redis.scan_iter(\n",
    "    StaticGtfsStopTimesChannel.cache()\n",
    "):\n",
    "    schedules.append(Schedule.parse_raw(redis.get(key)))"
   ]
  },
  {
   "cell_type": "code",
   "execution_count": null,
   "metadata": {},
   "outputs": [],
   "source": [
    "import json\n",
    "from gtt.service.schedule_adherence.schedule_adherence_service import ScheduleAdherenceChannel\n",
    "\n",
    "# tsptest:vehicle_position\n",
    "# tsp_in_cloud:trip_delay\n",
    "\n",
    "enabled_vehicle_ids = redis.smembers(tsp_enabled_key)\n",
    "print(enabled_vehicle_ids)\n",
    "print()\n",
    "\n",
    "for key in sorted(redis.scan_iter(\"tsp_in_cloud:trip_delay*\")):\n",
    "    vehicle_id = ScheduleAdherenceChannel.parse(key)[\"vehicle_id\"]\n",
    "    if vehicle_id not in enabled_vehicle_ids or vehicle_id not in vehicle_id_list:\n",
    "        continue\n",
    "\n",
    "    trip_delay = redis.get(key)\n",
    "    if trip_delay is None:\n",
    "        continue\n",
    "        \n",
    "    record = json.loads(trip_delay)\n",
    "\n",
    "    print(key)\n",
    "    print(record.get(\"delay\") / 60)\n",
    "    print()"
   ]
  },
  {
   "cell_type": "code",
   "execution_count": null,
   "metadata": {},
   "outputs": [],
   "source": [
    "# for key in sorted(redis.scan_iter(\"rt_radio_message:*\")):\n",
    "#     print(key)\n",
    "#     redis.delete(key)\n",
    "# print(redis.get(\"rt_radio_message:tsptest-gtfs-realtime-1:payload\"))\n",
    "# redis.get(\"rt_radio_message:tsptest-gtfs-realtime-1:topic\")\n",
    "# for key in redis.smembers(\"tsp:tsptest:running_vehicles\"):\n",
    "#     redis.srem(\"tsp:tsptest:running_vehicles\", key)\n",
    "    \n",
    "print(redis.smembers(\"tsp:tsptest:running_vehicles\"))"
   ]
  },
  {
   "cell_type": "code",
   "execution_count": null,
   "metadata": {},
   "outputs": [],
   "source": [
    "print(len(checkpoints))\n",
    "print(len(schedules))"
   ]
  },
  {
   "cell_type": "code",
   "execution_count": null,
   "metadata": {},
   "outputs": [],
   "source": [
    "%pip install pandas"
   ]
  },
  {
   "cell_type": "code",
   "execution_count": null,
   "metadata": {},
   "outputs": [],
   "source": [
    "import pandas as pd\n",
    "import json\n",
    "from gtt.data_model.schedule_adherence.static_gtfs import StaticGtfsStop\n",
    "\n",
    "def flatten_checkpoints(checkpoints, stops):\n",
    "    vps = []\n",
    "    sss = []\n",
    "\n",
    "    for checkpoint in checkpoints:\n",
    "        timestamp = checkpoint[\"timestamp\"]\n",
    "        vehicle_positions = checkpoint[\"vehicle_positions\"]\n",
    "        schedule_statuses = checkpoint[\"schedule_statuses\"]\n",
    "        \n",
    "        for vehicle_position in vehicle_positions:\n",
    "            vps.append({ **vehicle_position.dict(), \"timestamp\": timestamp,  })\n",
    "\n",
    "        for schedule_status in schedule_statuses:\n",
    "            latest_stop_event = schedule_status.stop_events[-1]\n",
    "            latest_stop = next(\n",
    "              filter(lambda x: x[\"stop_id\"] == latest_stop_event.stop_id, stops), None\n",
    "            )\n",
    "\n",
    "            sss.append({\n",
    "                **schedule_status.dict(),\n",
    "                \"latitude\": latest_stop[\"latitude\"],\n",
    "                \"longitude\": latest_stop[\"longitude\"]\n",
    "            })\n",
    "\n",
    "    vp_df = pd.DataFrame(\n",
    "        vps,\n",
    "        columns=list(VehiclePosition.__fields__.keys())\n",
    "    )\n",
    "    ss_df = pd.DataFrame(\n",
    "        sss,\n",
    "        columns=[\n",
    "            \"delay\",\n",
    "            \"last_updated\",\n",
    "            \"next_update\",\n",
    "            \"next_stop\",\n",
    "            \"exact\",\n",
    "            \"latitude\",\n",
    "            \"longitude\"\n",
    "        ],\n",
    "    )\n",
    "        \n",
    "    return (ss_df, vp_df)\n",
    "        \n",
    "def schedules_stops(schedules):\n",
    "    stops = dict()\n",
    "    \n",
    "    for schedule in schedules:\n",
    "        for (_, stop_times) in schedule:\n",
    "            for stop_time in stop_times:\n",
    "                if stop_time.stop.stop_id not in stops:\n",
    "                    stops[stop_time.stop.stop_id]= {\n",
    "                        \"stop_id\": stop_time.stop.stop_id,\n",
    "                        \"latitude\": float(stop_time.stop.stop_lat),\n",
    "                        \"longitude\": float(stop_time.stop.stop_lon)\n",
    "                    }\n",
    "\n",
    "    return list(stops.values())\n",
    "\n",
    "stops = schedules_stops(schedules)\n",
    "ss_df, vp_df = flatten_checkpoints(checkpoints, stops)\n",
    "stops_df = pd.DataFrame(\n",
    "    json.loads(\n",
    "        StaticGtfsStop.__config__.json_dumps(\n",
    "            stops, default=StaticGtfsStop.__json_encoder__\n",
    "        )\n",
    "    ),\n",
    "    columns=[\"stop_id\", \"latitude\", \"longitude\"],\n",
    ")"
   ]
  },
  {
   "cell_type": "code",
   "execution_count": null,
   "metadata": {},
   "outputs": [],
   "source": [
    "print(stops_df.head())\n",
    "print(ss_df.head())\n",
    "print(vp_df.head())\n",
    "\n",
    "print(vp_df.latitude.min())"
   ]
  },
  {
   "cell_type": "code",
   "execution_count": null,
   "metadata": {},
   "outputs": [],
   "source": [
    "vp_df.drop([\"current_status\", \"stop_id\"], axis=1, inplace=True)"
   ]
  },
  {
   "cell_type": "code",
   "execution_count": null,
   "metadata": {},
   "outputs": [],
   "source": [
    "vp_df = vp_df.dropna()\n",
    "ss_df = ss_df.dropna()\n",
    "vp_df = vp_df[vp_df[\"longitude\"] > -75]"
   ]
  },
  {
   "cell_type": "code",
   "execution_count": null,
   "metadata": {},
   "outputs": [],
   "source": [
    "import matplotlib.pyplot as plt\n",
    "\n",
    "def plot_checkpoints(vp_df, ss_df, stops_df):\n",
    "    fig = plt.figure()\n",
    "    ax = fig.add_subplot(111)\n",
    "    fig.set_dpi(300)\n",
    "\n",
    "    ax.scatter(x=stops_df[\"latitude\"], y=stops_df[\"longitude\"], c=\"gray\", s=0.01)\n",
    "    ax.scatter(x=vp_df[\"latitude\"], y=vp_df[\"longitude\"], c=vp_df[\"timestamp\"], s=1, cmap=\"GnBu\")\n",
    "    ax.scatter(x=ss_df[\"latitude\"], y=ss_df[\"longitude\"], c=\"red\", s=0.5)\n",
    "\n",
    "    ax.set_aspect(\"equal\", adjustable=\"box\")\n",
    "    plt.show()\n",
    "\n",
    "\n",
    "plot_checkpoints(vp_df, ss_df, stops_df)"
   ]
  }
 ],
 "metadata": {
  "kernelspec": {
   "display_name": "Python 3.9.13 ('.venv': venv)",
   "language": "python",
   "name": "python3"
  },
  "language_info": {
   "codemirror_mode": {
    "name": "ipython",
    "version": 3
   },
   "file_extension": ".py",
   "mimetype": "text/x-python",
   "name": "python",
   "nbconvert_exporter": "python",
   "pygments_lexer": "ipython3",
   "version": "3.9.13"
  },
  "vscode": {
   "interpreter": {
    "hash": "525beb34e723fb2cb1596bdbd80ba19800ec7628ec1f40ee9eefd56548a559bf"
   }
  }
 },
 "nbformat": 4,
 "nbformat_minor": 4
}
