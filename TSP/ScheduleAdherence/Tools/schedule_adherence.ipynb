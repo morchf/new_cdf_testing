{
 "cells": [
  {
   "cell_type": "markdown",
   "metadata": {},
   "source": [
    "# TSP / Schedule Adherence"
   ]
  },
  {
   "cell_type": "markdown",
   "metadata": {},
   "source": [
    "## Setup"
   ]
  },
  {
   "cell_type": "code",
   "execution_count": 1,
   "metadata": {},
   "outputs": [],
   "source": [
    "import os\n",
    "import sys\n",
    "import logging\n",
    "import warnings\n",
    "\n",
    "root_path = os.path.abspath(f\"{os.path.abspath('')}/../../..\")\n",
    "\n",
    "# Show INFO messages and supress auto-reload import warnings\n",
    "logging.getLogger().setLevel(logging.INFO)\n",
    "warnings.filterwarnings(\"ignore\")"
   ]
  },
  {
   "cell_type": "code",
   "execution_count": 2,
   "metadata": {},
   "outputs": [
    {
     "name": "stdout",
     "output_type": "stream",
     "text": [
      "Note: you may need to restart the kernel to use updated packages.\n",
      "Note: you may need to restart the kernel to use updated packages.\n",
      "Note: you may need to restart the kernel to use updated packages.\n",
      "Note: you may need to restart the kernel to use updated packages.\n"
     ]
    }
   ],
   "source": [
    "# Libraries\n",
    "sys.path.insert(0, f\"{root_path}/CDFAndIoT/API\")\n",
    "sys.path.insert(0, f\"{root_path}/TSP/ScheduleAdherence/Lambdas/StaticGtfs\")\n",
    "sys.path.insert(0, f\"{root_path}/TSP/ScheduleAdherence/Service\")\n",
    "sys.path.insert(0, f\"{root_path}/TSP/ScheduleAdherence/DataModel\")\n",
    "\n",
    "%pip install boto3 &> /dev/null\n",
    "%pip install 'botocore[crt]' &> /dev/null\n",
    "%pip install pydantic &> /dev/null\n",
    "%pip install redis &> /dev/null\n",
    "%load_ext autoreload\n",
    "%autoreload 2"
   ]
  },
  {
   "cell_type": "code",
   "execution_count": 3,
   "metadata": {},
   "outputs": [],
   "source": [
    "# Args\n",
    "AGENCY_ID = \"0537199e-e853-11ec-a8b8-f65b686c7d91\"\n",
    "TRIP_ID = \"8802996-AUG22-Albany-Weekday-01\""
   ]
  },
  {
   "cell_type": "code",
   "execution_count": 4,
   "metadata": {},
   "outputs": [],
   "source": [
    "import boto3\n",
    "import json\n",
    "import sqlalchemy\n",
    "from sqlalchemy.pool import NullPool\n",
    "\n",
    "from gtt.service.schedule_adherence import AuroraClient\n",
    "from gtt.service.schedule_adherence.static_gtfs import StaticGtfsService\n",
    "\n",
    "# Resources and services\n",
    "\n",
    "# Athena SQL client (Depracated)\n",
    "# athena = boto3.client(\"athena\")\n",
    "# sql_kwargs={\"schema\": \"gtt_gd_gtfs_dev\"},\n",
    "# athena_client = AthenaClient(\n",
    "#     athena, output_location=\"s3://aws-athena-query-results-083011521439-us-east-1/\"\n",
    "# )\n",
    "\n",
    "# Aurora SQL client\n",
    "secretsmanager = boto3.client(\"secretsmanager\")\n",
    "\n",
    "response = secretsmanager.get_secret_value(SecretId=\"develop/aurora/asmgtfs\")\n",
    "secret_dict = json.loads(response[\"SecretString\"])\n",
    "\n",
    "host = secret_dict[\"host\"]\n",
    "username = secret_dict[\"username\"]\n",
    "password = secret_dict[\"password\"]\n",
    "port = secret_dict[\"port\"]\n",
    "\n",
    "gtfs_conn = f\"postgresql://{username}:{password}@{host}:{port}/gtfs\"\n",
    "aurora_engine = sqlalchemy.create_engine(gtfs_conn, poolclass=NullPool)\n",
    "\n",
    "sql_client = AuroraClient(aurora_engine)\n",
    "static_gtfs_service = StaticGtfsService(sql_client)"
   ]
  },
  {
   "cell_type": "markdown",
   "metadata": {},
   "source": [
    "## Static GTFS Exploration"
   ]
  },
  {
   "cell_type": "code",
   "execution_count": 5,
   "metadata": {},
   "outputs": [
    {
     "name": "stdout",
     "output_type": "stream",
     "text": [
      "2022-11-03 18:27:06.079420\n"
     ]
    }
   ],
   "source": [
    "# Date\n",
    "static_gtfs_date = static_gtfs_service.get_date(agency_id=AGENCY_ID)\n",
    "print(static_gtfs_date)"
   ]
  },
  {
   "cell_type": "code",
   "execution_count": 6,
   "metadata": {},
   "outputs": [
    {
     "name": "stdout",
     "output_type": "stream",
     "text": [
      "<class 'gtt.data_model.schedule_adherence.static_gtfs.StaticGtfsStop'>\n",
      "stop_id='390' stop_name='Western Ave & Willow St' stop_lat=42.7043 stop_lon=-73.91145\n"
     ]
    }
   ],
   "source": [
    "# Stop\n",
    "static_gtfs_stop = static_gtfs_service.get_stop(\n",
    "    agency_id=AGENCY_ID, stop_id=\"390\"\n",
    ")\n",
    "\n",
    "print(type(static_gtfs_stop))\n",
    "print(static_gtfs_stop)"
   ]
  },
  {
   "cell_type": "code",
   "execution_count": 7,
   "metadata": {},
   "outputs": [
    {
     "name": "stdout",
     "output_type": "stream",
     "text": [
      "<class 'list'>\n",
      "[StaticGtfsStopTime(trip_id='8802996-AUG22-Albany-Weekday-01', stop_id='31', stop_sequence=1, arrival_time=datetime.time(6, 45), departure_time=datetime.time(6, 45), stop_headsign=None, pickup_type='0', drop_off_type='0', continuous_pickup=None, continuous_drop_off=None, shape_dist_traveled=None, timepoint=1, stop=None), StaticGtfsStopTime(trip_id='8802996-AUG22-Albany-Weekday-01', stop_id='10506', stop_sequence=2, arrival_time=datetime.time(6, 46), departure_time=datetime.time(6, 46), stop_headsign=None, pickup_type='0', drop_off_type='0', continuous_pickup=None, continuous_drop_off=None, shape_dist_traveled=None, timepoint=1, stop=None), StaticGtfsStopTime(trip_id='8802996-AUG22-Albany-Weekday-01', stop_id='10524', stop_sequence=3, arrival_time=datetime.time(6, 47), departure_time=datetime.time(6, 47), stop_headsign=None, pickup_type='0', drop_off_type='0', continuous_pickup=None, continuous_drop_off=None, shape_dist_traveled=None, timepoint=1, stop=None), StaticGtfsStopTime(trip_id='8802996-AUG22-Albany-Weekday-01', stop_id='10525', stop_sequence=4, arrival_time=datetime.time(6, 48), departure_time=datetime.time(6, 48), stop_headsign=None, pickup_type='0', drop_off_type='0', continuous_pickup=None, continuous_drop_off=None, shape_dist_traveled=None, timepoint=1, stop=None), StaticGtfsStopTime(trip_id='8802996-AUG22-Albany-Weekday-01', stop_id='10522', stop_sequence=5, arrival_time=datetime.time(6, 50), departure_time=datetime.time(6, 50), stop_headsign=None, pickup_type='0', drop_off_type='0', continuous_pickup=None, continuous_drop_off=None, shape_dist_traveled=None, timepoint=1, stop=None)]\n"
     ]
    }
   ],
   "source": [
    "# Stop times\n",
    "static_gtfs_stop_times = static_gtfs_service.get_stop_times(\n",
    "    agency_id=AGENCY_ID, trip_id=TRIP_ID, complete=False\n",
    ")\n",
    "\n",
    "print(type(static_gtfs_stop_times))\n",
    "print(static_gtfs_stop_times[0:5])"
   ]
  },
  {
   "cell_type": "code",
   "execution_count": 8,
   "metadata": {},
   "outputs": [
    {
     "name": "stdout",
     "output_type": "stream",
     "text": [
      "[StaticGtfsStopTime(trip_id='8802996-AUG22-Albany-Weekday-01', stop_id='31', stop_sequence=1, arrival_time=datetime.time(6, 45), departure_time=datetime.time(6, 45), stop_headsign=None, pickup_type='0', drop_off_type='0', continuous_pickup=None, continuous_drop_off=None, shape_dist_traveled=None, timepoint=1, stop=StaticGtfsStop(stop_id='31', stop_name='Wolf Rd & Colonie Center', stop_lat=42.711386, stop_lon=-73.817806)), StaticGtfsStopTime(trip_id='8802996-AUG22-Albany-Weekday-01', stop_id='10506', stop_sequence=2, arrival_time=datetime.time(6, 46), departure_time=datetime.time(6, 46), stop_headsign=None, pickup_type='0', drop_off_type='0', continuous_pickup=None, continuous_drop_off=None, shape_dist_traveled=None, timepoint=1, stop=StaticGtfsStop(stop_id='10506', stop_name='Wolf Rd & Newbury Plaza', stop_lat=42.71389, stop_lon=-73.81383))]\n",
      "stop_id='31' stop_name='Wolf Rd & Colonie Center' stop_lat=42.711386 stop_lon=-73.817806\n"
     ]
    }
   ],
   "source": [
    "# Stop times complete\n",
    "static_gtfs_stop_times = static_gtfs_service.get_stop_times(\n",
    "    agency_id=AGENCY_ID, trip_id=TRIP_ID\n",
    ")\n",
    "\n",
    "print(static_gtfs_stop_times[0:2])\n",
    "print(static_gtfs_stop_times[0].stop)"
   ]
  },
  {
   "cell_type": "code",
   "execution_count": 9,
   "metadata": {},
   "outputs": [
    {
     "name": "stdout",
     "output_type": "stream",
     "text": [
      "<class 'gtt.data_model.schedule_adherence.static_gtfs.StaticGtfsTrip'>\n",
      "route_id='1-196' service_id='AUG22-Albany-Weekday-01' trip_id='8802996-AUG22-Albany-Weekday-01' trip_headsign='Colonie Center to Downtown Albany' trip_short_name=None direction_id='0' block_id=None shape_id='10575' wheelchair_accessible='1' bikes_allowed='1' stops=None\n"
     ]
    }
   ],
   "source": [
    "# Trip\n",
    "static_gtfs_trip = static_gtfs_service.get_trip(\n",
    "    agency_id=AGENCY_ID, trip_id=TRIP_ID\n",
    ")\n",
    "\n",
    "print(type(static_gtfs_trip))\n",
    "print(static_gtfs_trip)"
   ]
  },
  {
   "cell_type": "markdown",
   "metadata": {},
   "source": [
    "## Schedule Adherence Scenarios\n",
    "\n",
    "### Mock"
   ]
  },
  {
   "cell_type": "code",
   "execution_count": 10,
   "metadata": {},
   "outputs": [
    {
     "name": "stdout",
     "output_type": "stream",
     "text": [
      "trip_id='trip-123_1223' vehicle_id='vehicle-123' delay=50.0 last_updated=datetime.datetime(2022, 11, 3, 18, 27, 6, 650805) next_update=datetime.datetime(2022, 1, 1, 14, 14, 50) next_stop=StaticGtfsStop(stop_id='stopid-2', stop_name='Stop Num 2', stop_lat=42.34400002, stop_lon=101.12500003) exact=True stop_events=[StopEvent(stop_id='stopid-1', timestamp=datetime.datetime(2022, 1, 1, 14, 2, 55))]\n",
      "trip_id='trip-123_1223' vehicle_id='vehicle-123' delay=-10.0 last_updated=datetime.datetime(2022, 11, 3, 18, 27, 6, 651526) next_update=datetime.datetime(2022, 1, 1, 14, 23, 50) next_stop=StaticGtfsStop(stop_id='stopid-3', stop_name='Stop Num 3', stop_lat=42.34700002, stop_lon=101.12800003) exact=True stop_events=[StopEvent(stop_id='stopid-1', timestamp=datetime.datetime(2022, 1, 1, 14, 2, 55)), StopEvent(stop_id='stopid-2', timestamp=datetime.datetime(2022, 1, 1, 14, 13, 50))]\n",
      "trip_id='trip-123_1223' vehicle_id='vehicle-123' delay=0.0 last_updated=datetime.datetime(2022, 11, 3, 18, 27, 6, 651971) next_update=None next_stop=None exact=True stop_events=[StopEvent(stop_id='stopid-1', timestamp=datetime.datetime(2022, 1, 1, 14, 2, 55)), StopEvent(stop_id='stopid-2', timestamp=datetime.datetime(2022, 1, 1, 14, 13, 50)), StopEvent(stop_id='stopid-3', timestamp=datetime.datetime(2022, 1, 1, 14, 24))]\n"
     ]
    }
   ],
   "source": [
    "from gtt.data_model.schedule_adherence import (\n",
    "    VehiclePosition,\n",
    "    ScheduleStatus,\n",
    "    StaticGtfsStopTime,\n",
    "    StaticGtfsStop,\n",
    "    Schedule,\n",
    ")\n",
    "\n",
    "TRIP_ID = \"trip-123_1223\"\n",
    "\n",
    "vehicle_position = VehiclePosition(\n",
    "    latitude=42.345,\n",
    "    longitude=101.123,\n",
    "    vehicle_id=\"vehicle-123\",\n",
    "    trip_id=TRIP_ID,\n",
    "    timestamp=\"2022-01-01 14:02:55.000\"\n",
    ")\n",
    "\n",
    "static_gtfs_schedule = Schedule(\n",
    "    stop_times=[\n",
    "        StaticGtfsStopTime(\n",
    "            trip_id=TRIP_ID,\n",
    "            stop_id=\"stopid-1\",\n",
    "            stop_sequence=1,\n",
    "            arrival_time=\"14:02:05\",\n",
    "            stop=StaticGtfsStop(\n",
    "                stop_id=\"stopid-1\",\n",
    "                stop_name=\"Stop Num 1\",\n",
    "                stop_lat=42.34500002,\n",
    "                stop_lon=101.12300003,\n",
    "            ),\n",
    "        ),\n",
    "        StaticGtfsStopTime(\n",
    "            trip_id=TRIP_ID,\n",
    "            stop_id=\"stopid-2\",\n",
    "            stop_sequence=2,\n",
    "            arrival_time=\"14:14:00\",\n",
    "            stop=StaticGtfsStop(\n",
    "                stop_id=\"stopid-2\",\n",
    "                stop_name=\"Stop Num 2\",\n",
    "                stop_lat=42.34400002,\n",
    "                stop_lon=101.12500003,\n",
    "            ),\n",
    "        ),\n",
    "        StaticGtfsStopTime(\n",
    "            trip_id=TRIP_ID,\n",
    "            stop_id=\"stopid-3\",\n",
    "            stop_sequence=3,\n",
    "            arrival_time=\"14:24:00\",\n",
    "            stop=StaticGtfsStop(\n",
    "                stop_id=\"stopid-3\",\n",
    "                stop_name=\"Stop Num 3\",\n",
    "                stop_lat=42.34700002,\n",
    "                stop_lon=101.12800003,\n",
    "            ),\n",
    "        ),\n",
    "    ]\n",
    ")\n",
    "\n",
    "# Vehicle running late\n",
    "schedule_status = ScheduleStatus.from_schedule(static_gtfs_schedule, vehicle_position)\n",
    "print(schedule_status)\n",
    "\n",
    "vehicle_position = VehiclePosition(\n",
    "    latitude=42.34400002,\n",
    "    longitude=101.12500003,\n",
    "    vehicle_id=\"vehicle-123\",\n",
    "    trip_id=TRIP_ID,\n",
    "    timestamp=\"2022-01-01 14:13:50.000\"\n",
    ")\n",
    "\n",
    "# Vehicle running early\n",
    "schedule_status = ScheduleStatus.from_schedule_status(static_gtfs_schedule, vehicle_position, schedule_status)\n",
    "print(schedule_status)\n",
    "\n",
    "vehicle_position = VehiclePosition(\n",
    "    latitude=42.34700002,\n",
    "    longitude=101.12800003,\n",
    "    vehicle_id=\"vehicle-123\",\n",
    "    trip_id=TRIP_ID,\n",
    "    timestamp=\"2022-01-01 14:24:00.000\"\n",
    ")\n",
    "\n",
    "# Vehicle running on-time\n",
    "schedule_status = ScheduleStatus.from_schedule_status(static_gtfs_schedule, vehicle_position, schedule_status)\n",
    "print(schedule_status)"
   ]
  },
  {
   "cell_type": "code",
   "execution_count": 11,
   "metadata": {},
   "outputs": [
    {
     "name": "stdout",
     "output_type": "stream",
     "text": [
      "trip_id='abc' vehicle_id='123' delay=-240.0 last_updated=datetime.datetime(2022, 11, 3, 18, 27, 6, 674128) next_update=datetime.datetime(2022, 9, 7, 6, 44) next_stop=StaticGtfsStop(stop_id='10525', stop_name='Sand Creek Rd & Central News', stop_lat=42.71445, stop_lon=-73.81004) exact=True stop_events=[StopEvent(stop_id='10524', timestamp=datetime.datetime(2022, 9, 7, 6, 43))]\n",
      "{\"trip_id\": \"abc\", \"vehicle_id\": \"123\", \"delay\": -240.0, \"last_updated\": \"2022-11-03T18:27:06.674128\", \"next_update\": \"2022-09-07T06:44:00\", \"next_stop\": {\"stop_id\": \"10525\", \"stop_name\": \"Sand Creek Rd & Central News\", \"stop_lat\": 42.71445, \"stop_lon\": -73.81004}, \"exact\": true, \"stop_events\": [{\"stop_id\": \"10524\", \"timestamp\": \"2022-09-07T06:43:00\"}]}\n"
     ]
    }
   ],
   "source": [
    "from datetime import datetime\n",
    "from gtt.data_model.schedule_adherence import ScheduleStatus, Schedule, VehiclePosition\n",
    "\n",
    "# No context\n",
    "vehicle_position = VehiclePosition(\n",
    "    vehicle_id=\"123\",\n",
    "    trip_id=\"abc\",\n",
    "    latitude=43.1,\n",
    "    longitude=123.1,\n",
    "    stop_id=\"4015\",\n",
    "    timestamp='2022-09-07 06:43:00.000'\n",
    ")\n",
    "static_gtfs_schedule = Schedule(\n",
    "    stop_times=static_gtfs_stop_times\n",
    ")\n",
    "\n",
    "schedule_status = ScheduleStatus.from_schedule(static_gtfs_schedule, vehicle_position)\n",
    "\n",
    "print(schedule_status)\n",
    "print(schedule_status.json())"
   ]
  },
  {
   "cell_type": "code",
   "execution_count": 12,
   "metadata": {},
   "outputs": [
    {
     "name": "stdout",
     "output_type": "stream",
     "text": [
      "trip_id='abc' vehicle_id='123' delay=-60.0 last_updated=datetime.datetime(2022, 11, 3, 18, 27, 6, 691187) next_update=datetime.datetime(2022, 9, 7, 6, 49) next_stop=StaticGtfsStop(stop_id='10522', stop_name='80 Wolf Rd', stop_lat=42.714879, stop_lon=-73.812553) exact=True stop_events=[StopEvent(stop_id='10524', timestamp=datetime.datetime(2022, 9, 7, 6, 43)), StopEvent(stop_id='10525', timestamp=datetime.datetime(2022, 9, 7, 6, 47))]\n"
     ]
    }
   ],
   "source": [
    "# With context\n",
    "vehicle_position = VehiclePosition(\n",
    "    vehicle_id=\"123\",\n",
    "    trip_id=\"abc\",\n",
    "    latitude=43.1,\n",
    "    longitude=123.1,\n",
    "    stop_id=\"6294\",\n",
    "    timestamp=\"2022-09-07 06:47:00.000\",\n",
    ")\n",
    "schedule_status = ScheduleStatus.from_schedule_status(\n",
    "    static_gtfs_schedule, vehicle_position, schedule_status\n",
    ")\n",
    "\n",
    "print(schedule_status)"
   ]
  },
  {
   "cell_type": "markdown",
   "metadata": {},
   "source": [
    "### Live"
   ]
  },
  {
   "cell_type": "code",
   "execution_count": 13,
   "metadata": {},
   "outputs": [],
   "source": [
    "TRIP_ID = \"8802996-AUG22-Albany-Weekday-01\""
   ]
  },
  {
   "cell_type": "code",
   "execution_count": 14,
   "metadata": {},
   "outputs": [],
   "source": [
    "# Schedule Adherence service\n",
    "from gtt.service.schedule_adherence import ScheduleAdherenceService\n",
    "from redis import Redis\n",
    "\n",
    "# REDIS_URL = \"cluster-tsp-tsptest.ibjafd.0001.use1.cache.amazonaws.com\"\n",
    "REDIS_URL = \"10.0.0.38\"\n",
    "REDIS_PORT = \"6379\"\n",
    "\n",
    "# REDIS_URL=\"localhost\"\n",
    "# REDIS_PORT=\"7001\"\n",
    "\n",
    "REDIS_USERNAME = None\n",
    "REDIS_PASSWORD = None\n",
    "\n",
    "redis = Redis(\n",
    "    host=REDIS_URL,\n",
    "    port=REDIS_PORT,\n",
    "    ssl=False,\n",
    "    db=0,\n",
    "    decode_responses=True,\n",
    ")\n",
    "\n",
    "schedule_adherence_service = ScheduleAdherenceService(\n",
    "    redis,\n",
    "    static_gtfs_service\n",
    ")"
   ]
  },
  {
   "cell_type": "code",
   "execution_count": 15,
   "metadata": {},
   "outputs": [
    {
     "data": {
      "text/plain": [
       "True"
      ]
     },
     "execution_count": 15,
     "metadata": {},
     "output_type": "execute_result"
    }
   ],
   "source": [
    "# Check connection\n",
    "redis.ping()"
   ]
  },
  {
   "cell_type": "code",
   "execution_count": 16,
   "metadata": {},
   "outputs": [
    {
     "name": "stdout",
     "output_type": "stream",
     "text": [
      "*:vehicle_position:veh-123\n",
      "rt_radio_message:device_fields:tsptest-gtfs-realtime-2\n",
      "rt_radio_message:device_fields:tsptest-gtfs-realtime-3\n",
      "rt_radio_message:device_fields:tsptest-gtfs-realtime-4\n",
      "rt_radio_message:tsptest-gtfs-realtime-1:payload\n",
      "rt_radio_message:tsptest-gtfs-realtime-1:topic\n",
      "rt_radio_message:tsptest-gtfs-realtime-2:payload\n",
      "rt_radio_message:tsptest-gtfs-realtime-2:topic\n",
      "rt_radio_message:tsptest-gtfs-realtime-3:payload\n",
      "rt_radio_message:tsptest-gtfs-realtime-3:topic\n",
      "rt_radio_message:tsptest-gtfs-realtime-4:payload\n",
      "rt_radio_message:tsptest-gtfs-realtime-4:topic\n",
      "tsp_in_cloud:static_gtfs:0537199e-e853-11ec-a8b8-f65b686c7d91:stop_times:8802996-AUG22-Albany-Weekday-01\n",
      "tsp_in_cloud:static_gtfs:test_agency:stop_times:10536292\n",
      "tsp_in_cloud:trip_delay:0537199e-e853-11ec-a8b8-f65b686c7d91:8802996-AUG22-Albany-Weekday-01:vehicle-123\n",
      "tsp_in_cloud:trip_delay:test_agency:10536292:vehicle-a\n",
      "tsp_in_cloud:tsp_enabled:0537199e-e853-11ec-a8b8-f65b686c7d91\n",
      "tsp_in_cloud:tsp_in_cloud:set_tsp_enabled:0537199e-e853-11ec-a8b8-f65b686c7d91:2\n",
      "tsptest:last_updated\n",
      "tsptest:vehicle_ids\n",
      "tsptest:vehicle_position:1\n",
      "tsptest:vehicle_position:1102\n",
      "tsptest:vehicle_position:1104\n",
      "tsptest:vehicle_position:1107\n",
      "tsptest:vehicle_position:128\n",
      "tsptest:vehicle_position:129\n",
      "tsptest:vehicle_position:136\n",
      "tsptest:vehicle_position:2\n",
      "tsptest:vehicle_position:2201\n",
      "tsptest:vehicle_position:2202\n",
      "tsptest:vehicle_position:2203\n",
      "tsptest:vehicle_position:2204\n",
      "tsptest:vehicle_position:2207\n",
      "tsptest:vehicle_position:2208\n",
      "tsptest:vehicle_position:2209\n",
      "tsptest:vehicle_position:2210\n",
      "tsptest:vehicle_position:2213\n",
      "tsptest:vehicle_position:2214\n",
      "tsptest:vehicle_position:2216\n",
      "tsptest:vehicle_position:2218\n",
      "tsptest:vehicle_position:264\n",
      "tsptest:vehicle_position:270\n",
      "tsptest:vehicle_position:271\n",
      "tsptest:vehicle_position:277\n",
      "tsptest:vehicle_position:281\n",
      "tsptest:vehicle_position:282\n",
      "tsptest:vehicle_position:285\n",
      "tsptest:vehicle_position:287\n",
      "tsptest:vehicle_position:289\n",
      "tsptest:vehicle_position:3\n",
      "tsptest:vehicle_position:325\n",
      "tsptest:vehicle_position:326\n",
      "tsptest:vehicle_position:4\n",
      "tsptest:vehicle_position:4001\n",
      "tsptest:vehicle_position:4015\n",
      "tsptest:vehicle_position:4017\n",
      "tsptest:vehicle_position:4018\n",
      "tsptest:vehicle_position:4020\n",
      "tsptest:vehicle_position:4023\n",
      "tsptest:vehicle_position:4024\n",
      "tsptest:vehicle_position:4036\n",
      "tsptest:vehicle_position:4042\n",
      "tsptest:vehicle_position:4043\n",
      "tsptest:vehicle_position:4044\n",
      "tsptest:vehicle_position:4048\n",
      "tsptest:vehicle_position:4050\n",
      "tsptest:vehicle_position:4053\n",
      "tsptest:vehicle_position:4055\n",
      "tsptest:vehicle_position:4056\n",
      "tsptest:vehicle_position:4062\n",
      "tsptest:vehicle_position:4063\n",
      "tsptest:vehicle_position:4069\n",
      "tsptest:vehicle_position:4072\n",
      "tsptest:vehicle_position:4073\n",
      "tsptest:vehicle_position:4077\n",
      "tsptest:vehicle_position:4079\n",
      "tsptest:vehicle_position:4080\n",
      "tsptest:vehicle_position:4086\n",
      "tsptest:vehicle_position:4087\n",
      "tsptest:vehicle_position:4088\n",
      "tsptest:vehicle_position:4089\n",
      "tsptest:vehicle_position:4092\n",
      "tsptest:vehicle_position:4095\n",
      "tsptest:vehicle_position:4098\n",
      "tsptest:vehicle_position:4106\n",
      "tsptest:vehicle_position:4110\n",
      "tsptest:vehicle_position:4112\n",
      "tsptest:vehicle_position:4113\n",
      "tsptest:vehicle_position:4114\n",
      "tsptest:vehicle_position:4117\n",
      "tsptest:vehicle_position:4121\n",
      "tsptest:vehicle_position:4122\n",
      "tsptest:vehicle_position:4123\n",
      "tsptest:vehicle_position:4126\n",
      "tsptest:vehicle_position:4127\n",
      "tsptest:vehicle_position:4131\n",
      "tsptest:vehicle_position:4132\n",
      "tsptest:vehicle_position:4135\n",
      "tsptest:vehicle_position:4137\n",
      "tsptest:vehicle_position:4141\n",
      "tsptest:vehicle_position:4142\n",
      "tsptest:vehicle_position:4143\n",
      "tsptest:vehicle_position:4145\n",
      "tsptest:vehicle_position:4148\n",
      "tsptest:vehicle_position:4151\n",
      "tsptest:vehicle_position:4153\n",
      "tsptest:vehicle_position:4156\n",
      "tsptest:vehicle_position:4157\n",
      "tsptest:vehicle_position:4158\n",
      "tsptest:vehicle_position:4160\n",
      "tsptest:vehicle_position:4161\n",
      "tsptest:vehicle_position:4162\n",
      "tsptest:vehicle_position:4163\n",
      "tsptest:vehicle_position:4165\n",
      "tsptest:vehicle_position:4169\n",
      "tsptest:vehicle_position:4171\n",
      "tsptest:vehicle_position:4172\n",
      "tsptest:vehicle_position:4176\n",
      "tsptest:vehicle_position:4177\n",
      "tsptest:vehicle_position:4181\n",
      "tsptest:vehicle_position:4182\n",
      "tsptest:vehicle_position:4183\n",
      "tsptest:vehicle_position:4186\n",
      "tsptest:vehicle_position:4189\n",
      "tsptest:vehicle_position:4194\n",
      "tsptest:vehicle_position:4200\n",
      "tsptest:vehicle_position:4202\n",
      "tsptest:vehicle_position:4203\n",
      "tsptest:vehicle_position:4204\n",
      "tsptest:vehicle_position:5500\n",
      "tsptest:vehicle_position:5503\n",
      "tsptest:vehicle_position:5505\n",
      "tsptest:vehicle_position:5509\n",
      "tsptest:vehicle_position:5511\n",
      "tsptest:vehicle_position:5512\n",
      "tsptest:vehicle_position:5513\n",
      "tsptest:vehicle_position:5514\n",
      "tsptest:vehicle_position:5515\n",
      "tsptest:vehicle_position:5518\n",
      "tsptest:vehicle_position:5519\n",
      "tsptest:vehicle_position:6000\n",
      "tsptest:vehicle_position:6002\n",
      "tsptest:vehicle_position:6007\n",
      "tsptest:vehicle_position:6008\n"
     ]
    }
   ],
   "source": [
    "for key in sorted(redis.scan_iter(\"*\")):\n",
    "    print(key)"
   ]
  },
  {
   "cell_type": "code",
   "execution_count": 17,
   "metadata": {},
   "outputs": [
    {
     "name": "stdout",
     "output_type": "stream",
     "text": [
      "trip_id='8802996-AUG22-Albany-Weekday-01' vehicle_id='vehicle-123' delay=26570.0 last_updated=datetime.datetime(2022, 11, 3, 18, 25, 29, 49575) next_update=datetime.datetime(2022, 1, 1, 14, 15, 50) next_stop=StaticGtfsStop(stop_id='32', stop_name='32 Wolf Rd (Bed Bath and Beyond)', stop_lat=42.71094, stop_lon=-73.81892) exact=True stop_events=[StopEvent(stop_id='10524', timestamp=datetime.datetime(2022, 1, 1, 14, 13, 50)), StopEvent(stop_id='10525', timestamp=datetime.datetime(2022, 1, 1, 14, 15, 50)), StopEvent(stop_id='10522', timestamp=datetime.datetime(2022, 1, 1, 14, 15, 50)), StopEvent(stop_id='10523', timestamp=datetime.datetime(2022, 1, 1, 14, 13, 50))]\n",
      "trip_id='8802996-AUG22-Albany-Weekday-01' vehicle_id='vehicle-123' delay=26450.0 last_updated=datetime.datetime(2022, 11, 3, 18, 27, 6, 816092) next_update=datetime.datetime(2022, 1, 1, 14, 15, 50) next_stop=StaticGtfsStop(stop_id='10514', stop_name='Colonie Station - Central Ave & Northway Mall', stop_lat=42.706703, stop_lon=-73.820587) exact=True stop_events=[StopEvent(stop_id='10524', timestamp=datetime.datetime(2022, 1, 1, 14, 13, 50)), StopEvent(stop_id='10525', timestamp=datetime.datetime(2022, 1, 1, 14, 15, 50)), StopEvent(stop_id='10522', timestamp=datetime.datetime(2022, 1, 1, 14, 15, 50)), StopEvent(stop_id='10523', timestamp=datetime.datetime(2022, 1, 1, 14, 13, 50)), StopEvent(stop_id='32', timestamp=datetime.datetime(2022, 1, 1, 14, 13, 50))]\n",
      "None\n",
      "None\n",
      "trip_id='8802996-AUG22-Albany-Weekday-01' vehicle_id='vehicle-123' delay=26450.0 last_updated=datetime.datetime(2022, 11, 3, 18, 27, 6, 816092) next_update=datetime.datetime(2022, 1, 1, 14, 15, 50) next_stop=StaticGtfsStop(stop_id='10514', stop_name='Colonie Station - Central Ave & Northway Mall', stop_lat=42.706703, stop_lon=-73.820587) exact=True stop_events=[StopEvent(stop_id='10524', timestamp=datetime.datetime(2022, 1, 1, 14, 13, 50)), StopEvent(stop_id='10525', timestamp=datetime.datetime(2022, 1, 1, 14, 15, 50)), StopEvent(stop_id='10522', timestamp=datetime.datetime(2022, 1, 1, 14, 15, 50)), StopEvent(stop_id='10523', timestamp=datetime.datetime(2022, 1, 1, 14, 13, 50)), StopEvent(stop_id='32', timestamp=datetime.datetime(2022, 1, 1, 14, 13, 50))]\n"
     ]
    }
   ],
   "source": [
    "# Caching\n",
    "# schedule_adherence_service.clear_schedule_status(AGENCY_ID)\n",
    "# schedule_adherence_service.invalidate(AGENCY_ID)\n",
    "cached_schedule_status = schedule_adherence_service.get_schedule_status(\n",
    "    AGENCY_ID, TRIP_ID, \"vehicle-123\"\n",
    ")\n",
    "print(cached_schedule_status)\n",
    "\n",
    "vehicle_position = VehiclePosition(\n",
    "    latitude=42.34400002,\n",
    "    longitude=101.12500003,\n",
    "    vehicle_id=\"vehicle-123\",\n",
    "    trip_id=TRIP_ID,\n",
    "    timestamp=\"2022-01-01 14:13:50.000\",\n",
    ")\n",
    "\n",
    "schedule_adherence_service.update_schedule_status(AGENCY_ID, vehicle_position)\n",
    "\n",
    "cached_schedule_status = schedule_adherence_service.get_schedule_status(\n",
    "    AGENCY_ID, TRIP_ID, \"vehicle-123\"\n",
    ")\n",
    "print(cached_schedule_status)\n",
    "\n",
    "# Successive calls\n",
    "vehicle_position = VehiclePosition(\n",
    "    latitude=42.34400002,\n",
    "    longitude=101.12500003,\n",
    "    vehicle_id=\"vehicle-123\",\n",
    "    trip_id=TRIP_ID,\n",
    "    timestamp=\"2022-01-01 14:15:50.000\",\n",
    ")\n",
    "\n",
    "schedule_status = schedule_adherence_service.update_schedule_status(\n",
    "    AGENCY_ID, vehicle_position\n",
    ")\n",
    "# Additional stop event\n",
    "print(schedule_status)\n",
    "\n",
    "schedule_status = schedule_adherence_service.update_schedule_status(\n",
    "    AGENCY_ID, vehicle_position\n",
    ")\n",
    "\n",
    "# Should be 'None' after second call (no update)\n",
    "print(schedule_status)\n",
    "\n",
    "schedule_status = schedule_adherence_service.get_schedule_status(\n",
    "    AGENCY_ID, vehicle_position.trip_id, vehicle_position.vehicle_id\n",
    ")\n",
    "\n",
    "# Must get it manually\n",
    "print(schedule_status)"
   ]
  },
  {
   "cell_type": "markdown",
   "metadata": {},
   "source": [
    "### Scenarios\n",
    "\n"
   ]
  },
  {
   "cell_type": "code",
   "execution_count": 18,
   "metadata": {},
   "outputs": [],
   "source": [
    "from util.scenarios import Scenario, LocalStaticGtfsService\n",
    "from util.fixtures import TEST_BASIC, STOP_TIMES_BASIC, SCHEDULE_STATUS_BASIC\n",
    "\n",
    "schedule_status = ScheduleStatus(**SCHEDULE_STATUS_BASIC)\n",
    "schedule = Schedule(stop_times=STOP_TIMES_BASIC)\n",
    "scenario = Scenario(TEST_BASIC)\n",
    "\n",
    "local_static_gtfs_service = LocalStaticGtfsService(\n",
    "    scenario.date,\n",
    "    scenario.stops,\n",
    "    scenario.trip_stop_times\n",
    ")\n",
    "\n",
    "scenario_schedule_adherence_service = ScheduleAdherenceService(\n",
    "    redis, local_static_gtfs_service\n",
    ")"
   ]
  },
  {
   "cell_type": "code",
   "execution_count": 19,
   "metadata": {},
   "outputs": [
    {
     "name": "stdout",
     "output_type": "stream",
     "text": [
      "Note: you may need to restart the kernel to use updated packages.\n",
      "Note: you may need to restart the kernel to use updated packages.\n"
     ]
    }
   ],
   "source": [
    "%pip install pandas &> /dev/null\n",
    "%pip install matplotlib &> /dev/null"
   ]
  },
  {
   "cell_type": "code",
   "execution_count": 20,
   "metadata": {},
   "outputs": [
    {
     "name": "stderr",
     "output_type": "stream",
     "text": [
      "INFO:numexpr.utils:NumExpr defaulting to 2 threads.\n"
     ]
    },
    {
     "data": {
      "text/html": [
       "<div>\n",
       "<style scoped>\n",
       "    .dataframe tbody tr th:only-of-type {\n",
       "        vertical-align: middle;\n",
       "    }\n",
       "\n",
       "    .dataframe tbody tr th {\n",
       "        vertical-align: top;\n",
       "    }\n",
       "\n",
       "    .dataframe thead th {\n",
       "        text-align: right;\n",
       "    }\n",
       "</style>\n",
       "<table border=\"1\" class=\"dataframe\">\n",
       "  <thead>\n",
       "    <tr style=\"text-align: right;\">\n",
       "      <th></th>\n",
       "      <th>stop_id</th>\n",
       "      <th>stop_lat</th>\n",
       "      <th>stop_lon</th>\n",
       "    </tr>\n",
       "  </thead>\n",
       "  <tbody>\n",
       "    <tr>\n",
       "      <th>0</th>\n",
       "      <td>7765</td>\n",
       "      <td>37.771146</td>\n",
       "      <td>-122.389936</td>\n",
       "    </tr>\n",
       "    <tr>\n",
       "      <th>1</th>\n",
       "      <td>7766</td>\n",
       "      <td>37.770513</td>\n",
       "      <td>-122.391037</td>\n",
       "    </tr>\n",
       "    <tr>\n",
       "      <th>2</th>\n",
       "      <td>7324</td>\n",
       "      <td>37.768710</td>\n",
       "      <td>-122.389377</td>\n",
       "    </tr>\n",
       "    <tr>\n",
       "      <th>3</th>\n",
       "      <td>7767</td>\n",
       "      <td>37.766864</td>\n",
       "      <td>-122.390891</td>\n",
       "    </tr>\n",
       "    <tr>\n",
       "      <th>4</th>\n",
       "      <td>7865</td>\n",
       "      <td>37.766722</td>\n",
       "      <td>-122.392805</td>\n",
       "    </tr>\n",
       "  </tbody>\n",
       "</table>\n",
       "</div>"
      ],
      "text/plain": [
       "  stop_id   stop_lat    stop_lon\n",
       "0    7765  37.771146 -122.389936\n",
       "1    7766  37.770513 -122.391037\n",
       "2    7324  37.768710 -122.389377\n",
       "3    7767  37.766864 -122.390891\n",
       "4    7865  37.766722 -122.392805"
      ]
     },
     "execution_count": 20,
     "metadata": {},
     "output_type": "execute_result"
    }
   ],
   "source": [
    "import pandas as pd\n",
    "import json\n",
    "\n",
    "stops = pd.DataFrame(\n",
    "    json.loads(StaticGtfsStop.__config__.json_dumps(\n",
    "        scenario.stops, default=StaticGtfsStop.__json_encoder__\n",
    "    )),\n",
    "    columns=[\"stop_id\", \"stop_lat\", \"stop_lon\"]\n",
    ")\n",
    "stops.head()"
   ]
  },
  {
   "cell_type": "code",
   "execution_count": 21,
   "metadata": {},
   "outputs": [
    {
     "name": "stdout",
     "output_type": "stream",
     "text": [
      "trip_id='10536292' vehicle_id='ve' delay=20.0 last_updated=None next_update=None next_stop=None exact=False stop_events=[StopEvent(stop_id='7765', timestamp=datetime.datetime(2022, 10, 30, 9, 18, 40))]\n"
     ]
    },
    {
     "data": {
      "text/html": [
       "<div>\n",
       "<style scoped>\n",
       "    .dataframe tbody tr th:only-of-type {\n",
       "        vertical-align: middle;\n",
       "    }\n",
       "\n",
       "    .dataframe tbody tr th {\n",
       "        vertical-align: top;\n",
       "    }\n",
       "\n",
       "    .dataframe thead th {\n",
       "        text-align: right;\n",
       "    }\n",
       "</style>\n",
       "<table border=\"1\" class=\"dataframe\">\n",
       "  <thead>\n",
       "    <tr style=\"text-align: right;\">\n",
       "      <th></th>\n",
       "      <th>delay</th>\n",
       "      <th>last_updated</th>\n",
       "      <th>next_update</th>\n",
       "      <th>next_stop</th>\n",
       "      <th>exact</th>\n",
       "      <th>stop_events</th>\n",
       "      <th>latitude</th>\n",
       "      <th>longitude</th>\n",
       "    </tr>\n",
       "  </thead>\n",
       "  <tbody>\n",
       "    <tr>\n",
       "      <th>0</th>\n",
       "      <td>20.0</td>\n",
       "      <td>None</td>\n",
       "      <td>None</td>\n",
       "      <td>None</td>\n",
       "      <td>False</td>\n",
       "      <td>[{'stop_id': '7765', 'timestamp': '2022-10-30T...</td>\n",
       "      <td>37.771146</td>\n",
       "      <td>-122.389936</td>\n",
       "    </tr>\n",
       "  </tbody>\n",
       "</table>\n",
       "</div>"
      ],
      "text/plain": [
       "   delay last_updated next_update next_stop  exact  \\\n",
       "0   20.0         None        None      None  False   \n",
       "\n",
       "                                         stop_events   latitude   longitude  \n",
       "0  [{'stop_id': '7765', 'timestamp': '2022-10-30T...  37.771146 -122.389936  "
      ]
     },
     "execution_count": 21,
     "metadata": {},
     "output_type": "execute_result"
    }
   ],
   "source": [
    "print(schedule_status)\n",
    "ss = pd.DataFrame(\n",
    "    json.loads(\n",
    "        ScheduleStatus.__config__.json_dumps(\n",
    "            [schedule_status], default=ScheduleStatus.__json_encoder__\n",
    "        )\n",
    "    ),\n",
    "    columns=[\n",
    "        \"delay\",\n",
    "        \"last_updated\",\n",
    "        \"next_update\",\n",
    "        \"next_stop\",\n",
    "        \"exact\",\n",
    "        \"stop_events\",\n",
    "    ],\n",
    ")\n",
    "\n",
    "\n",
    "def extract_stop_event_info(ss, stops):\n",
    "    for index, row in ss.iterrows():\n",
    "        if len(row[\"stop_events\"]) <= 0:\n",
    "            return row\n",
    "\n",
    "        latest_stop_event = row[\"stop_events\"][-1]\n",
    "        latest_stop = next(\n",
    "            filter(lambda x: x.stop_id == latest_stop_event[\"stop_id\"], stops), None\n",
    "        )\n",
    "\n",
    "        ss.at[index, \"latitude\"] = latest_stop.stop_lat\n",
    "        ss.at[index, \"longitude\"] = latest_stop.stop_lon\n",
    "\n",
    "    return ss\n",
    "\n",
    "\n",
    "extract_stop_event_info(ss, scenario.stops).head()"
   ]
  },
  {
   "cell_type": "code",
   "execution_count": 22,
   "metadata": {},
   "outputs": [
    {
     "data": {
      "image/png": "[encoded data removed]",
      "text/plain": [
       "<Figure size 1800x1200 with 1 Axes>"
      ]
     },
     "metadata": {
      "needs_background": "light"
     },
     "output_type": "display_data"
    }
   ],
   "source": [
    "import matplotlib.pyplot as plt\n",
    "\n",
    "\n",
    "def plot_scenario(scenario, vehicle_positions=[], schedule_statuses=[]):\n",
    "    fig = plt.figure()\n",
    "    ax = fig.add_subplot(111)\n",
    "    fig.set_dpi(300)\n",
    "\n",
    "    stops = pd.DataFrame(\n",
    "        json.loads(\n",
    "            StaticGtfsStop.__config__.json_dumps(\n",
    "                scenario.stops, default=StaticGtfsStop.__json_encoder__\n",
    "            )\n",
    "        ),\n",
    "        columns=[\"stop_id\", \"stop_lat\", \"stop_lon\"],\n",
    "    )\n",
    "\n",
    "    ax.scatter(x=stops[\"stop_lat\"], y=stops[\"stop_lon\"], c=\"blue\", s=4)\n",
    "\n",
    "    if len(vehicle_positions) > 0:\n",
    "        vp = pd.DataFrame(\n",
    "            json.loads(\n",
    "                ScheduleStatus.__config__.json_dumps(\n",
    "                    vehicle_positions, default=ScheduleStatus.__json_encoder__\n",
    "                )\n",
    "            ),\n",
    "            columns=[\"latitude\", \"longitude\"],\n",
    "        )\n",
    "\n",
    "        ax.scatter(x=vp[\"latitude\"], y=vp[\"longitude\"], c=\"red\", s=3, alpha=0.2)\n",
    "\n",
    "    if len(schedule_statuses) > 0:\n",
    "        ss = pd.DataFrame(\n",
    "            json.loads(\n",
    "                ScheduleStatus.__config__.json_dumps(\n",
    "                    schedule_statuses, default=ScheduleStatus.__json_encoder__\n",
    "                )\n",
    "            ),\n",
    "            columns=[\n",
    "                \"delay\",\n",
    "                \"last_updated\",\n",
    "                \"next_update\",\n",
    "                \"next_stop\",\n",
    "                \"exact\",\n",
    "                \"stop_events\",\n",
    "            ],\n",
    "        )\n",
    "        ss = extract_stop_event_info(ss, scenario.stops)\n",
    "\n",
    "        ax.scatter(x=ss[\"latitude\"], y=ss[\"longitude\"], c=\"green\", s=3)\n",
    "\n",
    "    ax.set_aspect(\"equal\", adjustable=\"box\")\n",
    "\n",
    "    plt.show()\n",
    "\n",
    "\n",
    "plot_scenario(scenario)"
   ]
  },
  {
   "cell_type": "code",
   "execution_count": 23,
   "metadata": {},
   "outputs": [
    {
     "data": {
      "image/png": "[encoded data removed]",
      "text/plain": [
       "<Figure size 1800x1200 with 1 Axes>"
      ]
     },
     "metadata": {
      "needs_background": "light"
     },
     "output_type": "display_data"
    }
   ],
   "source": [
    "from gtt.data_model.schedule_adherence import StopEvent\n",
    "\n",
    "plot_scenario(\n",
    "    scenario,\n",
    "    vehicle_positions=[\n",
    "        VehiclePosition(\n",
    "            vehicle_id=\"test\",\n",
    "            trip_id=\"test\",\n",
    "            timestamp=\"2022-09-01 12:01:01\",\n",
    "            latitude=37.771346,\n",
    "            longitude=-122.39016,\n",
    "        )\n",
    "    ],\n",
    "    schedule_statuses=[\n",
    "        ScheduleStatus(\n",
    "            trip_id=\"test\",\n",
    "            vehicle_id=\"test\",\n",
    "            delay=10,\n",
    "            stop_events=[\n",
    "                StopEvent(stop_id=\"7765\", timestamp=\"2022-09-01 12:00:20\")\n",
    "            ]\n",
    "        )\n",
    "    ]\n",
    ")"
   ]
  },
  {
   "cell_type": "code",
   "execution_count": 24,
   "metadata": {},
   "outputs": [],
   "source": [
    "from itertools import islice\n",
    "\n",
    "agency_id = scenario.agency_id\n",
    "vehicle_id = next(iter(scenario.vehicle_ids))\n",
    "trip_id = next(iter(scenario.trip_ids))\n",
    "\n",
    "# NUM_POINTS = 1500\n",
    "START = 1000\n",
    "NUM_POINTS = 5\n",
    "\n",
    "scenario_schedule_adherence_service.invalidate(agency_id)\n",
    "\n",
    "for i, vehicle_position in enumerate(islice(scenario, START + NUM_POINTS)):\n",
    "    if (i < START or i > (START + NUM_POINTS)):\n",
    "        continue\n",
    "\n",
    "    scenario_schedule_adherence_service.update_schedule_status(agency_id, vehicle_position)\n",
    "\n",
    "    print(\n",
    "        \"CACHE\",\n",
    "        scenario_schedule_adherence_service.get_schedule_status(\n",
    "            agency_id=agency_id,\n",
    "            trip_id=trip_id,\n",
    "            vehicle_id=vehicle_id,\n",
    "        ),\n",
    "    )"
   ]
  },
  {
   "cell_type": "code",
   "execution_count": 25,
   "metadata": {},
   "outputs": [],
   "source": [
    "from util.fixtures import TEST_WHOLE_ROUTE\n",
    "\n",
    "scenario = Scenario(TEST_WHOLE_ROUTE)\n",
    "\n",
    "local_static_gtfs_service = LocalStaticGtfsService(\n",
    "    scenario.date,\n",
    "    scenario.stops,\n",
    "    scenario.trip_stop_times\n",
    ")\n",
    "\n",
    "scenario_schedule_adherence_service = ScheduleAdherenceService(\n",
    "    redis, local_static_gtfs_service\n",
    ")"
   ]
  },
  {
   "cell_type": "code",
   "execution_count": 26,
   "metadata": {},
   "outputs": [
    {
     "name": "stdout",
     "output_type": "stream",
     "text": [
      "Looking in indexes: https://pypi.org/simple, https://pip.repos.neuron.amazonaws.com\n",
      "Requirement already satisfied: freezegun in /home/ec2-user/anaconda3/envs/pytorch_p38/lib/python3.8/site-packages (1.2.2)\n",
      "Requirement already satisfied: python-dateutil>=2.7 in /home/ec2-user/anaconda3/envs/pytorch_p38/lib/python3.8/site-packages (from freezegun) (2.8.2)\n",
      "Requirement already satisfied: six>=1.5 in /home/ec2-user/anaconda3/envs/pytorch_p38/lib/python3.8/site-packages (from python-dateutil>=2.7->freezegun) (1.16.0)\n",
      "\u001b[33mWARNING: You are using pip version 22.0.4; however, version 22.3 is available.\n",
      "You should consider upgrading via the '/home/ec2-user/anaconda3/envs/pytorch_p38/bin/python -m pip install --upgrade pip' command.\u001b[0m\u001b[33m\n",
      "\u001b[0mNote: you may need to restart the kernel to use updated packages.\n"
     ]
    }
   ],
   "source": [
    "# Freeze the current time\n",
    "%pip install freezegun\n",
    "\n",
    "from freezegun import freeze_time"
   ]
  },
  {
   "cell_type": "code",
   "execution_count": 27,
   "metadata": {},
   "outputs": [
    {
     "data": {
      "image/png": "[encoded data removed]",
      "text/plain": [
       "<Figure size 1800x1200 with 1 Axes>"
      ]
     },
     "metadata": {
      "needs_background": "light"
     },
     "output_type": "display_data"
    }
   ],
   "source": [
    "from itertools import islice\n",
    "\n",
    "# NUM_POINTS = 1500\n",
    "START = 1000\n",
    "NUM_POINTS = 1000\n",
    "\n",
    "scenario_schedule_adherence_service.invalidate(agency_id)\n",
    "schedule_statuses = []\n",
    "used_vehicle_positions = []\n",
    "cached_schedule_status = None\n",
    "\n",
    "with freeze_time(\"2022-04-03 08:59:11\") as frozen_datetime:\n",
    "    for i, vehicle_position in enumerate(islice(scenario, START + NUM_POINTS)):\n",
    "        if (\n",
    "            i < START or i > (START + NUM_POINTS)\n",
    "            or abs(vehicle_position.latitude) < 1\n",
    "            or abs(vehicle_position.longitude) < 1\n",
    "        ):\n",
    "            continue\n",
    "\n",
    "        frozen_datetime.move_to(vehicle_position.timestamp)\n",
    "\n",
    "        used_vehicle_positions.append(vehicle_position)\n",
    "\n",
    "        if (\n",
    "            cached_schedule_status is not None\n",
    "            and cached_schedule_status.next_update is not None\n",
    "            and (\n",
    "                (cached_schedule_status.next_update - datetime.now()).total_seconds()\n",
    "                > 10\n",
    "                # May also check for proximity to next stop\n",
    "            )\n",
    "        ):\n",
    "            continue\n",
    "\n",
    "        cached_schedule_status = scenario_schedule_adherence_service.update_schedule_status(\n",
    "            agency_id, vehicle_position\n",
    "        )\n",
    "\n",
    "        if cached_schedule_status is not None:\n",
    "            schedule_statuses.append(cached_schedule_status)\n",
    "\n",
    "plot_scenario(\n",
    "    scenario,\n",
    "    schedule_statuses=schedule_statuses,\n",
    "    vehicle_positions=used_vehicle_positions,\n",
    ")"
   ]
  },
  {
   "cell_type": "code",
   "execution_count": 28,
   "metadata": {},
   "outputs": [
    {
     "name": "stdout",
     "output_type": "stream",
     "text": [
      "Number of events: 21\n",
      "\n",
      "Delay: 4.919s Early\n",
      "Last Updated: 2022-04-03 09:19:29.081000\n",
      "Next Update: 2022-04-03 09:20:35.081000\n",
      "Number of Stop Events: 1\n",
      "Latest Stop ID: 7766\n",
      "Next Stop ID: 7324\n",
      "stop_id='7766' timestamp=datetime.datetime(2022, 4, 3, 9, 19, 29, 81000)\n",
      "\n",
      "Delay: 14.871s Early\n",
      "Last Updated: 2022-04-03 09:20:25.129000\n",
      "Next Update: 2022-04-03 09:21:44.129000\n",
      "Number of Stop Events: 2\n",
      "Latest Stop ID: 7324\n",
      "Next Stop ID: 7767\n",
      "stop_id='7324' timestamp=datetime.datetime(2022, 4, 3, 9, 20, 25, 129000)\n",
      "\n",
      "Delay: 24.1s Early\n",
      "Last Updated: 2022-04-03 09:21:34.900000\n",
      "Next Update: 2022-04-03 09:22:08.900000\n",
      "Number of Stop Events: 3\n",
      "Latest Stop ID: 7767\n",
      "Next Stop ID: 7865\n",
      "stop_id='7767' timestamp=datetime.datetime(2022, 4, 3, 9, 21, 34, 900000)\n",
      "\n",
      "Delay: 33.226s Early\n",
      "Last Updated: 2022-04-03 09:21:59.774000\n",
      "Next Update: 2022-04-03 09:23:14.774000\n",
      "Number of Stop Events: 4\n",
      "Latest Stop ID: 7865\n",
      "Next Stop ID: 7768\n",
      "stop_id='7865' timestamp=datetime.datetime(2022, 4, 3, 9, 21, 59, 774000)\n",
      "\n",
      "Delay: 43.215s Early\n",
      "Last Updated: 2022-04-03 09:23:04.785000\n",
      "Next Update: 2022-04-03 09:23:54.785000\n",
      "Number of Stop Events: 5\n",
      "Latest Stop ID: 7768\n",
      "Next Stop ID: 7769\n",
      "stop_id='7768' timestamp=datetime.datetime(2022, 4, 3, 9, 23, 4, 785000)\n",
      "\n",
      "Delay: 52.164s Early\n",
      "Last Updated: 2022-04-03 09:23:45.836000\n",
      "Next Update: 2022-04-03 09:24:38.836000\n",
      "Number of Stop Events: 6\n",
      "Latest Stop ID: 7769\n",
      "Next Stop ID: 7770\n",
      "stop_id='7769' timestamp=datetime.datetime(2022, 4, 3, 9, 23, 45, 836000)\n",
      "\n",
      "Delay: 61.558s Early\n",
      "Last Updated: 2022-04-03 09:24:29.442000\n",
      "Next Update: 2022-04-03 09:25:02.442000\n",
      "Number of Stop Events: 7\n",
      "Latest Stop ID: 7770\n",
      "Next Stop ID: 3302\n",
      "stop_id='7770' timestamp=datetime.datetime(2022, 4, 3, 9, 24, 29, 442000)\n",
      "\n",
      "Delay: 70.889s Early\n",
      "Last Updated: 2022-04-03 09:24:53.111000\n",
      "Next Update: 2022-04-03 09:25:49.111000\n",
      "Number of Stop Events: 8\n",
      "Latest Stop ID: 3302\n",
      "Next Stop ID: 3295\n",
      "stop_id='3302' timestamp=datetime.datetime(2022, 4, 3, 9, 24, 53, 111000)\n",
      "\n",
      "Delay: 80.689s Early\n",
      "Last Updated: 2022-04-03 09:25:39.311000\n",
      "Next Update: 2022-04-03 09:26:39.311000\n",
      "Number of Stop Events: 9\n",
      "Latest Stop ID: 3295\n",
      "Next Stop ID: 3281\n",
      "stop_id='3295' timestamp=datetime.datetime(2022, 4, 3, 9, 25, 39, 311000)\n",
      "\n",
      "Delay: 89.704s Early\n",
      "Last Updated: 2022-04-03 09:26:30.296000\n",
      "Next Update: 2022-04-03 09:27:39.296000\n",
      "Number of Stop Events: 10\n",
      "Latest Stop ID: 3281\n",
      "Next Stop ID: 3288\n",
      "stop_id='3281' timestamp=datetime.datetime(2022, 4, 3, 9, 26, 30, 296000)\n",
      "\n",
      "Delay: 98.894s Early\n",
      "Last Updated: 2022-04-03 09:27:30.106000\n",
      "Next Update: 2022-04-03 09:28:32.106000\n",
      "Number of Stop Events: 11\n",
      "Latest Stop ID: 3288\n",
      "Next Stop ID: 7289\n",
      "stop_id='3288' timestamp=datetime.datetime(2022, 4, 3, 9, 27, 30, 106000)\n",
      "\n",
      "Delay: 108.707s Early\n",
      "Last Updated: 2022-04-03 09:28:22.293000\n",
      "Next Update: 2022-04-03 09:30:11.293000\n",
      "Number of Stop Events: 12\n",
      "Latest Stop ID: 7289\n",
      "Next Stop ID: 3291\n",
      "stop_id='7289' timestamp=datetime.datetime(2022, 4, 3, 9, 28, 22, 293000)\n",
      "\n",
      "Delay: 118.078s Early\n",
      "Last Updated: 2022-04-03 09:30:01.922000\n",
      "Next Update: 2022-04-03 09:31:00.922000\n",
      "Number of Stop Events: 13\n",
      "Latest Stop ID: 3291\n",
      "Next Stop ID: 3300\n",
      "stop_id='3291' timestamp=datetime.datetime(2022, 4, 3, 9, 30, 1, 922000)\n",
      "\n",
      "Delay: 127.185s Early\n",
      "Last Updated: 2022-04-03 09:30:51.815000\n",
      "Next Update: 2022-04-03 09:31:52.815000\n",
      "Number of Stop Events: 14\n",
      "Latest Stop ID: 3300\n",
      "Next Stop ID: 3286\n",
      "stop_id='3300' timestamp=datetime.datetime(2022, 4, 3, 9, 30, 51, 815000)\n",
      "\n",
      "Delay: 136.019s Early\n",
      "Last Updated: 2022-04-03 09:31:43.981000\n",
      "Next Update: 2022-04-03 09:32:44.981000\n",
      "Number of Stop Events: 15\n",
      "Latest Stop ID: 3286\n",
      "Next Stop ID: 3284\n",
      "stop_id='3286' timestamp=datetime.datetime(2022, 4, 3, 9, 31, 43, 981000)\n",
      "\n",
      "Delay: 146.006s Early\n",
      "Last Updated: 2022-04-03 09:32:34.994000\n",
      "Next Update: 2022-04-03 09:33:39.994000\n",
      "Number of Stop Events: 16\n",
      "Latest Stop ID: 3284\n",
      "Next Stop ID: 3283\n",
      "stop_id='3284' timestamp=datetime.datetime(2022, 4, 3, 9, 32, 34, 994000)\n",
      "\n",
      "Delay: 155.003s Early\n",
      "Last Updated: 2022-04-03 09:33:30.997000\n",
      "Next Update: 2022-04-03 09:35:24.997000\n",
      "Number of Stop Events: 17\n",
      "Latest Stop ID: 3283\n",
      "Next Stop ID: 7073\n",
      "stop_id='3283' timestamp=datetime.datetime(2022, 4, 3, 9, 33, 30, 997000)\n",
      "\n",
      "Delay: 164.355s Early\n",
      "Last Updated: 2022-04-03 09:35:15.645000\n",
      "Next Update: 2022-04-03 09:36:16.645000\n",
      "Number of Stop Events: 18\n",
      "Latest Stop ID: 7073\n",
      "Next Stop ID: 4006\n",
      "stop_id='7073' timestamp=datetime.datetime(2022, 4, 3, 9, 35, 15, 645000)\n",
      "\n",
      "Delay: 174.201s Early\n",
      "Last Updated: 2022-04-03 09:36:06.799000\n",
      "Next Update: 2022-04-03 09:37:00.799000\n",
      "Number of Stop Events: 19\n",
      "Latest Stop ID: 4006\n",
      "Next Stop ID: 5017\n",
      "stop_id='4006' timestamp=datetime.datetime(2022, 4, 3, 9, 36, 6, 799000)\n",
      "\n",
      "Delay: 183.131s Early\n",
      "Last Updated: 2022-04-03 09:36:51.869000\n",
      "Next Update: 2022-04-03 09:37:56.869000\n",
      "Number of Stop Events: 20\n",
      "Latest Stop ID: 5017\n",
      "Next Stop ID: 4620\n",
      "stop_id='5017' timestamp=datetime.datetime(2022, 4, 3, 9, 36, 51, 869000)\n",
      "\n",
      "Delay: 192.059s Early\n",
      "Last Updated: 2022-04-03 09:37:47.941000\n",
      "Next Update: 2022-04-03 09:39:30.941000\n",
      "Number of Stop Events: 21\n",
      "Latest Stop ID: 4620\n",
      "Next Stop ID: 4631\n",
      "stop_id='4620' timestamp=datetime.datetime(2022, 4, 3, 9, 37, 47, 941000)\n",
      "\n"
     ]
    }
   ],
   "source": [
    "print(f\"Number of events: {len(schedule_statuses)}\\n\")\n",
    "\n",
    "for schedule_status in schedule_statuses:\n",
    "    print(schedule_status.to_string())\n",
    "    print(schedule_status.latest_stop_event)\n",
    "    print('')"
   ]
  },
  {
   "cell_type": "markdown",
   "metadata": {},
   "source": [
    "### Headway"
   ]
  },
  {
   "cell_type": "code",
   "execution_count": 29,
   "metadata": {},
   "outputs": [],
   "source": [
    "# Not implemented..."
   ]
  },
  {
   "cell_type": "markdown",
   "metadata": {},
   "source": [
    "## API\n",
    "\n",
    "### Static GTFS"
   ]
  },
  {
   "cell_type": "code",
   "execution_count": 30,
   "metadata": {},
   "outputs": [],
   "source": [
    "os.environ[\"REDIS_URL\"] = REDIS_URL\n",
    "os.environ[\"REDIS_PORT\"] = REDIS_PORT\n",
    "os.environ[\"REDIS_USERNAME\"] = REDIS_USERNAME or \"\"\n",
    "os.environ[\"REDIS_PASSWORD\"] = REDIS_PASSWORD or \"\""
   ]
  },
  {
   "cell_type": "code",
   "execution_count": 31,
   "metadata": {},
   "outputs": [
    {
     "name": "stderr",
     "output_type": "stream",
     "text": [
      "INFO:root:Received event={'headers': None, 'body': None, 'queryStringParameters': {'agencyId': 'sfmta'}, 'pathParameters': {'endpoint': 'invalidate'}, 'requestContext': {'httpMethod': 'POST'}, 'httpMethod': 'POST', 'path': None, 'resourcePath': None, 'identity': None, 'data': <class 'pydantic.main.Data'>}, context={}\n",
      "INFO:root:Invalidating static GTFS on channel tsp_in_cloud:invalidate_static_gtfs:sfmta:all:*\n",
      "INFO:root:Status Code: 200 Body: 0 \n"
     ]
    },
    {
     "data": {
      "text/plain": [
       "{'statusCode': 200,\n",
       " 'body': '0',\n",
       " 'headers': {'Content-Type': 'application/json',\n",
       "  'Access-Control-Allow-Origin': '*'}}"
      ]
     },
     "execution_count": 31,
     "metadata": {},
     "output_type": "execute_result"
    }
   ],
   "source": [
    "from app import handler\n",
    "from models import InvalidateStaticGtfsHttpRequest\n",
    "\n",
    "from datetime import datetime\n",
    "from typing import List\n",
    "\n",
    "# Invalidate static GTFS. Invalidate static GTFS\n",
    "event = InvalidateStaticGtfsHttpRequest(\n",
    "    **{\n",
    "        \"requestContext\": {},\n",
    "        \"queryStringParameters\": {\"agencyId\": \"sfmta\"},\n",
    "        \"pathParameters\": {\"endpoint\": \"invalidate\"},\n",
    "        \"requestContext\": {\"httpMethod\": \"POST\"},\n",
    "        \"httpMethod\": \"POST\"\n",
    "    }\n",
    ")\n",
    "\n",
    "handler(event.dict(by_alias=True), {})"
   ]
  },
  {
   "cell_type": "code",
   "execution_count": 32,
   "metadata": {},
   "outputs": [
    {
     "name": "stderr",
     "output_type": "stream",
     "text": [
      "INFO:root:Received event={'detail': {'agencyId': 'sfmta', 'endpoint': 'invalidate'}}, context={}\n",
      "INFO:root:Invalidating static GTFS on channel tsp_in_cloud:invalidate_static_gtfs:sfmta:all:*\n",
      "INFO:root:Status Code: 200 Body: 0 \n"
     ]
    },
    {
     "data": {
      "text/plain": [
       "{'statusCode': 200,\n",
       " 'body': '0',\n",
       " 'headers': {'Content-Type': 'application/json',\n",
       "  'Access-Control-Allow-Origin': '*'}}"
      ]
     },
     "execution_count": 32,
     "metadata": {},
     "output_type": "execute_result"
    }
   ],
   "source": [
    "from models import InvalidateStaticGtfsEventRequest\n",
    "\n",
    "# EventBridge static event. Invalidate static GTFS\n",
    "event = InvalidateStaticGtfsEventRequest(\n",
    "    detail={ \"endpoint\": \"invalidate\", \"agency_id\": \"sfmta\" }\n",
    ")\n",
    "\n",
    "handler(event.dict(by_alias=True), {})"
   ]
  },
  {
   "cell_type": "markdown",
   "metadata": {},
   "source": [
    "## Manager"
   ]
  },
  {
   "cell_type": "code",
   "execution_count": 33,
   "metadata": {},
   "outputs": [],
   "source": [
    "sys.path.insert(0, f\"{root_path}/TSP/tsp-gtfs-realtime/tsp_gtfs_realtime\")\n",
    "sys.path.insert(0, f\"{root_path}/CDFAndIoT/Service/AssetLibrary\")\n",
    "sys.path.insert(0, f\"{root_path}/CDFAndIoT/DataModel/AssetLibrary\")"
   ]
  },
  {
   "cell_type": "code",
   "execution_count": 34,
   "metadata": {},
   "outputs": [
    {
     "name": "stdout",
     "output_type": "stream",
     "text": [
      "Looking in indexes: https://pypi.org/simple, https://pip.repos.neuron.amazonaws.com\n",
      "Requirement already satisfied: requests_aws_sign in /home/ec2-user/anaconda3/envs/pytorch_p38/lib/python3.8/site-packages (0.1.6)\n",
      "Requirement already satisfied: boto3 in /home/ec2-user/anaconda3/envs/pytorch_p38/lib/python3.8/site-packages (from requests_aws_sign) (1.24.96)\n",
      "Requirement already satisfied: requests>=2.0.0 in /home/ec2-user/anaconda3/envs/pytorch_p38/lib/python3.8/site-packages (from requests_aws_sign) (2.26.0)\n",
      "Requirement already satisfied: certifi>=2017.4.17 in /home/ec2-user/anaconda3/envs/pytorch_p38/lib/python3.8/site-packages (from requests>=2.0.0->requests_aws_sign) (2021.10.8)\n",
      "Requirement already satisfied: idna<4,>=2.5 in /home/ec2-user/anaconda3/envs/pytorch_p38/lib/python3.8/site-packages (from requests>=2.0.0->requests_aws_sign) (3.1)\n",
      "Requirement already satisfied: urllib3<1.27,>=1.21.1 in /home/ec2-user/anaconda3/envs/pytorch_p38/lib/python3.8/site-packages (from requests>=2.0.0->requests_aws_sign) (1.26.8)\n",
      "Requirement already satisfied: charset-normalizer~=2.0.0 in /home/ec2-user/anaconda3/envs/pytorch_p38/lib/python3.8/site-packages (from requests>=2.0.0->requests_aws_sign) (2.0.7)\n",
      "Requirement already satisfied: botocore<1.28.0,>=1.27.96 in /home/ec2-user/anaconda3/envs/pytorch_p38/lib/python3.8/site-packages (from boto3->requests_aws_sign) (1.27.96)\n",
      "Requirement already satisfied: s3transfer<0.7.0,>=0.6.0 in /home/ec2-user/anaconda3/envs/pytorch_p38/lib/python3.8/site-packages (from boto3->requests_aws_sign) (0.6.0)\n",
      "Requirement already satisfied: jmespath<2.0.0,>=0.7.1 in /home/ec2-user/anaconda3/envs/pytorch_p38/lib/python3.8/site-packages (from boto3->requests_aws_sign) (0.10.0)\n",
      "Requirement already satisfied: python-dateutil<3.0.0,>=2.1 in /home/ec2-user/anaconda3/envs/pytorch_p38/lib/python3.8/site-packages (from botocore<1.28.0,>=1.27.96->boto3->requests_aws_sign) (2.8.2)\n",
      "Requirement already satisfied: six>=1.5 in /home/ec2-user/anaconda3/envs/pytorch_p38/lib/python3.8/site-packages (from python-dateutil<3.0.0,>=2.1->botocore<1.28.0,>=1.27.96->boto3->requests_aws_sign) (1.16.0)\n",
      "\u001b[33mWARNING: You are using pip version 22.0.4; however, version 22.3 is available.\n",
      "You should consider upgrading via the '/home/ec2-user/anaconda3/envs/pytorch_p38/bin/python -m pip install --upgrade pip' command.\u001b[0m\u001b[33m\n",
      "\u001b[0mNote: you may need to restart the kernel to use updated packages.\n"
     ]
    }
   ],
   "source": [
    "%pip install requests_aws_sign"
   ]
  },
  {
   "cell_type": "code",
   "execution_count": 35,
   "metadata": {},
   "outputs": [
    {
     "name": "stderr",
     "output_type": "stream",
     "text": [
      "INFO:root:Starting service\n",
      "INFO:root:Connecting to Redis instance: 10.0.0.38:6379\n",
      "INFO:root:Connected to Redis\n",
      "INFO:root:Running for agency_id='sfmta'\n"
     ]
    },
    {
     "ename": "ClientError",
     "evalue": "An error occurred (InvalidSignatureException) when calling the GetSecretValue operation: Signature expired: 20220901T120103Z is now earlier than 20221103T182221Z (20221103T182721Z - 5 min.)",
     "output_type": "error",
     "traceback": [
      "\u001b[0;31m---------------------------------------------------------------------------\u001b[0m",
      "\u001b[0;31mClientError\u001b[0m                               Traceback (most recent call last)",
      "\u001b[0;32m/tmp/ipykernel_29335/3558410384.py\u001b[0m in \u001b[0;36m<cell line: 16>\u001b[0;34m()\u001b[0m\n\u001b[1;32m     14\u001b[0m \u001b[0mfreezer\u001b[0m\u001b[0;34m.\u001b[0m\u001b[0mstart\u001b[0m\u001b[0;34m(\u001b[0m\u001b[0;34m)\u001b[0m\u001b[0;34m\u001b[0m\u001b[0;34m\u001b[0m\u001b[0m\n\u001b[1;32m     15\u001b[0m \u001b[0;34m\u001b[0m\u001b[0m\n\u001b[0;32m---> 16\u001b[0;31m main(\n\u001b[0m\u001b[1;32m     17\u001b[0m     \u001b[0magency_id\u001b[0m\u001b[0;34m=\u001b[0m\u001b[0;34m\"sfmta\"\u001b[0m\u001b[0;34m,\u001b[0m\u001b[0;34m\u001b[0m\u001b[0;34m\u001b[0m\u001b[0m\n\u001b[1;32m     18\u001b[0m     \u001b[0maurora_secret_name\u001b[0m\u001b[0;34m=\u001b[0m\u001b[0;34m\"develop/aurora/asmgtfs\"\u001b[0m\u001b[0;34m\u001b[0m\u001b[0;34m\u001b[0m\u001b[0m\n",
      "\u001b[0;32m~/SageMaker/smart-city-platform/TSP/tsp-gtfs-realtime/tsp_gtfs_realtime/schedule_adherence_manager.py\u001b[0m in \u001b[0;36mmain\u001b[0;34m(**kwargs)\u001b[0m\n\u001b[1;32m    178\u001b[0m     \u001b[0msecretsmanager\u001b[0m \u001b[0;34m=\u001b[0m \u001b[0mboto3\u001b[0m\u001b[0;34m.\u001b[0m\u001b[0mclient\u001b[0m\u001b[0;34m(\u001b[0m\u001b[0;34m\"secretsmanager\"\u001b[0m\u001b[0;34m)\u001b[0m\u001b[0;34m\u001b[0m\u001b[0;34m\u001b[0m\u001b[0m\n\u001b[1;32m    179\u001b[0m \u001b[0;34m\u001b[0m\u001b[0m\n\u001b[0;32m--> 180\u001b[0;31m     \u001b[0mresponse\u001b[0m \u001b[0;34m=\u001b[0m \u001b[0msecretsmanager\u001b[0m\u001b[0;34m.\u001b[0m\u001b[0mget_secret_value\u001b[0m\u001b[0;34m(\u001b[0m\u001b[0mSecretId\u001b[0m\u001b[0;34m=\u001b[0m\u001b[0margs\u001b[0m\u001b[0;34m.\u001b[0m\u001b[0maurora_secret_name\u001b[0m \u001b[0;32mor\u001b[0m \u001b[0mos\u001b[0m\u001b[0;34m.\u001b[0m\u001b[0mgetenv\u001b[0m\u001b[0;34m(\u001b[0m\u001b[0;34m\"AURORA_SECRET_NAME\"\u001b[0m\u001b[0;34m)\u001b[0m\u001b[0;34m)\u001b[0m\u001b[0;34m\u001b[0m\u001b[0;34m\u001b[0m\u001b[0m\n\u001b[0m\u001b[1;32m    181\u001b[0m     \u001b[0msecret_dict\u001b[0m \u001b[0;34m=\u001b[0m \u001b[0mjson\u001b[0m\u001b[0;34m.\u001b[0m\u001b[0mloads\u001b[0m\u001b[0;34m(\u001b[0m\u001b[0mresponse\u001b[0m\u001b[0;34m[\u001b[0m\u001b[0;34m\"SecretString\"\u001b[0m\u001b[0;34m]\u001b[0m\u001b[0;34m)\u001b[0m\u001b[0;34m\u001b[0m\u001b[0;34m\u001b[0m\u001b[0m\n\u001b[1;32m    182\u001b[0m \u001b[0;34m\u001b[0m\u001b[0m\n",
      "\u001b[0;32m~/anaconda3/envs/pytorch_p38/lib/python3.8/site-packages/botocore/client.py\u001b[0m in \u001b[0;36m_api_call\u001b[0;34m(self, *args, **kwargs)\u001b[0m\n\u001b[1;32m    512\u001b[0m                 )\n\u001b[1;32m    513\u001b[0m             \u001b[0;31m# The \"self\" in this scope is referring to the BaseClient.\u001b[0m\u001b[0;34m\u001b[0m\u001b[0;34m\u001b[0m\u001b[0;34m\u001b[0m\u001b[0m\n\u001b[0;32m--> 514\u001b[0;31m             \u001b[0;32mreturn\u001b[0m \u001b[0mself\u001b[0m\u001b[0;34m.\u001b[0m\u001b[0m_make_api_call\u001b[0m\u001b[0;34m(\u001b[0m\u001b[0moperation_name\u001b[0m\u001b[0;34m,\u001b[0m \u001b[0mkwargs\u001b[0m\u001b[0;34m)\u001b[0m\u001b[0;34m\u001b[0m\u001b[0;34m\u001b[0m\u001b[0m\n\u001b[0m\u001b[1;32m    515\u001b[0m \u001b[0;34m\u001b[0m\u001b[0m\n\u001b[1;32m    516\u001b[0m         \u001b[0m_api_call\u001b[0m\u001b[0;34m.\u001b[0m\u001b[0m__name__\u001b[0m \u001b[0;34m=\u001b[0m \u001b[0mstr\u001b[0m\u001b[0;34m(\u001b[0m\u001b[0mpy_operation_name\u001b[0m\u001b[0;34m)\u001b[0m\u001b[0;34m\u001b[0m\u001b[0;34m\u001b[0m\u001b[0m\n",
      "\u001b[0;32m~/anaconda3/envs/pytorch_p38/lib/python3.8/site-packages/botocore/client.py\u001b[0m in \u001b[0;36m_make_api_call\u001b[0;34m(self, operation_name, api_params)\u001b[0m\n\u001b[1;32m    936\u001b[0m             \u001b[0merror_code\u001b[0m \u001b[0;34m=\u001b[0m \u001b[0mparsed_response\u001b[0m\u001b[0;34m.\u001b[0m\u001b[0mget\u001b[0m\u001b[0;34m(\u001b[0m\u001b[0;34m\"Error\"\u001b[0m\u001b[0;34m,\u001b[0m \u001b[0;34m{\u001b[0m\u001b[0;34m}\u001b[0m\u001b[0;34m)\u001b[0m\u001b[0;34m.\u001b[0m\u001b[0mget\u001b[0m\u001b[0;34m(\u001b[0m\u001b[0;34m\"Code\"\u001b[0m\u001b[0;34m)\u001b[0m\u001b[0;34m\u001b[0m\u001b[0;34m\u001b[0m\u001b[0m\n\u001b[1;32m    937\u001b[0m             \u001b[0merror_class\u001b[0m \u001b[0;34m=\u001b[0m \u001b[0mself\u001b[0m\u001b[0;34m.\u001b[0m\u001b[0mexceptions\u001b[0m\u001b[0;34m.\u001b[0m\u001b[0mfrom_code\u001b[0m\u001b[0;34m(\u001b[0m\u001b[0merror_code\u001b[0m\u001b[0;34m)\u001b[0m\u001b[0;34m\u001b[0m\u001b[0;34m\u001b[0m\u001b[0m\n\u001b[0;32m--> 938\u001b[0;31m             \u001b[0;32mraise\u001b[0m \u001b[0merror_class\u001b[0m\u001b[0;34m(\u001b[0m\u001b[0mparsed_response\u001b[0m\u001b[0;34m,\u001b[0m \u001b[0moperation_name\u001b[0m\u001b[0;34m)\u001b[0m\u001b[0;34m\u001b[0m\u001b[0;34m\u001b[0m\u001b[0m\n\u001b[0m\u001b[1;32m    939\u001b[0m         \u001b[0;32melse\u001b[0m\u001b[0;34m:\u001b[0m\u001b[0;34m\u001b[0m\u001b[0;34m\u001b[0m\u001b[0m\n\u001b[1;32m    940\u001b[0m             \u001b[0;32mreturn\u001b[0m \u001b[0mparsed_response\u001b[0m\u001b[0;34m\u001b[0m\u001b[0;34m\u001b[0m\u001b[0m\n",
      "\u001b[0;31mClientError\u001b[0m: An error occurred (InvalidSignatureException) when calling the GetSecretValue operation: Signature expired: 20220901T120103Z is now earlier than 20221103T182221Z (20221103T182721Z - 5 min.)"
     ]
    }
   ],
   "source": [
    "from time import sleep\n",
    "from gtt.data_model.schedule_adherence.static_gtfs import StaticGtfsChannel\n",
    "from schedule_adherence_manager import (\n",
    "    main,\n",
    "    VehiclePositionsChannel,\n",
    "    ScheduleAdherenceManager,\n",
    ")\n",
    "from redis import Redis\n",
    "import os\n",
    "\n",
    "redis = Redis(os.getenv(\"REDIS_URL\"), int(os.getenv(\"REDIS_PORT\")))\n",
    "\n",
    "freezer = freeze_time(\"2022-09-01 12:01:03.000\")\n",
    "freezer.start()\n",
    "\n",
    "main(\n",
    "    agency_id=\"sfmta\",\n",
    "    aurora_secret_name=\"develop/aurora/asmgtfs\"\n",
    ")\n",
    "\n",
    "for [timestamp, latitude, longitude] in [\n",
    "    (\"2022-09-01 12:01:02.000\", 43.3, 123.3),\n",
    "    (\"2022-09-01 12:01:03.000\", 43.3, 123.3),\n",
    "    (\"2022-09-01 12:01:04.000\", 43.3, 123.3),\n",
    "]:\n",
    "    sleep(1)\n",
    "    redis.set(\n",
    "        VehiclePositionsChannel.cache(\n",
    "            agency_id=\"sfmta\", vehicle_id=\"veh-123\"\n",
    "        ),\n",
    "        VehiclePosition(\n",
    "            trip_id=\"10536290\",\n",
    "            vehicle_id=\"veh-123\",\n",
    "            timestamp=timestamp,\n",
    "            latitude=latitude,\n",
    "            longitude=longitude\n",
    "        ).json(),\n",
    "    )\n",
    "\n",
    "    redis.publish(\n",
    "        VehiclePositionsChannel.new(\n",
    "            agency_id=\"sfmta\", vehicle_id=\"veh-123\"\n",
    "        ),\n",
    "        \"\",\n",
    "    )\n",
    "\n",
    "freezer.stop()\n",
    "\n",
    "# redis.publish(\n",
    "#     StaticGtfsChannel.invalidate(agency_id=\"sfmta\"),\n",
    "#     \"\",\n",
    "# )"
   ]
  }
 ],
 "metadata": {
  "instance_type": "ml.t3.medium",
  "kernelspec": {
   "display_name": "Python 3.9.13 ('.venv': venv)",
   "language": "python",
   "name": "python3"
  },
  "language_info": {
   "codemirror_mode": {
    "name": "ipython",
    "version": 3
   },
   "file_extension": ".py",
   "mimetype": "text/x-python",
   "name": "python",
   "nbconvert_exporter": "python",
   "pygments_lexer": "ipython3",
   "version": "3.9.13"
  },
  "toc-autonumbering": false,
  "toc-showcode": false,
  "toc-showmarkdowntxt": false,
  "toc-showtags": false,
  "vscode": {
   "interpreter": {
    "hash": "525beb34e723fb2cb1596bdbd80ba19800ec7628ec1f40ee9eefd56548a559bf"
   }
  }
 },
 "nbformat": 4,
 "nbformat_minor": 4
}
