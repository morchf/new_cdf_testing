{
 "cells": [
  {
   "cell_type": "markdown",
   "metadata": {},
   "source": [
    "## Introduction\n",
    "This notebook polls an agency feed to get the set of vehicle identifiers so that assets can be created in the AssetLibrary.\n",
    "\n",
    "Currently there are quirks that require manually creating some entities  with the cdf manager (e.g. https://cdfmanager.developgtt.com/) so that supporting resources can be created by the backend.\n"
   ]
  },
  {
   "cell_type": "markdown",
   "metadata": {},
   "source": [
    "Point `config_folder` to a folder with agency json config files, or set `config_files` manually.\n"
   ]
  },
  {
   "cell_type": "code",
   "execution_count": null,
   "metadata": {},
   "outputs": [],
   "source": [
    "import json\n",
    "from pathlib import Path\n",
    "\n",
    "agency_name = \"cdta\"\n",
    "\n",
    "config_folder = Path(\"../tsp_gtfs_realtime/config/agencies\")\n",
    "csv_folder = Path(\"./output/csv_vehicles/\")\n",
    "csv_folder.mkdir(parents=True, exist_ok=True)\n",
    "\n",
    "# config_files = sorted(config_folder.glob(\"*.json\"))\n",
    "config_file = config_folder.joinpath(f\"{agency_name}.json\")\n",
    "csv_file = csv_folder.joinpath(f\"{agency_name}.csv\")\n",
    "with config_file.open(mode=\"r\") as fp:\n",
    "    agency_config = json.load(fp)\n"
   ]
  },
  {
   "cell_type": "markdown",
   "metadata": {},
   "source": [
    "Poll each `vehicle_positions` feed `num_samples` times in order to get the set of vehicle identifiers (either id or label)\n",
    "\n",
    "Instantiating the pollers outside the loop allows them each to manage the polling rate. This could be parallelized.\n"
   ]
  },
  {
   "cell_type": "code",
   "execution_count": null,
   "metadata": {},
   "outputs": [],
   "source": [
    "from tsp_gtfs_realtime.core.gtfs_realtime import GTFSRealtimeAPIPoller, GTFSRealtimeConfig\n",
    "\n",
    "gtfs_realtime_api_poller = GTFSRealtimeAPIPoller(\n",
    "    GTFSRealtimeConfig.from_inputs(config_file=config_file)\n",
    ")\n",
    "# load previously saved vehicles if they exist\n",
    "gtfs_realtime_vehicle_ids = (\n",
    "    set(csv_file.open(mode=\"r\").read().split(\"\\n\"))\n",
    "    if csv_file.is_file()\n",
    "    else set()\n",
    ")\n",
    "\n",
    "num_samples = 10\n",
    "for sample_idx in range(num_samples):\n",
    "    print(f\"Sample {sample_idx}, Polling {agency_name}\")\n",
    "    try:\n",
    "        gtfs_realtime_api_poller.poll_vehicle_positions()\n",
    "        vehicle_ids = set(v for v, _ in gtfs_realtime_api_poller.vehicle_positions)\n",
    "        gtfs_realtime_vehicle_ids.update(vehicle_ids)\n",
    "    except Exception as e:\n",
    "        print(e)\n",
    "        print(f\"Error, skipping {agency_name} {sample_idx}\")\n",
    "        continue\n"
   ]
  },
  {
   "cell_type": "markdown",
   "metadata": {},
   "source": [
    "Save data to a csv file, so that it can be updated over time to get vehicles that were not active during previous polling"
   ]
  },
  {
   "cell_type": "code",
   "execution_count": null,
   "metadata": {},
   "outputs": [],
   "source": [
    "should_save_csv = True\n",
    "\n",
    "if should_save_csv:\n",
    "    with csv_file.open(mode=\"w\") as fp:\n",
    "        print(\n",
    "            *sorted(\n",
    "                gtfs_realtime_vehicle_ids,\n",
    "                key=int if all(v.isdigit() for v in gtfs_realtime_vehicle_ids) else None\n",
    "            ),\n",
    "            sep=\"\\n\",\n",
    "            end=\"\",\n",
    "            file=fp\n",
    "        )"
   ]
  },
  {
   "cell_type": "markdown",
   "metadata": {},
   "source": [
    "## Create assets\n",
    "Use sigv4 to post `region` and `agency` groups, and `vehicles` and `integration_com` devices"
   ]
  },
  {
   "cell_type": "code",
   "execution_count": null,
   "metadata": {},
   "outputs": [],
   "source": [
    "from gtt.service.asset_library import AssetLibraryAPI\n",
    "\n",
    "asset_library_api = AssetLibraryAPI(\"https://oo9fn5p38b.execute-api.us-east-1.amazonaws.com/Prod\")"
   ]
  },
  {
   "cell_type": "markdown",
   "metadata": {},
   "source": [
    "## Region\n",
    "Create region with the same name as the agency\n",
    "\n",
    "Note: this does not really work because the cdfmanager somehow handles the creation of the `caCertId` and `regionGUID`. I think that when API Gateway is queried, it calls a subsequent lambda, but the cdf manager calls that lambda itself. There is something wrong different with the way they do this, so the automatic creation does not work.\n",
    "\n",
    "### cdfmanager should be used to create Region"
   ]
  },
  {
   "cell_type": "code",
   "execution_count": null,
   "metadata": {},
   "outputs": [],
   "source": [
    "# from gtt.service.asset_library import Region\n",
    "# from typing import Optional\n",
    "# from pydantic import Field\n",
    "\n",
    "# class RegionWriter(Region):\n",
    "#     ca_cert_id: Optional[str] = Field(alias=\"caCertId\")\n",
    "#     unique_id: Optional[str] = Field(alias=\"regionGUID\")  # note name change\n",
    "\n",
    "#     def create(self):\n",
    "#         data = {\n",
    "#             \"attributes\": {\n",
    "#                 \"description\": self.description,\n",
    "#                 \"caCertId\": self.ca_cert_id,\n",
    "#                 \"regionGUID\": self.unique_id,\n",
    "#                 \"displayName\": self.display_name,\n",
    "#             },\n",
    "#             \"category\": self.category,\n",
    "#             \"templateId\": self._template_id,\n",
    "#             \"name\": self.name,\n",
    "#             \"groupPath\": self.group_path,\n",
    "#             \"parentPath\": self.parent_path,\n",
    "#         }\n",
    "#         groups_url = f\"{asset_library_api.url}/groups\"\n",
    "#         asset_library_api._send_request(method=\"POST\", url=groups_url, data=data)\n"
   ]
  },
  {
   "cell_type": "code",
   "execution_count": null,
   "metadata": {},
   "outputs": [],
   "source": [
    "# for agency_name in agency_vehicles:\n",
    "#     cdf_backend_region = RegionWriter(\n",
    "#         **{\n",
    "#             \"attributes\": {\n",
    "#                 \"caCertId\": \"NULL_CA\",\n",
    "#                 \"regionGUID\": \"NULL_GUID\",\n",
    "#                 \"displayName\": agency_name,\n",
    "#             },\n",
    "#             \"description\": f\"region for {agency_name}\",\n",
    "#             \"name\": agency_name,\n",
    "#             \"category\": \"group\",\n",
    "#             \"templateId\": \"region\",\n",
    "#             \"groupPath\": f\"/{agency_name.lower()}\",\n",
    "#             \"parentPath\": \"/\",\n",
    "#         }\n",
    "#     )\n",
    "#     cdf_backend_region.create()"
   ]
  },
  {
   "cell_type": "code",
   "execution_count": null,
   "metadata": {},
   "outputs": [],
   "source": [
    "region = asset_library_api.get_region(agency_name.lower())"
   ]
  },
  {
   "cell_type": "markdown",
   "metadata": {},
   "source": [
    "## Agency\n",
    "Create region with the same name as the agency\n",
    "\n",
    "Note: this does not really work because the cdfmanager somehow handles the creation of the `agencyID`, `vpsCertId`, `Cert2100Id`, `CMSId`, and `caCertId`. I think that when API Gateway is queried, it calls a subsequent lambda, but the cdf manager calls that lambda itself. There is something wrong different with the way they do this, so the automatic creation does not work.\n",
    "\n",
    "### cdfmanager should be used to create Agency"
   ]
  },
  {
   "cell_type": "code",
   "execution_count": null,
   "metadata": {},
   "outputs": [],
   "source": [
    "# from gtt.service.asset_library import Agency\n",
    "# from typing import Optional\n",
    "# from pydantic import Field\n",
    "\n",
    "# class AgencyWriter(Agency):\n",
    "#     ca_cert_id: Optional[str] = Field(alias=\"caCertId\")\n",
    "#     unique_id: Optional[str] = Field(alias=\"regionGUID\")  # note name change\n",
    "\n",
    "#     def create(self):\n",
    "#         data = {\n",
    "#             \"attributes\": {\n",
    "#                 \"city\": self.city,\n",
    "#                 \"state\": self.state,\n",
    "#                 \"timezone\": self.timezone,\n",
    "#                 \"agencyCode\": self.agency_code,\n",
    "#                 \"agencyID\": self.unique_id,\n",
    "#                 \"vpsCertId\": self.vps_cert_id,\n",
    "#                 \"Cert2100Id\": self.cert2100_id,\n",
    "#                 \"priority\": self.priority,\n",
    "#                 \"CMSId\": self.cms_id,\n",
    "#                 \"caCertId\": self.ca_cert_id,\n",
    "#                 \"displayName\": self.display_name,\n",
    "#             },\n",
    "#             \"category\": self.category,\n",
    "#             \"templateId\": self._template_id,\n",
    "#             \"name\": self.name,\n",
    "#             \"groupPath\": self.group_path,\n",
    "#             \"parentPath\": self.parent_path,\n",
    "#         }\n",
    "#         groups_url = f\"{asset_library_api.url}/groups\"\n",
    "#         asset_library_api._send_request(method=\"POST\", url=groups_url, data=data)\n"
   ]
  },
  {
   "cell_type": "code",
   "execution_count": null,
   "metadata": {},
   "outputs": [],
   "source": [
    "# cdf_backend_agency = AgencyWriter(\n",
    "#     **{\n",
    "#         \"attributes\": {\n",
    "#             \"city\": agency_config.get(\"city\", \"New York\"),\n",
    "#             \"state\": agency_config.get(\"state\", \"NY\"),\n",
    "#             \"timezone\": agency_config.get(\"timezone\", \"Eastern\"),\n",
    "#             \"agencyCode\": agency_config.get(\"agencyCode\", 250),\n",
    "#             \"agencyID\": agency_config.get(\"agencyID\", \"NULL_GUID\"),\n",
    "#             \"vpsCertId\": agency_config.get(\"vpsCertId\", \"NULL_CERT\"),\n",
    "#             \"Cert2100Id\": agency_config.get(\"Cert2100Id\", \"NULL_CERT\"),\n",
    "#             \"priority\": agency_config.get(\"priority\", \"Low\"),\n",
    "#             \"CMSId\": agency_config.get(\"CMSId\", \"NULL_GUID\"),\n",
    "#             \"caCertId\": agency_config.get(\"caCertId\", \"NULL_CA\"),\n",
    "#             \"displayName\": agency_config.get(\"displayName\", agency_name),\n",
    "#         },\n",
    "#         \"category\": \"group\",\n",
    "#         \"templateId\": \"agency\",\n",
    "#         \"name\": agency_name,\n",
    "#         \"groupPath\": f\"/{agency_name.lower()}/{agency_name.lower()}\",\n",
    "#         \"parentPath\": f\"/{agency_name.lower()}\",\n",
    "#         \"description\": agency_config.get(\"description\", f\"agency for {agency_name}\"),\n",
    "#     }\n",
    "# )\n",
    "# cdf_backend_agency.create()"
   ]
  },
  {
   "cell_type": "code",
   "execution_count": null,
   "metadata": {},
   "outputs": [],
   "source": [
    "agency = asset_library_api.get_agency(agency_name, agency_name)"
   ]
  },
  {
   "cell_type": "markdown",
   "metadata": {},
   "source": [
    "## Vehicle\n",
    "Create Vehicles under the agency group"
   ]
  },
  {
   "cell_type": "code",
   "execution_count": null,
   "metadata": {},
   "outputs": [],
   "source": [
    "from gtt.service.asset_library import Vehicle\n",
    "from botocore.compat import quote\n",
    "import json\n",
    "\n",
    "class VehicleWriter(Vehicle):\n",
    "    def create(self):\n",
    "        data = {\n",
    "            \"attributes\": {\n",
    "                \"VID\": int(self.VID),\n",
    "                \"name\": self.name,\n",
    "                \"priority\": self.priority,\n",
    "                \"type\": self.type_,\n",
    "                \"class\": int(self.class_),\n",
    "                \"uniqueId\": self.unique_id,\n",
    "            },\n",
    "            \"description\": self.description,\n",
    "            \"category\": self.category,\n",
    "            \"templateId\": self._template_id,\n",
    "            \"state\": self.state,\n",
    "            \"deviceId\": self.device_id,\n",
    "            \"groups\": {\n",
    "                \"out\": {\"ownedby\": [f\"/{agency_name}/{agency_name}\"]}\n",
    "            },\n",
    "            \"devices\": {\n",
    "                \"out\": {\"installedat\": self.installed_device_ids}\n",
    "            },\n",
    "        }\n",
    "        devices_url = f\"{asset_library_api.url}/devices\"\n",
    "        asset_library_api._send_request(method=\"POST\", url=devices_url, data=data)\n"
   ]
  },
  {
   "cell_type": "code",
   "execution_count": null,
   "metadata": {},
   "outputs": [],
   "source": [
    "# import uuid\n",
    "# new_uuid = uuid.uuid1()\n",
    "new_uuid = \"cd7a00b5-0000-0000-0000-000000000000\"\n",
    "\n",
    "def vehicle_uuid(vehicle_id):\n",
    "    return f\"{str(new_uuid)[0:8]}-{int(vehicle_id):04d}-{str(new_uuid)[14:]}\"\n",
    "\n",
    "for vehicle_id in gtfs_realtime_vehicle_ids:\n",
    "    vehicle_dict = {\n",
    "        \"description\": f\"{agency_name} vehicle {vehicle_id}\",\n",
    "        \"category\": \"device\",\n",
    "        \"templateId\": \"vehiclev2\",\n",
    "        \"state\": \"active\",\n",
    "        \"deviceId\": f\"{agency_name}-vehicle-{vehicle_id}\",\n",
    "        \"attributes\": {\n",
    "            \"VID\": vehicle_id,\n",
    "            \"name\": f\"vehicle-{vehicle_id}\",\n",
    "            \"priority\": \"Low\",\n",
    "            \"type\": \"Bus\",\n",
    "            \"class\": 10,\n",
    "            \"uniqueId\": vehicle_uuid(vehicle_id),\n",
    "        },\n",
    "        \"groups\": {\"ownedby\": [f\"/{agency_name}/{agency_name}\"]},\n",
    "        \"devices\": {\"installedat\": []},\n",
    "    }\n",
    "    try:\n",
    "        VehicleWriter.parse_obj(vehicle_dict).create()\n",
    "    except ValueError as e:\n",
    "        if '{\"error\":\"Item already exists\"}' in str(e):\n",
    "            # print(f\"{vehicle_id} already exists, skipping\")\n",
    "            continue\n",
    "        else:\n",
    "            raise e"
   ]
  },
  {
   "cell_type": "code",
   "execution_count": null,
   "metadata": {},
   "outputs": [],
   "source": [
    "# from gtt.service.asset_library import Vehicle\n",
    "\n",
    "# vehicles = sorted(\n",
    "#     [\n",
    "#         asset_library_api.get_device(f\"{agency_name}-vehicle-{vehicle_id}\")\n",
    "#         for vehicle_id in gtfs_realtime_vehicle_ids\n",
    "#     ],\n",
    "#     key=lambda v: v.VID,\n",
    "# )"
   ]
  },
  {
   "cell_type": "markdown",
   "metadata": {},
   "source": [
    "## IntegrationCom\n",
    "Create IntegrationComs under the agency group"
   ]
  },
  {
   "cell_type": "code",
   "execution_count": null,
   "metadata": {},
   "outputs": [],
   "source": [
    "from gtt.service.asset_library import IntegrationCom\n",
    "\n",
    "class IntegrationComWriter(IntegrationCom):\n",
    "    def create(self):\n",
    "        data = {\n",
    "            \"attributes\": {\n",
    "                \"serial\": self.serial,\n",
    "                \"gttSerial\": self.gtt_serial,\n",
    "                \"addressMAC\": self.address_mac,\n",
    "                \"uniqueId\": self.unique_id,\n",
    "                \"preemptionLicense\": self.license,\n",
    "                \"integration\": self.integration,\n",
    "            },\n",
    "            \"description\": self.description,\n",
    "            \"category\": self.category,\n",
    "            \"templateId\": self._template_id,\n",
    "            \"state\": self.state,\n",
    "            \"deviceId\": self.device_id,\n",
    "            \"groups\": {\n",
    "                \"out\": {\"ownedby\": [f\"/{agency_name}/{agency_name}\"]}\n",
    "            },\n",
    "            \"devices\": {\n",
    "                \"in\": {\"installedat\": [self.vehicle_id] if self.vehicle_id else []}\n",
    "            },\n",
    "        }\n",
    "        devices_url = f\"{asset_library_api.url}/devices\"\n",
    "        asset_library_api._send_request(method=\"POST\", url=devices_url, data=data)\n",
    "\n"
   ]
  },
  {
   "cell_type": "code",
   "execution_count": null,
   "metadata": {},
   "outputs": [],
   "source": [
    "# import uuid\n",
    "# new_uuid = uuid.uuid1()\n",
    "new_uuid = \"cd7a001c-0000-0000-0000-000000000000\"\n",
    "\n",
    "def ic_uuid(vehicle_id):\n",
    "    return f\"{str(new_uuid)[0:8]}-{int(vehicle_id):04d}-{str(new_uuid)[14:]}\"\n",
    "\n",
    "def ic_mac(vehicle_id):\n",
    "    octet0 = f\"{int(vehicle_id):04d}\"[0:2]\n",
    "    octet1 = f\"{int(vehicle_id):04d}\"[2:4]\n",
    "    return f\"00:00:00:d0:{octet0}:{octet1}\"\n",
    "\n",
    "for vehicle_id in gtfs_realtime_vehicle_ids:\n",
    "    vehicle_dict = {\n",
    "        \"description\": f\"{agency_name} gtfs-realtime device {vehicle_id}\",\n",
    "        \"category\": \"device\",\n",
    "        \"templateId\": \"integrationcom\",\n",
    "        \"state\": \"active\",\n",
    "        \"deviceId\": f\"{agency_name}-gtfs-realtime-{vehicle_id}\",\n",
    "        \"attributes\": {\n",
    "            \"serial\": vehicle_id,\n",
    "            \"gttSerial\": vehicle_id,\n",
    "            \"addressMAC\": ic_mac(vehicle_id),\n",
    "            \"uniqueId\": ic_uuid(vehicle_id),\n",
    "            \"preemptionLicense\": \"pending\",\n",
    "            \"integration\": \"gtfs-realtime\",\n",
    "        },\n",
    "        \"groups\": {\"ownedby\": [f\"/{agency_name}/{agency_name}\"]},\n",
    "        \"devices\": {\"installedat\": []},\n",
    "    }\n",
    "    try:\n",
    "        IntegrationComWriter.parse_obj(vehicle_dict).create()\n",
    "    except ValueError as e:\n",
    "        if '{\"error\":\"Item already exists\"}' in str(e):\n",
    "            # print(f\"{vehicle_id} already exists, skipping\")\n",
    "            continue\n",
    "        else:\n",
    "            raise"
   ]
  },
  {
   "cell_type": "code",
   "execution_count": null,
   "metadata": {},
   "outputs": [],
   "source": [
    "# from gtt.service.asset_library import IntegrationCom\n",
    "\n",
    "# integration_coms = sorted(\n",
    "#     [\n",
    "#         asset_library_api.get_device(f\"{agency_name}-gtfs-realtime-{vehicle_id}\")\n",
    "#         for vehicle_id in gtfs_realtime_vehicle_ids\n",
    "#     ],\n",
    "#     key=lambda ic: int(ic.serial),\n",
    "# )"
   ]
  },
  {
   "cell_type": "markdown",
   "metadata": {},
   "source": [
    "## Associate Vehicles and IntegrationComs"
   ]
  },
  {
   "cell_type": "code",
   "execution_count": null,
   "metadata": {},
   "outputs": [],
   "source": [
    "from gtt.service.asset_library import AssetLibraryBaseModel\n",
    "\n",
    "for vehicle_id in gtfs_realtime_vehicle_ids:\n",
    "    vehicle_device_id = f\"{agency_name}-vehicle-{vehicle_id}\"\n",
    "    integration_com_device_id = f\"{agency_name}-gtfs-realtime-{vehicle_id}\"\n",
    "    asset_library_api._send_request(\n",
    "        method=\"PUT\",\n",
    "        url=(\n",
    "            f\"{asset_library_api.url}/devices/{vehicle_device_id}\"\n",
    "            f\"/installedat/devices/{integration_com_device_id}\"\n",
    "        )\n",
    "    )"
   ]
  },
  {
   "cell_type": "markdown",
   "metadata": {},
   "source": [
    "## Check Asset Library\n",
    "Load vehicle/integration com assets and ensure they are associated"
   ]
  },
  {
   "cell_type": "code",
   "execution_count": null,
   "metadata": {},
   "outputs": [],
   "source": [
    "from gtt.service.asset_library import Vehicle, IntegrationCom\n",
    "\n",
    "vehicles = sorted(\n",
    "    [\n",
    "        asset_library_api.get_device(f\"{agency_name}-vehicle-{vehicle_id}\")\n",
    "        for vehicle_id in gtfs_realtime_vehicle_ids\n",
    "    ],\n",
    "    key=lambda v: v.VID,\n",
    ")\n",
    "\n",
    "integration_coms = sorted(\n",
    "    [\n",
    "        asset_library_api.get_device(f\"{agency_name}-gtfs-realtime-{vehicle_id}\")\n",
    "        for vehicle_id in gtfs_realtime_vehicle_ids\n",
    "    ],\n",
    "    key=lambda ic: int(ic.serial),\n",
    ")\n"
   ]
  },
  {
   "cell_type": "code",
   "execution_count": null,
   "metadata": {},
   "outputs": [],
   "source": [
    "for vehicle, integration_com in zip(vehicles, integration_coms):\n",
    "    assert vehicle.integration_com == integration_com\n",
    "    assert vehicle == integration_com.vehicle"
   ]
  },
  {
   "cell_type": "code",
   "execution_count": null,
   "metadata": {},
   "outputs": [],
   "source": [
    "from gtt.service.asset_library import Agency\n",
    "\n",
    "agency = asset_library_api.get_agency(agency_name, agency_name)\n",
    "assert all(\n",
    "    d in agency.devices for d in (vehicles + integration_coms)\n",
    ")"
   ]
  },
  {
   "cell_type": "markdown",
   "metadata": {},
   "source": [
    "## Feature Persistence"
   ]
  },
  {
   "cell_type": "code",
   "execution_count": null,
   "metadata": {},
   "outputs": [],
   "source": [
    "agency_config"
   ]
  },
  {
   "cell_type": "code",
   "execution_count": null,
   "metadata": {},
   "outputs": [],
   "source": [
    "import requests, json\n",
    "\n",
    "feature_api_url = \"https://2g4ct7tedk.execute-api.us-east-1.amazonaws.com/default/FeaturePersistence\"\n",
    "\n",
    "requests.post(\n",
    "    feature_api_url,\n",
    "    json={\n",
    "        agency_name: {\n",
    "            \"Features\": {\n",
    "                \"gtfs-realtime\": {\n",
    "                    \"alerts_url\": agency_config.get(\"alerts_url\"),\n",
    "                    \"trip_updates_url\": agency_config.get(\"trip_updates_url\"),\n",
    "                    \"vehicle_positions_url\": agency_config.get(\"vehicle_positions_url\"),\n",
    "                    \"vehicle_id_field\": agency_config.get(\"vehicle_id_field\"),\n",
    "                }\n",
    "            }\n",
    "        }\n",
    "    },\n",
    ").content"
   ]
  },
  {
   "cell_type": "code",
   "execution_count": null,
   "metadata": {},
   "outputs": [],
   "source": [
    "requests.get(feature_api_url, params={\"AgencyGUID\": agency_name}).content"
   ]
  }
 ],
 "metadata": {
  "language_info": {
   "name": "python"
  }
 },
 "nbformat": 4,
 "nbformat_minor": 2
}
