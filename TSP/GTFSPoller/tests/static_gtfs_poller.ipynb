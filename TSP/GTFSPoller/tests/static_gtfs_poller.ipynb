{
 "cells": [
  {
   "cell_type": "markdown",
   "metadata": {},
   "source": [
    "# TSP / GTFSPoller\n",
    "\n",
    "## Setup"
   ]
  },
  {
   "cell_type": "code",
   "execution_count": 1,
   "metadata": {},
   "outputs": [],
   "source": [
    "import os\n",
    "import sys\n",
    "import logging\n",
    "import warnings\n",
    "\n",
    "root_path = os.path.abspath(f\"{os.path.abspath('')}/..\")\n",
    "\n",
    "# Show INFO messages and supress auto-reload import warnings\n",
    "logging.getLogger().setLevel(logging.INFO)\n",
    "warnings.filterwarnings(\"ignore\")"
   ]
  },
  {
   "cell_type": "code",
   "execution_count": 2,
   "metadata": {},
   "outputs": [
    {
     "name": "stdout",
     "output_type": "stream",
     "text": [
      "Note: you may need to restart the kernel to use updated packages.\n",
      "Note: you may need to restart the kernel to use updated packages.\n",
      "Note: you may need to restart the kernel to use updated packages.\n",
      "Note: you may need to restart the kernel to use updated packages.\n"
     ]
    }
   ],
   "source": [
    "# Libraries\n",
    "sys.path.insert(0, root_path)\n",
    "sys.path.insert(0, f\"{root_path}/CDFAndIoT/Service/AssetLibrary\")\n",
    "sys.path.insert(0, f\"{root_path}/CDFAndIoT/Service/FeaturePersistence\")\n",
    "\n",
    "%pip install boto3 &> /dev/null\n",
    "%pip install 'botocore[crt]' &> /dev/null\n",
    "%pip install pydantic &> /dev/null\n",
    "%pip install redis &> /dev/null\n",
    "%load_ext autoreload\n",
    "%autoreload 2"
   ]
  },
  {
   "cell_type": "code",
   "execution_count": 3,
   "metadata": {},
   "outputs": [
    {
     "name": "stdout",
     "output_type": "stream",
     "text": [
      "Processing ./smart-city-platform/CDFAndIoT/Service/AssetLibrary\n",
      "  Preparing metadata (setup.py) ... \u001b[?25ldone\n",
      "\u001b[?25hProcessing ./smart-city-platform/CDFAndIoT/Service/FeaturePersistence\n",
      "  Preparing metadata (setup.py) ... \u001b[?25ldone\n",
      "\u001b[?25hRequirement already satisfied: boto3 in ./smart-city-platform/.venv/lib/python3.9/site-packages (from -r smart-city-platform/TSP/GTFSPoller/requirements.txt (line 1)) (1.22.6)\n",
      "Requirement already satisfied: pydantic in ./smart-city-platform/.venv/lib/python3.9/site-packages (from -r smart-city-platform/TSP/GTFSPoller/requirements.txt (line 2)) (1.9.1)\n",
      "Requirement already satisfied: sqlalchemy in ./smart-city-platform/.venv/lib/python3.9/site-packages (from -r smart-city-platform/TSP/GTFSPoller/requirements.txt (line 3)) (1.4.42)\n",
      "Requirement already satisfied: pandas in ./smart-city-platform/.venv/lib/python3.9/site-packages (from -r smart-city-platform/TSP/GTFSPoller/requirements.txt (line 4)) (1.4.2)\n",
      "Requirement already satisfied: urllib3 in ./smart-city-platform/.venv/lib/python3.9/site-packages (from -r smart-city-platform/TSP/GTFSPoller/requirements.txt (line 5)) (1.26.12)\n",
      "Requirement already satisfied: requests in ./smart-city-platform/.venv/lib/python3.9/site-packages (from -r smart-city-platform/TSP/GTFSPoller/requirements.txt (line 6)) (2.27.1)\n",
      "Requirement already satisfied: psycopg2-binary in ./smart-city-platform/.venv/lib/python3.9/site-packages (from -r smart-city-platform/TSP/GTFSPoller/requirements.txt (line 7)) (2.9.5)\n",
      "Requirement already satisfied: pyarrow in ./smart-city-platform/.venv/lib/python3.9/site-packages (from -r smart-city-platform/TSP/GTFSPoller/requirements.txt (line 8)) (7.0.0)\n",
      "Requirement already satisfied: jmespath<2.0.0,>=0.7.1 in ./smart-city-platform/.venv/lib/python3.9/site-packages (from boto3->-r smart-city-platform/TSP/GTFSPoller/requirements.txt (line 1)) (1.0.1)\n",
      "Requirement already satisfied: s3transfer<0.6.0,>=0.5.0 in ./smart-city-platform/.venv/lib/python3.9/site-packages (from boto3->-r smart-city-platform/TSP/GTFSPoller/requirements.txt (line 1)) (0.5.2)\n",
      "Requirement already satisfied: botocore<1.26.0,>=1.25.6 in ./smart-city-platform/.venv/lib/python3.9/site-packages (from boto3->-r smart-city-platform/TSP/GTFSPoller/requirements.txt (line 1)) (1.25.13)\n",
      "Requirement already satisfied: typing-extensions>=3.7.4.3 in ./smart-city-platform/.venv/lib/python3.9/site-packages (from pydantic->-r smart-city-platform/TSP/GTFSPoller/requirements.txt (line 2)) (4.4.0)\n",
      "Requirement already satisfied: greenlet!=0.4.17 in ./smart-city-platform/.venv/lib/python3.9/site-packages (from sqlalchemy->-r smart-city-platform/TSP/GTFSPoller/requirements.txt (line 3)) (1.1.3.post0)\n",
      "Requirement already satisfied: numpy>=1.18.5 in ./smart-city-platform/.venv/lib/python3.9/site-packages (from pandas->-r smart-city-platform/TSP/GTFSPoller/requirements.txt (line 4)) (1.23.4)\n",
      "Requirement already satisfied: pytz>=2020.1 in ./smart-city-platform/.venv/lib/python3.9/site-packages (from pandas->-r smart-city-platform/TSP/GTFSPoller/requirements.txt (line 4)) (2022.5)\n",
      "Requirement already satisfied: python-dateutil>=2.8.1 in ./smart-city-platform/.venv/lib/python3.9/site-packages (from pandas->-r smart-city-platform/TSP/GTFSPoller/requirements.txt (line 4)) (2.8.2)\n",
      "Requirement already satisfied: certifi>=2017.4.17 in ./smart-city-platform/.venv/lib/python3.9/site-packages (from requests->-r smart-city-platform/TSP/GTFSPoller/requirements.txt (line 6)) (2022.9.24)\n",
      "Requirement already satisfied: idna<4,>=2.5 in ./smart-city-platform/.venv/lib/python3.9/site-packages (from requests->-r smart-city-platform/TSP/GTFSPoller/requirements.txt (line 6)) (3.4)\n",
      "Requirement already satisfied: charset-normalizer~=2.0.0 in ./smart-city-platform/.venv/lib/python3.9/site-packages (from requests->-r smart-city-platform/TSP/GTFSPoller/requirements.txt (line 6)) (2.0.12)\n",
      "Processing ./smart-city-platform/CDFAndIoT/DataModel/AssetLibrary\n",
      "  Preparing metadata (setup.py) ... \u001b[?25ldone\n",
      "\u001b[?25hRequirement already satisfied: wheel in ./smart-city-platform/.venv/lib/python3.9/site-packages (from asset-library-service==0.1->-r smart-city-platform/TSP/GTFSPoller/requirements.txt (line 9)) (0.37.1)\n",
      "Requirement already satisfied: requests_aws_sign>=0.1.6 in ./smart-city-platform/.venv/lib/python3.9/site-packages (from asset-library-service==0.1->-r smart-city-platform/TSP/GTFSPoller/requirements.txt (line 9)) (0.1.6)\n",
      "Processing ./smart-city-platform/CDFAndIoT/DataModel/FeaturePersistence\n",
      "  Preparing metadata (setup.py) ... \u001b[?25ldone\n",
      "\u001b[?25hRequirement already satisfied: six>=1.5 in ./smart-city-platform/.venv/lib/python3.9/site-packages (from python-dateutil>=2.8.1->pandas->-r smart-city-platform/TSP/GTFSPoller/requirements.txt (line 4)) (1.16.0)\n",
      "Requirement already satisfied: setuptools>=57.0.0 in ./smart-city-platform/.venv/lib/python3.9/site-packages (from wheel->asset-library-service==0.1->-r smart-city-platform/TSP/GTFSPoller/requirements.txt (line 9)) (62.3.2)\n",
      "Building wheels for collected packages: asset-library-service, feature-persistence-service, asset-library-data-model, feature-persistence-data-model\n",
      "  Building wheel for asset-library-service (setup.py) ... \u001b[?25ldone\n",
      "\u001b[?25h  Created wheel for asset-library-service: filename=asset_library_service-0.1-py3-none-any.whl size=6202 sha256=733b2fda9baa00f8f12bcc3f0cdb181f8dd0035361a1e5abf2b55d3f21ffa384\n",
      "  Stored in directory: /private/var/folders/xw/5zwlx8916jq335w_m4d819s00000gp/T/pip-ephem-wheel-cache-38wrushq/wheels/a8/b0/39/b1c9df2e3b5707112eb8afb118486591a23966a43464a1f441\n",
      "  Building wheel for feature-persistence-service (setup.py) ... \u001b[?25ldone\n",
      "\u001b[?25h  Created wheel for feature-persistence-service: filename=feature_persistence_service-0.1-py3-none-any.whl size=4707 sha256=7aea98bec28e5d8a7d45fea31c9148a3e3859670eca51544ac41192be2544f32\n",
      "  Stored in directory: /private/var/folders/xw/5zwlx8916jq335w_m4d819s00000gp/T/pip-ephem-wheel-cache-38wrushq/wheels/44/cb/32/1bc7bae09e0e218b4a6c596c9391b8a48c89ed8a646ce3c0bf\n",
      "  Building wheel for asset-library-data-model (setup.py) ... \u001b[?25ldone\n",
      "\u001b[?25h  Created wheel for asset-library-data-model: filename=asset_library_data_model-0.1-py3-none-any.whl size=3655 sha256=8b6fcf3c330abc22ff3ebf404f23e9525e97af82a6e5724f2a5b3958f079d7a1\n",
      "  Stored in directory: /private/var/folders/xw/5zwlx8916jq335w_m4d819s00000gp/T/pip-ephem-wheel-cache-38wrushq/wheels/08/0a/e8/aa610b6478b8404eecde5bd3287d0fa95cc24707241bb3c16e\n",
      "  Building wheel for feature-persistence-data-model (setup.py) ... \u001b[?25ldone\n",
      "\u001b[?25h  Created wheel for feature-persistence-data-model: filename=feature_persistence_data_model-0.1-py3-none-any.whl size=4006 sha256=9a27b85048c69e85a799b18e2f453c6f07c4594cbb09271b8ba2f845fb88e5dc\n",
      "  Stored in directory: /private/var/folders/xw/5zwlx8916jq335w_m4d819s00000gp/T/pip-ephem-wheel-cache-38wrushq/wheels/fa/c8/b0/af2bc5662ff6928a21bdd340ce9258bb0d6c0765974ef72b18\n",
      "Successfully built asset-library-service feature-persistence-service asset-library-data-model feature-persistence-data-model\n",
      "Installing collected packages: feature-persistence-data-model, asset-library-data-model, feature-persistence-service, asset-library-service\n",
      "  Attempting uninstall: feature-persistence-data-model\n",
      "    Found existing installation: feature-persistence-data-model 0.1\n",
      "    Uninstalling feature-persistence-data-model-0.1:\n",
      "      Successfully uninstalled feature-persistence-data-model-0.1\n",
      "  Attempting uninstall: asset-library-data-model\n",
      "    Found existing installation: asset-library-data-model 0.1\n",
      "    Uninstalling asset-library-data-model-0.1:\n",
      "      Successfully uninstalled asset-library-data-model-0.1\n",
      "  Attempting uninstall: feature-persistence-service\n",
      "    Found existing installation: feature-persistence-service 0.1\n",
      "    Uninstalling feature-persistence-service-0.1:\n",
      "      Successfully uninstalled feature-persistence-service-0.1\n",
      "  Attempting uninstall: asset-library-service\n",
      "    Found existing installation: asset-library-service 0.1\n",
      "    Uninstalling asset-library-service-0.1:\n",
      "      Successfully uninstalled asset-library-service-0.1\n",
      "Successfully installed asset-library-data-model-0.1 asset-library-service-0.1 feature-persistence-data-model-0.1 feature-persistence-service-0.1\n",
      "\u001b[33mWARNING: There was an error checking the latest version of pip.\u001b[0m\u001b[33m\n",
      "\u001b[0m"
     ]
    }
   ],
   "source": [
    "!(cd ../../../.. && pip install -r smart-city-platform/TSP/GTFSPoller/requirements.txt)"
   ]
  },
  {
   "cell_type": "markdown",
   "metadata": {},
   "source": [
    "## Manager"
   ]
  },
  {
   "cell_type": "code",
   "execution_count": 4,
   "metadata": {},
   "outputs": [
    {
     "name": "stdout",
     "output_type": "stream",
     "text": [
      "Requirement already satisfied: psycopg2-binary in /Users/Jacob/Documents/Code/smart-city-platform/.venv/lib/python3.9/site-packages (2.9.5)\n",
      "\u001b[33mWARNING: There was an error checking the latest version of pip.\u001b[0m\u001b[33m\n",
      "\u001b[0mNote: you may need to restart the kernel to use updated packages.\n"
     ]
    }
   ],
   "source": [
    "%pip install psycopg2-binary"
   ]
  },
  {
   "cell_type": "code",
   "execution_count": 5,
   "metadata": {},
   "outputs": [],
   "source": [
    "import boto3\n",
    "import logging\n",
    "\n",
    "logging.getLogger().setLevel(logging.INFO)\n",
    "boto3.setup_default_session(\n",
    "    profile_name=\"dev\",\n",
    "    region_name=\"us-east-1\",\n",
    ")"
   ]
  },
  {
   "cell_type": "code",
   "execution_count": 8,
   "metadata": {},
   "outputs": [
    {
     "name": "stderr",
     "output_type": "stream",
     "text": [
      "INFO:botocore.credentials:Found credentials in shared credentials file: ~/.aws/credentials\n",
      "INFO:root:Agencies using ASM: {'0537199e-e853-11ec-a8b8-f65b686c7d91': {'trip_delay_threshold': 120, 'static_gtfs_url': 'https://tspincloud.s3.amazonaws.com/static-gtfs.zip', 'agency_name': 'RABA'}, 'a05fde4c-efb7-46e1-95eb-81f2a27da320': {'RABA': 'https://transitfeeds.com/p/redding-area-bus-authority/346/latest/download'}, 'b596b9bc-c0e3-11ec-9778-0ab78be9c0a6': {'delay_threshold': 2, 'static_gtfs_url': 'https://transitfeeds.com/p/county-connection/222/latest/download', 'agency_name': 'cdta'}}\n",
      "INFO:root:Polling agency_id='0537199e-e853-11ec-a8b8-f65b686c7d91', agency= 'RABA'\n",
      "INFO:root:Latest GTFS is saved to local storage\n",
      "INFO:root:No existing static GTFS for agency\n",
      "INFO:root:New Static GTFS data found. Validating the file\n",
      "INFO:root:Writing files for 0537199e-e853-11ec-a8b8-f65b686c7d91 to aurora\n",
      "INFO:root:Updating 'fare_attributes'\n",
      "ERROR:root:Error while processing the file: In CSV column #2: CSV conversion error to int64: invalid value '1.50'\n",
      "ERROR:root:Failed to update table 'fare_attributes': In CSV column #2: CSV conversion error to int64: invalid value '1.50'\n",
      "INFO:root:Updating 'transfers'\n",
      "INFO:root:Updating 'agency'\n",
      "INFO:root:Updating 'fare_rules'\n",
      "INFO:root:Updating 'calendar_dates'\n",
      "INFO:root:Updating 'stop_times'\n",
      "INFO:root:Updating 'frequencies'\n",
      "INFO:root:Updating 'shapes'\n",
      "INFO:root:Updating 'trips'\n",
      "INFO:root:Updating 'feed_info'\n",
      "INFO:root:Updating 'stops'\n",
      "INFO:root:Updating 'calendar'\n",
      "INFO:root:Updating 'routes'\n",
      "INFO:root:GTFS feed processed succesfully\n",
      "INFO:root:Backing up each table file\n",
      "INFO:root:Backing up to agency_guid=0537199e-e853-11ec-a8b8-f65b686c7d91/utc_date=2022-12-13\n",
      "INFO:root:Backing up to agency_guid=0537199e-e853-11ec-a8b8-f65b686c7d91/utc_date=2022-12-13\n",
      "INFO:root:Backing up to agency_guid=0537199e-e853-11ec-a8b8-f65b686c7d91/utc_date=2022-12-13\n",
      "INFO:root:Backing up to agency_guid=0537199e-e853-11ec-a8b8-f65b686c7d91/utc_date=2022-12-13\n",
      "INFO:root:Backing up to agency_guid=0537199e-e853-11ec-a8b8-f65b686c7d91/utc_date=2022-12-13\n",
      "INFO:root:Backing up to agency_guid=0537199e-e853-11ec-a8b8-f65b686c7d91/utc_date=2022-12-13\n",
      "INFO:root:Backing up to agency_guid=0537199e-e853-11ec-a8b8-f65b686c7d91/utc_date=2022-12-13\n",
      "INFO:root:Backing up to agency_guid=0537199e-e853-11ec-a8b8-f65b686c7d91/utc_date=2022-12-13\n",
      "INFO:root:Backing up to agency_guid=0537199e-e853-11ec-a8b8-f65b686c7d91/utc_date=2022-12-13\n",
      "INFO:root:Backing up to agency_guid=0537199e-e853-11ec-a8b8-f65b686c7d91/utc_date=2022-12-13\n",
      "INFO:root:Backing up to agency_guid=0537199e-e853-11ec-a8b8-f65b686c7d91/utc_date=2022-12-13\n",
      "INFO:root:Backing up to agency_guid=0537199e-e853-11ec-a8b8-f65b686c7d91/utc_date=2022-12-13\n",
      "INFO:root:Backing up zip file\n",
      "INFO:root:Message sent to EventBridge. Response: {'FailedEntryCount': 0, 'Entries': [{'EventId': '1492c420-cfea-8fa4-241c-1446324b96dd'}], 'ResponseMetadata': {'RequestId': 'e36ade4b-4039-4850-884c-94fbb44a1724', 'HTTPStatusCode': 200, 'HTTPHeaders': {'x-amzn-requestid': 'e36ade4b-4039-4850-884c-94fbb44a1724', 'content-type': 'application/x-amz-json-1.1', 'content-length': '85', 'date': 'Tue, 13 Dec 2022 20:52:15 GMT'}, 'RetryAttempts': 0}}\n"
     ]
    },
    {
     "ename": "KeyboardInterrupt",
     "evalue": "",
     "output_type": "error",
     "traceback": [
      "\u001b[0;31m---------------------------------------------------------------------------\u001b[0m",
      "\u001b[0;31mKeyboardInterrupt\u001b[0m                         Traceback (most recent call last)",
      "Cell \u001b[0;32mIn [8], line 3\u001b[0m\n\u001b[1;32m      1\u001b[0m \u001b[39mfrom\u001b[39;00m \u001b[39mstatic_gtfs_poller\u001b[39;00m \u001b[39mimport\u001b[39;00m main\n\u001b[0;32m----> 3\u001b[0m main(\n\u001b[1;32m      4\u001b[0m     bucket_name\u001b[39m=\u001b[39;49m\u001b[39m\"\u001b[39;49m\u001b[39mstatic-gtfs-develop\u001b[39;49m\u001b[39m\"\u001b[39;49m,\n\u001b[1;32m      5\u001b[0m     aurora_secret_name\u001b[39m=\u001b[39;49m\u001b[39m\"\u001b[39;49m\u001b[39mdevelop/aurora/asmgtfs\u001b[39;49m\u001b[39m\"\u001b[39;49m\n\u001b[1;32m      6\u001b[0m )\n",
      "File \u001b[0;32m~/Documents/Code/smart-city-platform/TSP/GTFSPoller/static_gtfs_poller.py:126\u001b[0m, in \u001b[0;36mmain\u001b[0;34m(**kwargs)\u001b[0m\n\u001b[1;32m    123\u001b[0m static_gtfs_manager \u001b[39m=\u001b[39m StaticGtfsPoller(feature_persistence_api, static_gtfs_service)\n\u001b[1;32m    124\u001b[0m static_gtfs_manager\u001b[39m.\u001b[39msubscribe(event_bridge_trigger\u001b[39m.\u001b[39minvalidate_static_gtfs)\n\u001b[0;32m--> 126\u001b[0m static_gtfs_manager\u001b[39m.\u001b[39;49mpoll()\n",
      "File \u001b[0;32m~/Documents/Code/smart-city-platform/TSP/GTFSPoller/static_gtfs_poller.py:78\u001b[0m, in \u001b[0;36mStaticGtfsPoller.poll\u001b[0;34m(self)\u001b[0m\n\u001b[1;32m     75\u001b[0m     \u001b[39mexcept\u001b[39;00m \u001b[39mException\u001b[39;00m \u001b[39mas\u001b[39;00m e:\n\u001b[1;32m     76\u001b[0m         logging\u001b[39m.\u001b[39mexception(\u001b[39mf\u001b[39m\u001b[39m\"\u001b[39m\u001b[39mFailed to load agency static GTFS: \u001b[39m\u001b[39m{\u001b[39;00me\u001b[39m}\u001b[39;00m\u001b[39m\"\u001b[39m)\n\u001b[0;32m---> 78\u001b[0m sleep(\u001b[39m5\u001b[39;49m)\n",
      "\u001b[0;31mKeyboardInterrupt\u001b[0m: "
     ]
    }
   ],
   "source": [
    "from static_gtfs_poller import main\n",
    "\n",
    "main(\n",
    "    bucket_name=\"static-gtfs-develop\",\n",
    "    aurora_secret_name=\"develop/aurora/asmgtfs\"\n",
    ")"
   ]
  }
 ],
 "metadata": {
  "kernelspec": {
   "display_name": "Python 3.9.13 ('.venv': venv)",
   "language": "python",
   "name": "python3"
  },
  "language_info": {
   "codemirror_mode": {
    "name": "ipython",
    "version": 3
   },
   "file_extension": ".py",
   "mimetype": "text/x-python",
   "name": "python",
   "nbconvert_exporter": "python",
   "pygments_lexer": "ipython3",
   "version": "3.9.13"
  },
  "vscode": {
   "interpreter": {
    "hash": "525beb34e723fb2cb1596bdbd80ba19800ec7628ec1f40ee9eefd56548a559bf"
   }
  }
 },
 "nbformat": 4,
 "nbformat_minor": 4
}
